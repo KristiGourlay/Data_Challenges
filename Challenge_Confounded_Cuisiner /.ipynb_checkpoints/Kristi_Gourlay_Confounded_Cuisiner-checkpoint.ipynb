{
 "cells": [
  {
   "cell_type": "markdown",
   "metadata": {},
   "source": [
    "# Introduction to Data Challenge #1: Confounded Cuisiner"
   ]
  },
  {
   "cell_type": "markdown",
   "metadata": {},
   "source": [
    "As a member of the data team of an online publishing company, I have been assigned to a group interested in building a feature for a food publication that enables users to query recipes by cuisine. The first challenge, however, is that all the recipes are unlabeled, and due to the sheer volume, it is infeasible to label them by hand.\n",
    "\n",
    "Using Natural Language Processing (NLP) and unsupervised methods, such as KMeans, Prinipal Component Analysis (PCA), and Latent Dirochlet Allocation (LDA), I have been tasked with grouping recipes by cuisine style. The food publication and the manager have clarified that in addition to grouping recipes by cuisine style, they are also interested in knowing:"
   ]
  },
  {
   "cell_type": "markdown",
   "metadata": {},
   "source": [
    "* Whether it is possible to design this to be robust enough to understand similarities/subsitutions of ingredients\n",
    "* What are the driving ingredients that define each cuisine style?\n",
    "* How to write a guideline for an outsourced team to hand label the remaining corpus?\n",
    "\n",
    "\n",
    "The following code attempts multiple models to group similar recipes by cuisine style and is grouped into the following sections:"
   ]
  },
  {
   "cell_type": "markdown",
   "metadata": {},
   "source": [
    "* [EDA](#EDA)<a href='#EDA'>\n",
    "    \n",
    "* [Text Cleaning](#TC)<a href='#TC'>\n",
    "    \n",
    "* [KMeans with Bag of words](#cv)<a href='#cv'>\n",
    "    \n",
    "* [KMeans with Tf-idf](#tv)<a href='#tv'>\n",
    "    \n",
    "* [Latent Dirochlet Allocation](#LDA)<a href='#LDA'>\n",
    "    \n",
    "* [Conclusion](#Conclusion)<a href='#Conclusion'>"
   ]
  },
  {
   "cell_type": "markdown",
   "metadata": {},
   "source": [
    "# Libraries and Data"
   ]
  },
  {
   "cell_type": "code",
   "execution_count": 26,
   "metadata": {},
   "outputs": [],
   "source": [
    "import pandas as pd\n",
    "import numpy as np\n",
    "import matplotlib.pyplot as plt\n",
    "import altair as alt\n",
    "alt.renderers.enable('notebook')\n",
    "import pylab as pl\n",
    "\n",
    "import pyLDAvis.sklearn\n",
    "pyLDAvis.enable_notebook()\n",
    "\n",
    "from nltk.tokenize import RegexpTokenizer\n",
    "import nltk\n",
    "from nltk.corpus import stopwords\n",
    "from nltk.stem import WordNetLemmatizer\n",
    "\n",
    "from sklearn.feature_extraction.text import CountVectorizer, TfidfVectorizer\n",
    "from sklearn.model_selection import train_test_split, cross_val_score, GridSearchCV\n",
    "from sklearn.cluster import KMeans\n",
    "from sklearn.decomposition import LatentDirichletAllocation as LDA, PCA"
   ]
  },
  {
   "cell_type": "code",
   "execution_count": 27,
   "metadata": {},
   "outputs": [],
   "source": [
    "df = pd.read_json('unlabelled_recipies.json')"
   ]
  },
  {
   "cell_type": "markdown",
   "metadata": {},
   "source": [
    "# EDA\n",
    "<a id='EDA'></a>"
   ]
  },
  {
   "cell_type": "code",
   "execution_count": 28,
   "metadata": {},
   "outputs": [
    {
     "data": {
      "text/html": [
       "<div>\n",
       "<style scoped>\n",
       "    .dataframe tbody tr th:only-of-type {\n",
       "        vertical-align: middle;\n",
       "    }\n",
       "\n",
       "    .dataframe tbody tr th {\n",
       "        vertical-align: top;\n",
       "    }\n",
       "\n",
       "    .dataframe thead th {\n",
       "        text-align: right;\n",
       "    }\n",
       "</style>\n",
       "<table border=\"1\" class=\"dataframe\">\n",
       "  <thead>\n",
       "    <tr style=\"text-align: right;\">\n",
       "      <th></th>\n",
       "      <th>ingredients</th>\n",
       "    </tr>\n",
       "  </thead>\n",
       "  <tbody>\n",
       "    <tr>\n",
       "      <th>0</th>\n",
       "      <td>[pepper, bacon, russet potatoes, sugar, onions...</td>\n",
       "    </tr>\n",
       "    <tr>\n",
       "      <th>1</th>\n",
       "      <td>['rib', 'carrots', 'leeks', 'unsalted butter',...</td>\n",
       "    </tr>\n",
       "    <tr>\n",
       "      <th>10</th>\n",
       "      <td>[orzo, garlic, heavy cream, white wine, spinac...</td>\n",
       "    </tr>\n",
       "    <tr>\n",
       "      <th>100</th>\n",
       "      <td>['garlic', 'ginger', 'fish sauce', 'chayotes',...</td>\n",
       "    </tr>\n",
       "    <tr>\n",
       "      <th>1000</th>\n",
       "      <td>[onions, avocado, salt, coconut cream, cumin s...</td>\n",
       "    </tr>\n",
       "  </tbody>\n",
       "</table>\n",
       "</div>"
      ],
      "text/plain": [
       "                                            ingredients\n",
       "0     [pepper, bacon, russet potatoes, sugar, onions...\n",
       "1     ['rib', 'carrots', 'leeks', 'unsalted butter',...\n",
       "10    [orzo, garlic, heavy cream, white wine, spinac...\n",
       "100   ['garlic', 'ginger', 'fish sauce', 'chayotes',...\n",
       "1000  [onions, avocado, salt, coconut cream, cumin s..."
      ]
     },
     "execution_count": 28,
     "metadata": {},
     "output_type": "execute_result"
    }
   ],
   "source": [
    "df.head()"
   ]
  },
  {
   "cell_type": "code",
   "execution_count": 29,
   "metadata": {},
   "outputs": [
    {
     "data": {
      "text/plain": [
       "ingredients    0\n",
       "dtype: int64"
      ]
     },
     "execution_count": 29,
     "metadata": {},
     "output_type": "execute_result"
    }
   ],
   "source": [
    "df.isna().sum()"
   ]
  },
  {
   "cell_type": "code",
   "execution_count": 30,
   "metadata": {},
   "outputs": [
    {
     "data": {
      "text/plain": [
       "ingredients    object\n",
       "dtype: object"
      ]
     },
     "execution_count": 30,
     "metadata": {},
     "output_type": "execute_result"
    }
   ],
   "source": [
    "df.dtypes"
   ]
  },
  {
   "cell_type": "code",
   "execution_count": 31,
   "metadata": {},
   "outputs": [
    {
     "data": {
      "text/plain": [
       "(39774, 1)"
      ]
     },
     "execution_count": 31,
     "metadata": {},
     "output_type": "execute_result"
    }
   ],
   "source": [
    "df.shape"
   ]
  },
  {
   "cell_type": "code",
   "execution_count": 32,
   "metadata": {},
   "outputs": [],
   "source": [
    "df['ingredients'] = df['ingredients'].astype(str)"
   ]
  },
  {
   "cell_type": "code",
   "execution_count": 33,
   "metadata": {},
   "outputs": [],
   "source": [
    "df = df.drop_duplicates() #There are 20 duplicates that need to be dropped."
   ]
  },
  {
   "cell_type": "code",
   "execution_count": 34,
   "metadata": {},
   "outputs": [],
   "source": [
    "df = df.reset_index()\n",
    "df = df.drop(columns=['index'])"
   ]
  },
  {
   "cell_type": "code",
   "execution_count": 35,
   "metadata": {},
   "outputs": [
    {
     "data": {
      "text/html": [
       "<div>\n",
       "<style scoped>\n",
       "    .dataframe tbody tr th:only-of-type {\n",
       "        vertical-align: middle;\n",
       "    }\n",
       "\n",
       "    .dataframe tbody tr th {\n",
       "        vertical-align: top;\n",
       "    }\n",
       "\n",
       "    .dataframe thead th {\n",
       "        text-align: right;\n",
       "    }\n",
       "</style>\n",
       "<table border=\"1\" class=\"dataframe\">\n",
       "  <thead>\n",
       "    <tr style=\"text-align: right;\">\n",
       "      <th></th>\n",
       "      <th>ingredients</th>\n",
       "    </tr>\n",
       "  </thead>\n",
       "  <tbody>\n",
       "    <tr>\n",
       "      <th>count</th>\n",
       "      <td>39754</td>\n",
       "    </tr>\n",
       "    <tr>\n",
       "      <th>unique</th>\n",
       "      <td>39754</td>\n",
       "    </tr>\n",
       "    <tr>\n",
       "      <th>top</th>\n",
       "      <td>['sugar', 'onions', 'apple cider vinegar', 'sa...</td>\n",
       "    </tr>\n",
       "    <tr>\n",
       "      <th>freq</th>\n",
       "      <td>1</td>\n",
       "    </tr>\n",
       "  </tbody>\n",
       "</table>\n",
       "</div>"
      ],
      "text/plain": [
       "                                              ingredients\n",
       "count                                               39754\n",
       "unique                                              39754\n",
       "top     ['sugar', 'onions', 'apple cider vinegar', 'sa...\n",
       "freq                                                    1"
      ]
     },
     "execution_count": 35,
     "metadata": {},
     "output_type": "execute_result"
    }
   ],
   "source": [
    "df.describe()"
   ]
  },
  {
   "cell_type": "code",
   "execution_count": 36,
   "metadata": {},
   "outputs": [
    {
     "data": {
      "text/html": [
       "<div>\n",
       "<style scoped>\n",
       "    .dataframe tbody tr th:only-of-type {\n",
       "        vertical-align: middle;\n",
       "    }\n",
       "\n",
       "    .dataframe tbody tr th {\n",
       "        vertical-align: top;\n",
       "    }\n",
       "\n",
       "    .dataframe thead th {\n",
       "        text-align: right;\n",
       "    }\n",
       "</style>\n",
       "<table border=\"1\" class=\"dataframe\">\n",
       "  <thead>\n",
       "    <tr style=\"text-align: right;\">\n",
       "      <th></th>\n",
       "      <th>ingredients</th>\n",
       "    </tr>\n",
       "  </thead>\n",
       "  <tbody>\n",
       "    <tr>\n",
       "      <th>0</th>\n",
       "      <td>['pepper', 'bacon', 'russet potatoes', 'sugar'...</td>\n",
       "    </tr>\n",
       "    <tr>\n",
       "      <th>1</th>\n",
       "      <td>['rib', 'carrots', 'leeks', 'unsalted butter',...</td>\n",
       "    </tr>\n",
       "  </tbody>\n",
       "</table>\n",
       "</div>"
      ],
      "text/plain": [
       "                                         ingredients\n",
       "0  ['pepper', 'bacon', 'russet potatoes', 'sugar'...\n",
       "1  ['rib', 'carrots', 'leeks', 'unsalted butter',..."
      ]
     },
     "execution_count": 36,
     "metadata": {},
     "output_type": "execute_result"
    }
   ],
   "source": [
    "df.head(2)"
   ]
  },
  {
   "cell_type": "code",
   "execution_count": 37,
   "metadata": {},
   "outputs": [
    {
     "data": {
      "text/plain": [
       "\"['pepper', 'bacon', 'russet potatoes', 'sugar', 'onions', 'gochugaru', 'olive oil', 'shredded cheddar cheese', 'kimchi', 'scallions', 'salt']\""
      ]
     },
     "execution_count": 37,
     "metadata": {},
     "output_type": "execute_result"
    }
   ],
   "source": [
    "df.ingredients[0]"
   ]
  },
  {
   "cell_type": "code",
   "execution_count": 38,
   "metadata": {},
   "outputs": [
    {
     "name": "stdout",
     "output_type": "stream",
     "text": [
      "The shortest recipe is 8 characters long.\n",
      "The longest recipe is 1176 characters long.\n",
      "The average recipe is 169.0 characters long.\n"
     ]
    },
    {
     "name": "stderr",
     "output_type": "stream",
     "text": [
      "/Users/kristigourlay/anaconda3/lib/python3.7/site-packages/ipykernel_launcher.py:2: UserWarning: Pandas doesn't allow columns to be created via a new attribute name - see https://pandas.pydata.org/pandas-docs/stable/indexing.html#attribute-access\n",
      "  \n"
     ]
    }
   ],
   "source": [
    "len_recipes = df.apply(lambda x: x.str.len())\n",
    "df.len_recipes = len_recipes\n",
    "print(f'The shortest recipe is {len_recipes.min()[0]} characters long.')\n",
    "print(f'The longest recipe is {len_recipes.max()[0]} characters long.')\n",
    "print(f'The average recipe is {round(len_recipes.mean()[0])} characters long.')"
   ]
  },
  {
   "cell_type": "markdown",
   "metadata": {},
   "source": [
    "# Text Cleaning\n",
    "<a id='TC'></a>"
   ]
  },
  {
   "cell_type": "markdown",
   "metadata": {},
   "source": [
    "For each recipe, I will now lower case, use regex to extract only letters, and then lemmatize to cut words down to the base word. Lemmatizing is important because for example onion and onions are the same. Originally I decided to convert all two word items (grated cheese, crumbled feta, warm milk) into hyphenated versions of the ingredient. However, after a first pass through, I realised that the root word had the most value. For example, the fact that two recipes used feta was essential and should not be considered diferent because one recipe called for 'crumbled feta', and the other just 'feta'."
   ]
  },
  {
   "cell_type": "code",
   "execution_count": 39,
   "metadata": {},
   "outputs": [],
   "source": [
    "lemmatizer = WordNetLemmatizer()\n",
    "st = df['ingredients']\n",
    "\n",
    "def clean_text(raw_text):\n",
    "    for text in raw_text:\n",
    "        lower_case = raw_text.lower()\n",
    "        retokenizer = RegexpTokenizer(r'[a-z]+')\n",
    "        words = retokenizer.tokenize(lower_case)\n",
    "#     new_words = lemmatizer.lemmatize(words)\n",
    "    new_words = \" \".join(words)\n",
    "    return new_words\n",
    "\n",
    "num_excerpts = df['ingredients'].size"
   ]
  },
  {
   "cell_type": "code",
   "execution_count": 40,
   "metadata": {},
   "outputs": [],
   "source": [
    "clean_text_recipes = []\n",
    "num_recipes = len(df['ingredients'])\n",
    "\n",
    "for i in range(0, num_recipes):\n",
    "\n",
    "    clean_text_recipes.append( clean_text( st[i] ))\n",
    "\n",
    "df['ingredients'] = clean_text_recipes"
   ]
  },
  {
   "cell_type": "code",
   "execution_count": 41,
   "metadata": {},
   "outputs": [],
   "source": [
    "ingredients = df['ingredients']"
   ]
  },
  {
   "cell_type": "code",
   "execution_count": 42,
   "metadata": {},
   "outputs": [],
   "source": [
    "def lemm_words(col_to_lemm):\n",
    "    final_sentences = []\n",
    "    for line in col_to_lemm:\n",
    "        line = line.split()\n",
    "        new_sentence = []\n",
    "        for word in line:\n",
    "            new_word = lemmatizer.lemmatize(word)\n",
    "            new_sentence.append(new_word)\n",
    "        final_sentences.append(new_sentence)\n",
    "    \n",
    "    return final_sentences"
   ]
  },
  {
   "cell_type": "code",
   "execution_count": 43,
   "metadata": {},
   "outputs": [],
   "source": [
    "df['ingredients'] = lemm_words(ingredients)"
   ]
  },
  {
   "cell_type": "code",
   "execution_count": 44,
   "metadata": {},
   "outputs": [
    {
     "data": {
      "text/html": [
       "<div>\n",
       "<style scoped>\n",
       "    .dataframe tbody tr th:only-of-type {\n",
       "        vertical-align: middle;\n",
       "    }\n",
       "\n",
       "    .dataframe tbody tr th {\n",
       "        vertical-align: top;\n",
       "    }\n",
       "\n",
       "    .dataframe thead th {\n",
       "        text-align: right;\n",
       "    }\n",
       "</style>\n",
       "<table border=\"1\" class=\"dataframe\">\n",
       "  <thead>\n",
       "    <tr style=\"text-align: right;\">\n",
       "      <th></th>\n",
       "      <th>ingredients</th>\n",
       "    </tr>\n",
       "  </thead>\n",
       "  <tbody>\n",
       "    <tr>\n",
       "      <th>0</th>\n",
       "      <td>[pepper, bacon, russet, potato, sugar, onion, ...</td>\n",
       "    </tr>\n",
       "    <tr>\n",
       "      <th>1</th>\n",
       "      <td>[rib, carrot, leek, unsalted, butter, finely, ...</td>\n",
       "    </tr>\n",
       "    <tr>\n",
       "      <th>2</th>\n",
       "      <td>[orzo, garlic, heavy, cream, white, wine, spin...</td>\n",
       "    </tr>\n",
       "    <tr>\n",
       "      <th>3</th>\n",
       "      <td>[garlic, ginger, fish, sauce, chayotes, cookin...</td>\n",
       "    </tr>\n",
       "    <tr>\n",
       "      <th>4</th>\n",
       "      <td>[onion, avocado, salt, coconut, cream, cumin, ...</td>\n",
       "    </tr>\n",
       "  </tbody>\n",
       "</table>\n",
       "</div>"
      ],
      "text/plain": [
       "                                         ingredients\n",
       "0  [pepper, bacon, russet, potato, sugar, onion, ...\n",
       "1  [rib, carrot, leek, unsalted, butter, finely, ...\n",
       "2  [orzo, garlic, heavy, cream, white, wine, spin...\n",
       "3  [garlic, ginger, fish, sauce, chayotes, cookin...\n",
       "4  [onion, avocado, salt, coconut, cream, cumin, ..."
      ]
     },
     "execution_count": 44,
     "metadata": {},
     "output_type": "execute_result"
    }
   ],
   "source": [
    "df.head()"
   ]
  },
  {
   "cell_type": "markdown",
   "metadata": {},
   "source": [
    "# KMeans Clustering with Bag of Words\n",
    "<a id='cv'></a>"
   ]
  },
  {
   "cell_type": "markdown",
   "metadata": {},
   "source": [
    "Using countvectorizer and looking at word counts, I decided to add certain ingredients, such as salt and pepper, to the stopwords, because they routinely appeared in recipes, and did not add much insight into the cuisine style. In addition, adjectives like red, black, chopped, and warm were descriptions of the ingredients, and again did not provide much valuable insight into the cuisine style of the recipe. This is where I decided to implement stopwords instead of hyphenating multi-word ingredients (ie. 'Crumbled Feta')."
   ]
  },
  {
   "cell_type": "code",
   "execution_count": 45,
   "metadata": {},
   "outputs": [],
   "source": [
    "stopwords = ['salt', 'pepper', 'oil', 'fresh', 'red', 'water', 'black', 'chopped', 'white', 'warm', 'powder', 'frozen', 'minced', 'crushed']\n",
    "\n",
    "cvec = CountVectorizer(stop_words=stopwords,\n",
    "                        lowercase=True,\n",
    "                        strip_accents='unicode')\n",
    "\n",
    "df_cv = cvec.fit_transform(df.ingredients.apply(lambda x: np.str_(x)))"
   ]
  },
  {
   "cell_type": "code",
   "execution_count": 46,
   "metadata": {},
   "outputs": [
    {
     "data": {
      "text/html": [
       "<div>\n",
       "<style scoped>\n",
       "    .dataframe tbody tr th:only-of-type {\n",
       "        vertical-align: middle;\n",
       "    }\n",
       "\n",
       "    .dataframe tbody tr th {\n",
       "        vertical-align: top;\n",
       "    }\n",
       "\n",
       "    .dataframe thead th {\n",
       "        text-align: right;\n",
       "    }\n",
       "</style>\n",
       "<table border=\"1\" class=\"dataframe\">\n",
       "  <thead>\n",
       "    <tr style=\"text-align: right;\">\n",
       "      <th></th>\n",
       "      <th>abalone</th>\n",
       "      <th>abbamele</th>\n",
       "      <th>absinthe</th>\n",
       "      <th>abura</th>\n",
       "      <th>acai</th>\n",
       "      <th>accent</th>\n",
       "      <th>accompaniment</th>\n",
       "      <th>achiote</th>\n",
       "      <th>acid</th>\n",
       "      <th>acinus</th>\n",
       "      <th>...</th>\n",
       "      <th>yuzukosho</th>\n",
       "      <th>za</th>\n",
       "      <th>zatarain</th>\n",
       "      <th>zatarains</th>\n",
       "      <th>zero</th>\n",
       "      <th>zest</th>\n",
       "      <th>zesty</th>\n",
       "      <th>zinfandel</th>\n",
       "      <th>ziti</th>\n",
       "      <th>zucchini</th>\n",
       "    </tr>\n",
       "  </thead>\n",
       "  <tbody>\n",
       "    <tr>\n",
       "      <th>0</th>\n",
       "      <td>0</td>\n",
       "      <td>0</td>\n",
       "      <td>0</td>\n",
       "      <td>0</td>\n",
       "      <td>0</td>\n",
       "      <td>0</td>\n",
       "      <td>0</td>\n",
       "      <td>0</td>\n",
       "      <td>0</td>\n",
       "      <td>0</td>\n",
       "      <td>...</td>\n",
       "      <td>0</td>\n",
       "      <td>0</td>\n",
       "      <td>0</td>\n",
       "      <td>0</td>\n",
       "      <td>0</td>\n",
       "      <td>0</td>\n",
       "      <td>0</td>\n",
       "      <td>0</td>\n",
       "      <td>0</td>\n",
       "      <td>0</td>\n",
       "    </tr>\n",
       "    <tr>\n",
       "      <th>1</th>\n",
       "      <td>0</td>\n",
       "      <td>0</td>\n",
       "      <td>0</td>\n",
       "      <td>0</td>\n",
       "      <td>0</td>\n",
       "      <td>0</td>\n",
       "      <td>0</td>\n",
       "      <td>0</td>\n",
       "      <td>0</td>\n",
       "      <td>0</td>\n",
       "      <td>...</td>\n",
       "      <td>0</td>\n",
       "      <td>0</td>\n",
       "      <td>0</td>\n",
       "      <td>0</td>\n",
       "      <td>0</td>\n",
       "      <td>0</td>\n",
       "      <td>0</td>\n",
       "      <td>0</td>\n",
       "      <td>0</td>\n",
       "      <td>0</td>\n",
       "    </tr>\n",
       "  </tbody>\n",
       "</table>\n",
       "<p>2 rows × 2757 columns</p>\n",
       "</div>"
      ],
      "text/plain": [
       "   abalone  abbamele  absinthe  abura  acai  accent  accompaniment  achiote  \\\n",
       "0        0         0         0      0     0       0              0        0   \n",
       "1        0         0         0      0     0       0              0        0   \n",
       "\n",
       "   acid  acinus  ...  yuzukosho  za  zatarain  zatarains  zero  zest  zesty  \\\n",
       "0     0       0  ...          0   0         0          0     0     0      0   \n",
       "1     0       0  ...          0   0         0          0     0     0      0   \n",
       "\n",
       "   zinfandel  ziti  zucchini  \n",
       "0          0     0         0  \n",
       "1          0     0         0  \n",
       "\n",
       "[2 rows x 2757 columns]"
      ]
     },
     "execution_count": 46,
     "metadata": {},
     "output_type": "execute_result"
    }
   ],
   "source": [
    "cvec_df = pd.DataFrame(df_cv.todense(), columns=cvec.get_feature_names())\n",
    "cvec_df.head(2)"
   ]
  },
  {
   "cell_type": "code",
   "execution_count": 22,
   "metadata": {},
   "outputs": [
    {
     "data": {
      "text/plain": [
       "onion        19242\n",
       "garlic       18941\n",
       "ground       18271\n",
       "sauce        13188\n",
       "sugar        12497\n",
       "olive        12281\n",
       "cheese       11773\n",
       "chicken      11557\n",
       "tomato       11205\n",
       "green         9089\n",
       "egg           9039\n",
       "flour         8848\n",
       "butter        8642\n",
       "clove         8177\n",
       "leaf          7549\n",
       "juice         7145\n",
       "cream         6092\n",
       "rice          6073\n",
       "cilantro      5950\n",
       "vegetable     5928\n",
       "dtype: int64"
      ]
     },
     "execution_count": 22,
     "metadata": {},
     "output_type": "execute_result"
    }
   ],
   "source": [
    "word_count = cvec_df.sum(axis=0)\n",
    "word_count.sort_values(ascending=False).head(20)"
   ]
  },
  {
   "cell_type": "code",
   "execution_count": 23,
   "metadata": {},
   "outputs": [
    {
     "data": {
      "application/javascript": [
       "const spec = {\"config\": {\"view\": {\"width\": 400, \"height\": 300}, \"mark\": {\"tooltip\": null}}, \"data\": {\"name\": \"data-d48ac05767fd4f5bcb34ace33afb74a6\"}, \"mark\": {\"type\": \"bar\", \"color\": \"darkred\"}, \"encoding\": {\"x\": {\"type\": \"nominal\", \"field\": \"ingred\"}, \"y\": {\"type\": \"quantitative\", \"field\": \"num\"}}, \"$schema\": \"https://vega.github.io/schema/vega-lite/v3.4.0.json\", \"datasets\": {\"data-d48ac05767fd4f5bcb34ace33afb74a6\": [{\"ingred\": \"onion\", \"num\": 19242}, {\"ingred\": \"garlic\", \"num\": 18941}, {\"ingred\": \"ground\", \"num\": 18271}, {\"ingred\": \"sauce\", \"num\": 13188}, {\"ingred\": \"sugar\", \"num\": 12497}, {\"ingred\": \"olive\", \"num\": 12281}, {\"ingred\": \"cheese\", \"num\": 11773}, {\"ingred\": \"chicken\", \"num\": 11557}, {\"ingred\": \"tomato\", \"num\": 11205}, {\"ingred\": \"green\", \"num\": 9089}, {\"ingred\": \"egg\", \"num\": 9039}, {\"ingred\": \"flour\", \"num\": 8848}, {\"ingred\": \"butter\", \"num\": 8642}, {\"ingred\": \"clove\", \"num\": 8177}, {\"ingred\": \"leaf\", \"num\": 7549}, {\"ingred\": \"juice\", \"num\": 7145}, {\"ingred\": \"cream\", \"num\": 6092}, {\"ingred\": \"rice\", \"num\": 6073}, {\"ingred\": \"cilantro\", \"num\": 5950}, {\"ingred\": \"vegetable\", \"num\": 5928}]}};\n",
       "const opt = {};\n",
       "const type = \"vega-lite\";\n",
       "const id = \"bdd22ed2-fabf-4db3-9a84-f4c8efb948f6\";\n",
       "\n",
       "const output_area = this;\n",
       "\n",
       "require([\"nbextensions/jupyter-vega/index\"], function(vega) {\n",
       "  const target = document.createElement(\"div\");\n",
       "  target.id = id;\n",
       "  target.className = \"vega-embed\";\n",
       "\n",
       "  const style = document.createElement(\"style\");\n",
       "  style.textContent = [\n",
       "    \".vega-embed .error p {\",\n",
       "    \"  color: firebrick;\",\n",
       "    \"  font-size: 14px;\",\n",
       "    \"}\",\n",
       "  ].join(\"\\\\n\");\n",
       "\n",
       "  // element is a jQuery wrapped DOM element inside the output area\n",
       "  // see http://ipython.readthedocs.io/en/stable/api/generated/\\\n",
       "  // IPython.display.html#IPython.display.Javascript.__init__\n",
       "  element[0].appendChild(target);\n",
       "  element[0].appendChild(style);\n",
       "\n",
       "  vega.render(\"#\" + id, spec, type, opt, output_area);\n",
       "}, function (err) {\n",
       "  if (err.requireType !== \"scripterror\") {\n",
       "    throw(err);\n",
       "  }\n",
       "});\n"
      ],
      "text/plain": [
       "<vega.vegalite.VegaLite at 0x1a23470828>"
      ]
     },
     "metadata": {
      "jupyter-vega": "#bdd22ed2-fabf-4db3-9a84-f4c8efb948f6"
     },
     "output_type": "display_data"
    },
    {
     "data": {
      "text/plain": []
     },
     "execution_count": 23,
     "metadata": {},
     "output_type": "execute_result"
    },
    {
     "data": {
      "image/png": "[encoded data removed]"
     },
     "metadata": {
      "jupyter-vega": "#bdd22ed2-fabf-4db3-9a84-f4c8efb948f6"
     },
     "output_type": "display_data"
    }
   ],
   "source": [
    "wc = pd.DataFrame(word_count)\n",
    "wc = wc.reset_index()\n",
    "wc = wc.rename(columns={'index': 'ingred', 0: 'num'})\n",
    "wc = wc.sort_values(by='num', ascending=False).head(20)\n",
    "\n",
    "Chart = alt.Chart(wc).mark_bar(color='darkred').encode(\n",
    "    x='ingred',\n",
    "    y='num'\n",
    ")\n",
    "\n",
    "Chart"
   ]
  },
  {
   "cell_type": "code",
   "execution_count": 24,
   "metadata": {},
   "outputs": [
    {
     "data": {
      "text/html": [
       "<div>\n",
       "<style scoped>\n",
       "    .dataframe tbody tr th:only-of-type {\n",
       "        vertical-align: middle;\n",
       "    }\n",
       "\n",
       "    .dataframe tbody tr th {\n",
       "        vertical-align: top;\n",
       "    }\n",
       "\n",
       "    .dataframe thead th {\n",
       "        text-align: right;\n",
       "    }\n",
       "</style>\n",
       "<table border=\"1\" class=\"dataframe\">\n",
       "  <thead>\n",
       "    <tr style=\"text-align: right;\">\n",
       "      <th></th>\n",
       "      <th>abalone</th>\n",
       "      <th>abbamele</th>\n",
       "      <th>absinthe</th>\n",
       "      <th>abura</th>\n",
       "      <th>acai</th>\n",
       "      <th>accent</th>\n",
       "      <th>accompaniment</th>\n",
       "      <th>achiote</th>\n",
       "      <th>acid</th>\n",
       "      <th>acinus</th>\n",
       "      <th>...</th>\n",
       "      <th>yuzukosho</th>\n",
       "      <th>za</th>\n",
       "      <th>zatarain</th>\n",
       "      <th>zatarains</th>\n",
       "      <th>zero</th>\n",
       "      <th>zest</th>\n",
       "      <th>zesty</th>\n",
       "      <th>zinfandel</th>\n",
       "      <th>ziti</th>\n",
       "      <th>zucchini</th>\n",
       "    </tr>\n",
       "  </thead>\n",
       "  <tbody>\n",
       "    <tr>\n",
       "      <th>0</th>\n",
       "      <td>0</td>\n",
       "      <td>0</td>\n",
       "      <td>0</td>\n",
       "      <td>0</td>\n",
       "      <td>0</td>\n",
       "      <td>0</td>\n",
       "      <td>0</td>\n",
       "      <td>0</td>\n",
       "      <td>0</td>\n",
       "      <td>0</td>\n",
       "      <td>...</td>\n",
       "      <td>0</td>\n",
       "      <td>0</td>\n",
       "      <td>0</td>\n",
       "      <td>0</td>\n",
       "      <td>0</td>\n",
       "      <td>0</td>\n",
       "      <td>0</td>\n",
       "      <td>0</td>\n",
       "      <td>0</td>\n",
       "      <td>0</td>\n",
       "    </tr>\n",
       "    <tr>\n",
       "      <th>1</th>\n",
       "      <td>0</td>\n",
       "      <td>0</td>\n",
       "      <td>0</td>\n",
       "      <td>0</td>\n",
       "      <td>0</td>\n",
       "      <td>0</td>\n",
       "      <td>0</td>\n",
       "      <td>0</td>\n",
       "      <td>0</td>\n",
       "      <td>0</td>\n",
       "      <td>...</td>\n",
       "      <td>0</td>\n",
       "      <td>0</td>\n",
       "      <td>0</td>\n",
       "      <td>0</td>\n",
       "      <td>0</td>\n",
       "      <td>0</td>\n",
       "      <td>0</td>\n",
       "      <td>0</td>\n",
       "      <td>0</td>\n",
       "      <td>0</td>\n",
       "    </tr>\n",
       "    <tr>\n",
       "      <th>2</th>\n",
       "      <td>0</td>\n",
       "      <td>0</td>\n",
       "      <td>0</td>\n",
       "      <td>0</td>\n",
       "      <td>0</td>\n",
       "      <td>0</td>\n",
       "      <td>0</td>\n",
       "      <td>0</td>\n",
       "      <td>0</td>\n",
       "      <td>0</td>\n",
       "      <td>...</td>\n",
       "      <td>0</td>\n",
       "      <td>0</td>\n",
       "      <td>0</td>\n",
       "      <td>0</td>\n",
       "      <td>0</td>\n",
       "      <td>0</td>\n",
       "      <td>0</td>\n",
       "      <td>0</td>\n",
       "      <td>0</td>\n",
       "      <td>0</td>\n",
       "    </tr>\n",
       "    <tr>\n",
       "      <th>3</th>\n",
       "      <td>0</td>\n",
       "      <td>0</td>\n",
       "      <td>0</td>\n",
       "      <td>0</td>\n",
       "      <td>0</td>\n",
       "      <td>0</td>\n",
       "      <td>0</td>\n",
       "      <td>0</td>\n",
       "      <td>0</td>\n",
       "      <td>0</td>\n",
       "      <td>...</td>\n",
       "      <td>0</td>\n",
       "      <td>0</td>\n",
       "      <td>0</td>\n",
       "      <td>0</td>\n",
       "      <td>0</td>\n",
       "      <td>0</td>\n",
       "      <td>0</td>\n",
       "      <td>0</td>\n",
       "      <td>0</td>\n",
       "      <td>0</td>\n",
       "    </tr>\n",
       "    <tr>\n",
       "      <th>4</th>\n",
       "      <td>0</td>\n",
       "      <td>0</td>\n",
       "      <td>0</td>\n",
       "      <td>0</td>\n",
       "      <td>0</td>\n",
       "      <td>0</td>\n",
       "      <td>0</td>\n",
       "      <td>0</td>\n",
       "      <td>0</td>\n",
       "      <td>0</td>\n",
       "      <td>...</td>\n",
       "      <td>0</td>\n",
       "      <td>0</td>\n",
       "      <td>0</td>\n",
       "      <td>0</td>\n",
       "      <td>0</td>\n",
       "      <td>0</td>\n",
       "      <td>0</td>\n",
       "      <td>0</td>\n",
       "      <td>0</td>\n",
       "      <td>0</td>\n",
       "    </tr>\n",
       "  </tbody>\n",
       "</table>\n",
       "<p>5 rows × 2757 columns</p>\n",
       "</div>"
      ],
      "text/plain": [
       "   abalone  abbamele  absinthe  abura  acai  accent  accompaniment  achiote  \\\n",
       "0        0         0         0      0     0       0              0        0   \n",
       "1        0         0         0      0     0       0              0        0   \n",
       "2        0         0         0      0     0       0              0        0   \n",
       "3        0         0         0      0     0       0              0        0   \n",
       "4        0         0         0      0     0       0              0        0   \n",
       "\n",
       "   acid  acinus  ...  yuzukosho  za  zatarain  zatarains  zero  zest  zesty  \\\n",
       "0     0       0  ...          0   0         0          0     0     0      0   \n",
       "1     0       0  ...          0   0         0          0     0     0      0   \n",
       "2     0       0  ...          0   0         0          0     0     0      0   \n",
       "3     0       0  ...          0   0         0          0     0     0      0   \n",
       "4     0       0  ...          0   0         0          0     0     0      0   \n",
       "\n",
       "   zinfandel  ziti  zucchini  \n",
       "0          0     0         0  \n",
       "1          0     0         0  \n",
       "2          0     0         0  \n",
       "3          0     0         0  \n",
       "4          0     0         0  \n",
       "\n",
       "[5 rows x 2757 columns]"
      ]
     },
     "execution_count": 24,
     "metadata": {},
     "output_type": "execute_result"
    }
   ],
   "source": [
    "cvec_df.head()"
   ]
  },
  {
   "cell_type": "code",
   "execution_count": 25,
   "metadata": {},
   "outputs": [
    {
     "data": {
      "text/plain": [
       "KMeans(algorithm='auto', copy_x=True, init='k-means++', max_iter=300,\n",
       "       n_clusters=10, n_init=10, n_jobs=None, precompute_distances='auto',\n",
       "       random_state=None, tol=0.0001, verbose=0)"
      ]
     },
     "execution_count": 25,
     "metadata": {},
     "output_type": "execute_result"
    }
   ],
   "source": [
    "number_of_clusters = 10\n",
    "km = KMeans(n_clusters = number_of_clusters)\n",
    "\n",
    "km.fit(cvec_df)"
   ]
  },
  {
   "cell_type": "code",
   "execution_count": 26,
   "metadata": {},
   "outputs": [],
   "source": [
    "df['predicted'] = km.labels_\n",
    "cvec_df['predicted'] = km.labels_"
   ]
  },
  {
   "cell_type": "code",
   "execution_count": 27,
   "metadata": {},
   "outputs": [],
   "source": [
    "def plot_pca(n, df):\n",
    "    pca = PCA(n_components=n)\n",
    "    projected = pca.fit_transform(df)\n",
    "    print(df.shape)\n",
    "    print(projected.shape)\n",
    "\n",
    "\n",
    "    plt.scatter(projected[:, 0], projected[:, 1],\n",
    "                c=df.predicted, edgecolor='none', alpha=0.5,\n",
    "                cmap=plt.cm.get_cmap('Spectral', 10))\n",
    "    plt.xlabel('component 1')\n",
    "    plt.ylabel('component 2')\n",
    "    plt.colorbar();"
   ]
  },
  {
   "cell_type": "code",
   "execution_count": 28,
   "metadata": {},
   "outputs": [
    {
     "name": "stdout",
     "output_type": "stream",
     "text": [
      "(39754, 2758)\n",
      "(39754, 2)\n"
     ]
    },
    {
     "data": {
      "image/png": "[encoded data removed]",
      "text/plain": [
       "<Figure size 432x288 with 2 Axes>"
      ]
     },
     "metadata": {
      "needs_background": "light"
     },
     "output_type": "display_data"
    }
   ],
   "source": [
    "plot_pca(2, cvec_df)"
   ]
  },
  {
   "cell_type": "markdown",
   "metadata": {},
   "source": [
    "Now I will look at how many components are needed to describe the data, by looking at the cumulative explained variance ratio (plotted below). This curve quantifies how much of the 2731-dimensional variance is contained within the first N components. As we can see below, that nearly 200 of the 2761 components describe 90% of the variance, while you need about 750 to describe closer to 100% of the variance."
   ]
  },
  {
   "cell_type": "code",
   "execution_count": 29,
   "metadata": {},
   "outputs": [
    {
     "data": {
      "image/png": "[encoded data removed]",
      "text/plain": [
       "<Figure size 432x288 with 1 Axes>"
      ]
     },
     "metadata": {
      "needs_background": "light"
     },
     "output_type": "display_data"
    }
   ],
   "source": [
    "def plot_variance(df):\n",
    "    pca = PCA().fit(df)\n",
    "    plt.plot(np.cumsum(pca.explained_variance_ratio_))\n",
    "    plt.xlabel('number of components')\n",
    "    plt.ylabel('cumulative explained variance');\n",
    "    \n",
    "plot_variance(cvec_df)"
   ]
  },
  {
   "cell_type": "code",
   "execution_count": 30,
   "metadata": {},
   "outputs": [],
   "source": [
    "def words_by_cluster(df, n):\n",
    "    \n",
    "    pred = df[df.predicted == n]\n",
    "    \n",
    "    return pred.sum(axis=0).sort_values(ascending=False).head(20)"
   ]
  },
  {
   "cell_type": "code",
   "execution_count": 31,
   "metadata": {},
   "outputs": [
    {
     "data": {
      "text/plain": [
       "onion       1748\n",
       "cream       1528\n",
       "tortilla    1462\n",
       "shredded    1383\n",
       "ground      1248\n",
       "green       1151\n",
       "tomato      1139\n",
       "corn        1075\n",
       "sour        1075\n",
       "cheddar     1064\n",
       "chicken     1028\n",
       "bean         944\n",
       "garlic       885\n",
       "cilantro     830\n",
       "sauce        824\n",
       "salsa        789\n",
       "flour        751\n",
       "cumin        688\n",
       "olive        639\n",
       "dtype: int64"
      ]
     },
     "execution_count": 31,
     "metadata": {},
     "output_type": "execute_result"
    }
   ],
   "source": [
    "words_by_cluster(cvec_df, 0)[1:] #slicing the list at 1 because predicted appeared in each category"
   ]
  },
  {
   "cell_type": "markdown",
   "metadata": {},
   "source": [
    "With a bag of words model, and looking at most frequent words, some cuisine styles were easy to assess. For example, topic 9 was baking recipes, and topic 1 was south-east Asian. However, it seemed that 3 categories could be Italian (oregano, parmesan, mozarella), and 3 more had Mexican influence (cilantro, garlic, peppers, tortilla, etc.) This could be because the proportion of Italian and Mexican recipes is higher that those of other styles. As a result these more basic models are clustering within these larger cuisines and othering other cuisines into one larger cluster (for example all Asian food). There are some clear distinctions appearing, but not not precise enough yet for the task at hand."
   ]
  },
  {
   "cell_type": "markdown",
   "metadata": {},
   "source": [
    "# KMeans Clusting with Tf-idf\n",
    "<a id='tv'></a>"
   ]
  },
  {
   "cell_type": "markdown",
   "metadata": {},
   "source": [
    "Since many words are common to many recipes but still provide valuable insight (eggs, flour, sauce, etc.), I will also use Tf-idf to find the inverse frequency of terms."
   ]
  },
  {
   "cell_type": "code",
   "execution_count": 32,
   "metadata": {},
   "outputs": [],
   "source": [
    "tvec = TfidfVectorizer(stop_words=stopwords,\n",
    "                        encoding='utf-8')\n",
    "\n",
    "df_tv = tvec.fit_transform(df.ingredients.apply(lambda x: np.str_(x)))"
   ]
  },
  {
   "cell_type": "code",
   "execution_count": 33,
   "metadata": {},
   "outputs": [
    {
     "data": {
      "text/html": [
       "<div>\n",
       "<style scoped>\n",
       "    .dataframe tbody tr th:only-of-type {\n",
       "        vertical-align: middle;\n",
       "    }\n",
       "\n",
       "    .dataframe tbody tr th {\n",
       "        vertical-align: top;\n",
       "    }\n",
       "\n",
       "    .dataframe thead th {\n",
       "        text-align: right;\n",
       "    }\n",
       "</style>\n",
       "<table border=\"1\" class=\"dataframe\">\n",
       "  <thead>\n",
       "    <tr style=\"text-align: right;\">\n",
       "      <th></th>\n",
       "      <th>abalone</th>\n",
       "      <th>abbamele</th>\n",
       "      <th>absinthe</th>\n",
       "      <th>abura</th>\n",
       "      <th>acai</th>\n",
       "      <th>accent</th>\n",
       "      <th>accompaniment</th>\n",
       "      <th>achiote</th>\n",
       "      <th>acid</th>\n",
       "      <th>acinus</th>\n",
       "      <th>...</th>\n",
       "      <th>yuzukosho</th>\n",
       "      <th>za</th>\n",
       "      <th>zatarain</th>\n",
       "      <th>zatarains</th>\n",
       "      <th>zero</th>\n",
       "      <th>zest</th>\n",
       "      <th>zesty</th>\n",
       "      <th>zinfandel</th>\n",
       "      <th>ziti</th>\n",
       "      <th>zucchini</th>\n",
       "    </tr>\n",
       "  </thead>\n",
       "  <tbody>\n",
       "    <tr>\n",
       "      <th>0</th>\n",
       "      <td>0.0</td>\n",
       "      <td>0.0</td>\n",
       "      <td>0.0</td>\n",
       "      <td>0.0</td>\n",
       "      <td>0.0</td>\n",
       "      <td>0.0</td>\n",
       "      <td>0.0</td>\n",
       "      <td>0.0</td>\n",
       "      <td>0.0</td>\n",
       "      <td>0.0</td>\n",
       "      <td>...</td>\n",
       "      <td>0.0</td>\n",
       "      <td>0.0</td>\n",
       "      <td>0.0</td>\n",
       "      <td>0.0</td>\n",
       "      <td>0.0</td>\n",
       "      <td>0.0</td>\n",
       "      <td>0.0</td>\n",
       "      <td>0.0</td>\n",
       "      <td>0.0</td>\n",
       "      <td>0.0</td>\n",
       "    </tr>\n",
       "    <tr>\n",
       "      <th>1</th>\n",
       "      <td>0.0</td>\n",
       "      <td>0.0</td>\n",
       "      <td>0.0</td>\n",
       "      <td>0.0</td>\n",
       "      <td>0.0</td>\n",
       "      <td>0.0</td>\n",
       "      <td>0.0</td>\n",
       "      <td>0.0</td>\n",
       "      <td>0.0</td>\n",
       "      <td>0.0</td>\n",
       "      <td>...</td>\n",
       "      <td>0.0</td>\n",
       "      <td>0.0</td>\n",
       "      <td>0.0</td>\n",
       "      <td>0.0</td>\n",
       "      <td>0.0</td>\n",
       "      <td>0.0</td>\n",
       "      <td>0.0</td>\n",
       "      <td>0.0</td>\n",
       "      <td>0.0</td>\n",
       "      <td>0.0</td>\n",
       "    </tr>\n",
       "    <tr>\n",
       "      <th>2</th>\n",
       "      <td>0.0</td>\n",
       "      <td>0.0</td>\n",
       "      <td>0.0</td>\n",
       "      <td>0.0</td>\n",
       "      <td>0.0</td>\n",
       "      <td>0.0</td>\n",
       "      <td>0.0</td>\n",
       "      <td>0.0</td>\n",
       "      <td>0.0</td>\n",
       "      <td>0.0</td>\n",
       "      <td>...</td>\n",
       "      <td>0.0</td>\n",
       "      <td>0.0</td>\n",
       "      <td>0.0</td>\n",
       "      <td>0.0</td>\n",
       "      <td>0.0</td>\n",
       "      <td>0.0</td>\n",
       "      <td>0.0</td>\n",
       "      <td>0.0</td>\n",
       "      <td>0.0</td>\n",
       "      <td>0.0</td>\n",
       "    </tr>\n",
       "    <tr>\n",
       "      <th>3</th>\n",
       "      <td>0.0</td>\n",
       "      <td>0.0</td>\n",
       "      <td>0.0</td>\n",
       "      <td>0.0</td>\n",
       "      <td>0.0</td>\n",
       "      <td>0.0</td>\n",
       "      <td>0.0</td>\n",
       "      <td>0.0</td>\n",
       "      <td>0.0</td>\n",
       "      <td>0.0</td>\n",
       "      <td>...</td>\n",
       "      <td>0.0</td>\n",
       "      <td>0.0</td>\n",
       "      <td>0.0</td>\n",
       "      <td>0.0</td>\n",
       "      <td>0.0</td>\n",
       "      <td>0.0</td>\n",
       "      <td>0.0</td>\n",
       "      <td>0.0</td>\n",
       "      <td>0.0</td>\n",
       "      <td>0.0</td>\n",
       "    </tr>\n",
       "    <tr>\n",
       "      <th>4</th>\n",
       "      <td>0.0</td>\n",
       "      <td>0.0</td>\n",
       "      <td>0.0</td>\n",
       "      <td>0.0</td>\n",
       "      <td>0.0</td>\n",
       "      <td>0.0</td>\n",
       "      <td>0.0</td>\n",
       "      <td>0.0</td>\n",
       "      <td>0.0</td>\n",
       "      <td>0.0</td>\n",
       "      <td>...</td>\n",
       "      <td>0.0</td>\n",
       "      <td>0.0</td>\n",
       "      <td>0.0</td>\n",
       "      <td>0.0</td>\n",
       "      <td>0.0</td>\n",
       "      <td>0.0</td>\n",
       "      <td>0.0</td>\n",
       "      <td>0.0</td>\n",
       "      <td>0.0</td>\n",
       "      <td>0.0</td>\n",
       "    </tr>\n",
       "  </tbody>\n",
       "</table>\n",
       "<p>5 rows × 2757 columns</p>\n",
       "</div>"
      ],
      "text/plain": [
       "   abalone  abbamele  absinthe  abura  acai  accent  accompaniment  achiote  \\\n",
       "0      0.0       0.0       0.0    0.0   0.0     0.0            0.0      0.0   \n",
       "1      0.0       0.0       0.0    0.0   0.0     0.0            0.0      0.0   \n",
       "2      0.0       0.0       0.0    0.0   0.0     0.0            0.0      0.0   \n",
       "3      0.0       0.0       0.0    0.0   0.0     0.0            0.0      0.0   \n",
       "4      0.0       0.0       0.0    0.0   0.0     0.0            0.0      0.0   \n",
       "\n",
       "   acid  acinus  ...  yuzukosho   za  zatarain  zatarains  zero  zest  zesty  \\\n",
       "0   0.0     0.0  ...        0.0  0.0       0.0        0.0   0.0   0.0    0.0   \n",
       "1   0.0     0.0  ...        0.0  0.0       0.0        0.0   0.0   0.0    0.0   \n",
       "2   0.0     0.0  ...        0.0  0.0       0.0        0.0   0.0   0.0    0.0   \n",
       "3   0.0     0.0  ...        0.0  0.0       0.0        0.0   0.0   0.0    0.0   \n",
       "4   0.0     0.0  ...        0.0  0.0       0.0        0.0   0.0   0.0    0.0   \n",
       "\n",
       "   zinfandel  ziti  zucchini  \n",
       "0        0.0   0.0       0.0  \n",
       "1        0.0   0.0       0.0  \n",
       "2        0.0   0.0       0.0  \n",
       "3        0.0   0.0       0.0  \n",
       "4        0.0   0.0       0.0  \n",
       "\n",
       "[5 rows x 2757 columns]"
      ]
     },
     "execution_count": 33,
     "metadata": {},
     "output_type": "execute_result"
    }
   ],
   "source": [
    "tvec_df = pd.DataFrame(df_tv.todense(), columns=tvec.get_feature_names())\n",
    "tvec_df.head()"
   ]
  },
  {
   "cell_type": "code",
   "execution_count": 34,
   "metadata": {},
   "outputs": [
    {
     "data": {
      "text/plain": [
       "ground       2157.782338\n",
       "onion        2030.145834\n",
       "garlic       1993.847368\n",
       "sauce        1741.605965\n",
       "sugar        1721.934123\n",
       "olive        1677.858898\n",
       "cheese       1665.516854\n",
       "chicken      1582.366625\n",
       "tomato       1571.270475\n",
       "flour        1406.725537\n",
       "egg          1396.822392\n",
       "butter       1349.860914\n",
       "green        1341.179610\n",
       "clove        1209.075163\n",
       "juice        1163.833148\n",
       "leaf         1147.606615\n",
       "milk         1054.453580\n",
       "lemon        1050.407040\n",
       "vegetable    1028.953727\n",
       "rice         1025.190362\n",
       "dtype: float64"
      ]
     },
     "execution_count": 34,
     "metadata": {},
     "output_type": "execute_result"
    }
   ],
   "source": [
    "word_count2 = tvec_df.sum(axis=0)\n",
    "word_count2.sort_values(ascending=False).head(20)"
   ]
  },
  {
   "cell_type": "code",
   "execution_count": 35,
   "metadata": {},
   "outputs": [
    {
     "data": {
      "application/javascript": [
       "const spec = {\"config\": {\"view\": {\"width\": 400, \"height\": 300}, \"mark\": {\"tooltip\": null}}, \"data\": {\"name\": \"data-cecfce3919671149d917ba038defc3cc\"}, \"mark\": {\"type\": \"bar\", \"color\": \"darkred\"}, \"encoding\": {\"x\": {\"type\": \"nominal\", \"field\": \"ingred\"}, \"y\": {\"type\": \"quantitative\", \"field\": \"num\"}}, \"$schema\": \"https://vega.github.io/schema/vega-lite/v3.4.0.json\", \"datasets\": {\"data-cecfce3919671149d917ba038defc3cc\": [{\"ingred\": \"ground\", \"num\": 2157.782337629809}, {\"ingred\": \"onion\", \"num\": 2030.1458343638574}, {\"ingred\": \"garlic\", \"num\": 1993.8473683365423}, {\"ingred\": \"sauce\", \"num\": 1741.6059647715758}, {\"ingred\": \"sugar\", \"num\": 1721.9341228906444}, {\"ingred\": \"olive\", \"num\": 1677.858897536826}, {\"ingred\": \"cheese\", \"num\": 1665.5168535808443}, {\"ingred\": \"chicken\", \"num\": 1582.366624630456}, {\"ingred\": \"tomato\", \"num\": 1571.270474716658}, {\"ingred\": \"flour\", \"num\": 1406.7255371724445}, {\"ingred\": \"egg\", \"num\": 1396.822392324131}, {\"ingred\": \"butter\", \"num\": 1349.8609138889624}, {\"ingred\": \"green\", \"num\": 1341.1796098785512}, {\"ingred\": \"clove\", \"num\": 1209.0751634637086}, {\"ingred\": \"juice\", \"num\": 1163.8331480643055}, {\"ingred\": \"leaf\", \"num\": 1147.606615247202}, {\"ingred\": \"milk\", \"num\": 1054.4535803964122}, {\"ingred\": \"lemon\", \"num\": 1050.4070403649073}, {\"ingred\": \"vegetable\", \"num\": 1028.9537272724042}, {\"ingred\": \"rice\", \"num\": 1025.1903623835708}]}};\n",
       "const opt = {};\n",
       "const type = \"vega-lite\";\n",
       "const id = \"c50678a0-1022-4495-b48e-b8b20bc6a910\";\n",
       "\n",
       "const output_area = this;\n",
       "\n",
       "require([\"nbextensions/jupyter-vega/index\"], function(vega) {\n",
       "  const target = document.createElement(\"div\");\n",
       "  target.id = id;\n",
       "  target.className = \"vega-embed\";\n",
       "\n",
       "  const style = document.createElement(\"style\");\n",
       "  style.textContent = [\n",
       "    \".vega-embed .error p {\",\n",
       "    \"  color: firebrick;\",\n",
       "    \"  font-size: 14px;\",\n",
       "    \"}\",\n",
       "  ].join(\"\\\\n\");\n",
       "\n",
       "  // element is a jQuery wrapped DOM element inside the output area\n",
       "  // see http://ipython.readthedocs.io/en/stable/api/generated/\\\n",
       "  // IPython.display.html#IPython.display.Javascript.__init__\n",
       "  element[0].appendChild(target);\n",
       "  element[0].appendChild(style);\n",
       "\n",
       "  vega.render(\"#\" + id, spec, type, opt, output_area);\n",
       "}, function (err) {\n",
       "  if (err.requireType !== \"scripterror\") {\n",
       "    throw(err);\n",
       "  }\n",
       "});\n"
      ],
      "text/plain": [
       "<vega.vegalite.VegaLite at 0x1a232fcb00>"
      ]
     },
     "metadata": {
      "jupyter-vega": "#c50678a0-1022-4495-b48e-b8b20bc6a910"
     },
     "output_type": "display_data"
    },
    {
     "data": {
      "text/plain": []
     },
     "execution_count": 35,
     "metadata": {},
     "output_type": "execute_result"
    },
    {
     "data": {
      "image/png": "[encoded data removed]"
     },
     "metadata": {
      "jupyter-vega": "#c50678a0-1022-4495-b48e-b8b20bc6a910"
     },
     "output_type": "display_data"
    }
   ],
   "source": [
    "wc2 = pd.DataFrame(word_count2)\n",
    "wc2 = wc2.reset_index()\n",
    "wc2 = wc2.rename(columns={'index': 'ingred', 0: 'num'})\n",
    "wc2 = wc2.sort_values(by='num', ascending=False).head(20)\n",
    "\n",
    "Chart = alt.Chart(wc2).mark_bar(color='darkred').encode(\n",
    "    x='ingred',\n",
    "    y='num'\n",
    ")\n",
    "\n",
    "Chart"
   ]
  },
  {
   "cell_type": "code",
   "execution_count": 36,
   "metadata": {},
   "outputs": [
    {
     "data": {
      "text/plain": [
       "KMeans(algorithm='auto', copy_x=True, init='k-means++', max_iter=300,\n",
       "       n_clusters=10, n_init=10, n_jobs=None, precompute_distances='auto',\n",
       "       random_state=None, tol=0.0001, verbose=0)"
      ]
     },
     "execution_count": 36,
     "metadata": {},
     "output_type": "execute_result"
    }
   ],
   "source": [
    "number_of_clusters = 10\n",
    "km = KMeans(n_clusters = number_of_clusters)\n",
    "\n",
    "km.fit(tvec_df)"
   ]
  },
  {
   "cell_type": "code",
   "execution_count": 37,
   "metadata": {},
   "outputs": [],
   "source": [
    "tvec_df['predicted'] = km.labels_"
   ]
  },
  {
   "cell_type": "code",
   "execution_count": 38,
   "metadata": {},
   "outputs": [
    {
     "name": "stdout",
     "output_type": "stream",
     "text": [
      "(39754, 2758)\n",
      "(39754, 2)\n"
     ]
    },
    {
     "data": {
      "image/png": "[encoded data removed]",
      "text/plain": [
       "<Figure size 432x288 with 2 Axes>"
      ]
     },
     "metadata": {
      "needs_background": "light"
     },
     "output_type": "display_data"
    }
   ],
   "source": [
    "plot_pca(2, tvec_df)"
   ]
  },
  {
   "cell_type": "code",
   "execution_count": null,
   "metadata": {},
   "outputs": [],
   "source": [
    "plot_variance(tvec_df)"
   ]
  },
  {
   "cell_type": "markdown",
   "metadata": {},
   "source": [
    "The cumulative explained variance ratio (plotted above) quantifies how much of the 2761-dimensional variance is contained within the first N components. As we can see, a very low number of components (possibly below 25) describes 90% of the variance. This signals that the clusters made by KMeans with Tf-idf vectors probably provides much more insight."
   ]
  },
  {
   "cell_type": "code",
   "execution_count": 39,
   "metadata": {},
   "outputs": [],
   "source": [
    "def freq_by_cluster(df, n):\n",
    "    \n",
    "    pred = df[df.predicted == n]\n",
    "    \n",
    "    return pred.sum(axis=0).sort_values(ascending=False).head(20)"
   ]
  },
  {
   "cell_type": "code",
   "execution_count": 40,
   "metadata": {},
   "outputs": [
    {
     "data": {
      "text/plain": [
       "lime        663.629249\n",
       "cilantro    421.413018\n",
       "juice       381.094514\n",
       "onion       240.382034\n",
       "chilies     218.302328\n",
       "jalapeno    215.465858\n",
       "garlic      213.009237\n",
       "fish        191.393443\n",
       "chile       190.644827\n",
       "sauce       183.584003\n",
       "avocado     179.248942\n",
       "tomato      161.552565\n",
       "ground      146.488210\n",
       "leaf        144.830985\n",
       "chicken     142.180581\n",
       "sugar       136.596603\n",
       "green       134.328397\n",
       "coconut     128.891927\n",
       "purple      128.258012\n",
       "clove       126.790918\n",
       "dtype: float64"
      ]
     },
     "execution_count": 40,
     "metadata": {},
     "output_type": "execute_result"
    }
   ],
   "source": [
    "freq_by_cluster(tvec_df, 0) # Asian, maybe Thai?"
   ]
  },
  {
   "cell_type": "code",
   "execution_count": 41,
   "metadata": {},
   "outputs": [
    {
     "data": {
      "text/plain": [
       "cheese        704.292304\n",
       "parmesan      533.696174\n",
       "grated        400.525059\n",
       "mozzarella    259.707505\n",
       "olive         215.746166\n",
       "basil         199.559793\n",
       "garlic        188.237100\n",
       "tomato        183.924267\n",
       "pasta         174.677776\n",
       "ground        166.641803\n",
       "italian       146.314860\n",
       "egg           138.124336\n",
       "parsley       136.240251\n",
       "dried         136.066101\n",
       "butter        132.713458\n",
       "ricotta       131.959002\n",
       "onion         126.475723\n",
       "sauce         125.762790\n",
       "bread         113.766295\n",
       "dtype: float64"
      ]
     },
     "execution_count": 41,
     "metadata": {},
     "output_type": "execute_result"
    }
   ],
   "source": [
    "freq_by_cluster(tvec_df, 1)[1:] # Italian"
   ]
  },
  {
   "cell_type": "code",
   "execution_count": 42,
   "metadata": {},
   "outputs": [
    {
     "data": {
      "text/plain": [
       "predicted    9812.000000\n",
       "sauce         894.279276\n",
       "soy           804.375177\n",
       "sesame        630.090744\n",
       "rice          408.656270\n",
       "ginger        406.210908\n",
       "sugar         363.584663\n",
       "garlic        347.618421\n",
       "vinegar       301.048336\n",
       "onion         288.702225\n",
       "chicken       284.465399\n",
       "green         261.953729\n",
       "starch        257.584204\n",
       "scallion      226.819189\n",
       "corn          208.741373\n",
       "vegetable     207.997548\n",
       "peanut        192.183209\n",
       "pork          189.788786\n",
       "seed          185.212904\n",
       "chili         172.940933\n",
       "dtype: float64"
      ]
     },
     "execution_count": 42,
     "metadata": {},
     "output_type": "execute_result"
    }
   ],
   "source": [
    "freq_by_cluster(tvec_df, 2) # Asian"
   ]
  },
  {
   "cell_type": "code",
   "execution_count": 43,
   "metadata": {},
   "outputs": [
    {
     "data": {
      "text/plain": [
       "predicted    7251.000000\n",
       "virgin        534.540083\n",
       "extra         523.445431\n",
       "olive         388.639773\n",
       "garlic        168.911068\n",
       "clove         153.206471\n",
       "leaf          150.788194\n",
       "lemon         142.194757\n",
       "tomato        141.770004\n",
       "ground        134.489859\n",
       "parsley       121.436205\n",
       "wine          110.629744\n",
       "cheese        109.164151\n",
       "vinegar       103.683747\n",
       "juice         101.882546\n",
       "basil         100.551352\n",
       "onion          97.066540\n",
       "kosher         83.699716\n",
       "flat           81.922092\n",
       "sea            70.278672\n",
       "dtype: float64"
      ]
     },
     "execution_count": 43,
     "metadata": {},
     "output_type": "execute_result"
    }
   ],
   "source": [
    "freq_by_cluster(tvec_df, 3) #Italian"
   ]
  },
  {
   "cell_type": "code",
   "execution_count": 44,
   "metadata": {},
   "outputs": [
    {
     "data": {
      "text/plain": [
       "predicted    21724.000000\n",
       "tomato         529.360802\n",
       "onion          490.902231\n",
       "garlic         465.001489\n",
       "dried          462.447674\n",
       "olive          455.692192\n",
       "chicken        425.525980\n",
       "bell           338.485943\n",
       "leaf           335.375694\n",
       "ground         334.314444\n",
       "parsley        313.903111\n",
       "green          309.616364\n",
       "clove          308.497499\n",
       "broth          307.865799\n",
       "thyme          300.970265\n",
       "oregano        274.322528\n",
       "celery         255.999643\n",
       "wine           249.552681\n",
       "bay            237.271157\n",
       "diced          218.602781\n",
       "dtype: float64"
      ]
     },
     "execution_count": 44,
     "metadata": {},
     "output_type": "execute_result"
    }
   ],
   "source": [
    "freq_by_cluster(tvec_df, 4) #Mexican"
   ]
  },
  {
   "cell_type": "code",
   "execution_count": 45,
   "metadata": {},
   "outputs": [
    {
     "data": {
      "text/plain": [
       "predicted    45235.000000\n",
       "lemon          358.606734\n",
       "butter         343.856347\n",
       "sugar          339.502504\n",
       "onion          301.620877\n",
       "ground         280.103487\n",
       "juice          256.697591\n",
       "garlic         250.522181\n",
       "milk           247.292381\n",
       "egg            242.260799\n",
       "olive          240.555090\n",
       "potato         225.624480\n",
       "vinegar        210.839824\n",
       "cream          205.163490\n",
       "cheese         204.328593\n",
       "chicken        183.900590\n",
       "vegetable      183.241803\n",
       "sauce          180.061654\n",
       "green          177.758946\n",
       "bread          162.185944\n",
       "dtype: float64"
      ]
     },
     "execution_count": 45,
     "metadata": {},
     "output_type": "execute_result"
    }
   ],
   "source": [
    "freq_by_cluster(tvec_df, 5)"
   ]
  },
  {
   "cell_type": "code",
   "execution_count": 46,
   "metadata": {},
   "outputs": [
    {
     "data": {
      "text/plain": [
       "predicted     17784.000000\n",
       "flour           591.150935\n",
       "purpose         546.282759\n",
       "all             546.162805\n",
       "baking          420.464406\n",
       "egg             319.473372\n",
       "butter          291.567436\n",
       "sugar           261.227790\n",
       "milk            219.524893\n",
       "large           191.232477\n",
       "buttermilk      187.210922\n",
       "unsalted        171.255924\n",
       "soda            164.424576\n",
       "yeast           153.042922\n",
       "vegetable       129.800204\n",
       "ground          119.123605\n",
       "dry             105.701659\n",
       "active           99.833636\n",
       "cornmeal         90.873151\n",
       "shortening       82.593132\n",
       "dtype: float64"
      ]
     },
     "execution_count": 46,
     "metadata": {},
     "output_type": "execute_result"
    }
   ],
   "source": [
    "freq_by_cluster(tvec_df, 6) #Baking"
   ]
  },
  {
   "cell_type": "code",
   "execution_count": 47,
   "metadata": {},
   "outputs": [
    {
     "data": {
      "text/plain": [
       "predicted    20153.000000\n",
       "cheese         414.933299\n",
       "tortilla       397.523179\n",
       "shredded       336.206552\n",
       "cheddar        307.844120\n",
       "cream          290.206180\n",
       "salsa          266.940862\n",
       "sour           265.029234\n",
       "corn           236.769319\n",
       "onion          211.646740\n",
       "bean           211.335487\n",
       "jack           204.686975\n",
       "chicken        193.598193\n",
       "green          186.872178\n",
       "ground         181.237871\n",
       "tomato         180.452045\n",
       "taco           157.792009\n",
       "cilantro       157.491612\n",
       "cumin          152.348231\n",
       "chili          144.165285\n",
       "dtype: float64"
      ]
     },
     "execution_count": 47,
     "metadata": {},
     "output_type": "execute_result"
    }
   ],
   "source": [
    "freq_by_cluster(tvec_df, 7) #Mexican"
   ]
  },
  {
   "cell_type": "code",
   "execution_count": 48,
   "metadata": {},
   "outputs": [
    {
     "data": {
      "text/plain": [
       "predicted    24264.000000\n",
       "ground         554.156894\n",
       "cumin          396.115305\n",
       "seed           369.985541\n",
       "coriander      331.258426\n",
       "ginger         270.919256\n",
       "masala         243.456152\n",
       "garam          222.174728\n",
       "onion          217.121630\n",
       "turmeric       216.921838\n",
       "chili          207.433587\n",
       "garlic         205.758477\n",
       "tomato         196.861083\n",
       "cilantro       180.926543\n",
       "cinnamon       177.492447\n",
       "leaf           167.446433\n",
       "clove          163.307997\n",
       "tumeric        156.514343\n",
       "curry          152.437346\n",
       "green          134.497556\n",
       "dtype: float64"
      ]
     },
     "execution_count": 48,
     "metadata": {},
     "output_type": "execute_result"
    }
   ],
   "source": [
    "freq_by_cluster(tvec_df, 8) #Indian"
   ]
  },
  {
   "cell_type": "code",
   "execution_count": 49,
   "metadata": {},
   "outputs": [
    {
     "data": {
      "text/plain": [
       "predicted     23697.000000\n",
       "sugar           450.948501\n",
       "vanilla         449.454061\n",
       "extract         379.997174\n",
       "egg             353.884258\n",
       "butter          246.220439\n",
       "milk            235.344772\n",
       "cream           227.991055\n",
       "large           219.608537\n",
       "flour           191.085535\n",
       "yolk            171.155437\n",
       "chocolate       149.112763\n",
       "baking          143.877706\n",
       "unsalted        138.120921\n",
       "purpose         135.438341\n",
       "all             135.375176\n",
       "cinnamon        124.012790\n",
       "granulated      114.867362\n",
       "brown           112.729369\n",
       "almond          112.726646\n",
       "dtype: float64"
      ]
     },
     "execution_count": 49,
     "metadata": {},
     "output_type": "execute_result"
    }
   ],
   "source": [
    "freq_by_cluster(tvec_df, 9) #Baking"
   ]
  },
  {
   "cell_type": "markdown",
   "metadata": {},
   "source": [
    "I attempted to shrink and increase the number of clusters. 10 seems to be the optimal number. Anyless than 10, and the model loses Indian food, anymore, and more indistinuishable pastry type categories emerge. However, using Tf-idf with KMeans clusters did a little better than the bag of words model. We were able identify two more categories: Indian and another Asian inspired cluster, possibly Thai food."
   ]
  },
  {
   "cell_type": "markdown",
   "metadata": {},
   "source": [
    "# LDA\n",
    "<a id='LDA'></a>"
   ]
  },
  {
   "cell_type": "markdown",
   "metadata": {},
   "source": [
    "Moving on from KMeans clustering, I will now attempt to use a more advanced model for the task at hand. Using LDA, I will see if there are clearer distinctions between targets/clusters by analyzing distributions of 'topics' among recipes and distributions of ingredients among topics."
   ]
  },
  {
   "cell_type": "code",
   "execution_count": null,
   "metadata": {},
   "outputs": [
    {
     "name": "stderr",
     "output_type": "stream",
     "text": [
      "/Users/kristigourlay/anaconda3/lib/python3.7/site-packages/sklearn/model_selection/_split.py:1978: FutureWarning: The default value of cv will change from 3 to 5 in version 0.22. Specify it explicitly to silence this warning.\n",
      "  warnings.warn(CV_WARNING, FutureWarning)\n"
     ]
    }
   ],
   "source": [
    "# GridSearch LDA\n",
    "\n",
    "search_params = {'n_components': [5, 12, 10, 15, 20, 25, 30], 'learning_decay': [.5, .7, .9]}\n",
    "\n",
    "lda = LDA()\n",
    "\n",
    "model = GridSearchCV(lda, param_grid=search_params)\n",
    "\n",
    "model.fit(df_cv)"
   ]
  },
  {
   "cell_type": "code",
   "execution_count": 47,
   "metadata": {},
   "outputs": [
    {
     "name": "stderr",
     "output_type": "stream",
     "text": [
      "/Users/kristigourlay/anaconda3/lib/python3.7/site-packages/pyLDAvis/_prepare.py:257: FutureWarning: Sorting because non-concatenation axis is not aligned. A future version\n",
      "of pandas will change to not sort by default.\n",
      "\n",
      "To accept the future behavior, pass 'sort=False'.\n",
      "\n",
      "To retain the current behavior and silence the warning, pass 'sort=True'.\n",
      "\n",
      "  return pd.concat([default_term_info] + list(topic_dfs))\n"
     ]
    },
    {
     "data": {
      "text/html": [
       "\n",
       "<link rel=\"stylesheet\" type=\"text/css\" href=\"https://cdn.rawgit.com/bmabey/pyLDAvis/files/ldavis.v1.0.0.css\">\n",
       "\n",
       "\n",
       "<div id=\"ldavis_el48154112081782608639507326\"></div>\n",
       "<script type=\"text/javascript\">\n",
       "\n",
       "var ldavis_el48154112081782608639507326_data = {\"mdsDat\": {\"x\": [-0.3928495377047323, 0.058540044519992965, 0.02603463481448148, 0.019673440583655014, -0.034588933150539354, 0.09783668903513737, -0.05571031269287478, 0.0703501107534319, 0.16546776167451752, 0.04524610216692977], \"y\": [0.045511046097506405, 0.16979223821985726, -0.006368198568029621, 0.012084399282233177, -0.2025164879470475, 0.00040577127252812027, -0.0669134193275859, -0.2237800343849839, 0.004498829224466589, 0.2672858561310561], \"topics\": [1, 2, 3, 4, 5, 6, 7, 8, 9, 10], \"cluster\": [1, 1, 1, 1, 1, 1, 1, 1, 1, 1], \"Freq\": [14.597294623291003, 14.229734833969163, 10.725374060579325, 10.574498306590266, 10.348313297550122, 9.520798031347937, 8.550586791629772, 8.36566750980396, 8.309044442951055, 4.778688102287388]}, \"tinfo\": {\"Category\": [\"Default\", \"Default\", \"Default\", \"Default\", \"Default\", \"Default\", \"Default\", \"Default\", \"Default\", \"Default\", \"Default\", \"Default\", \"Default\", \"Default\", \"Default\", \"Default\", \"Default\", \"Default\", \"Default\", \"Default\", \"Default\", \"Default\", \"Default\", \"Default\", \"Default\", \"Default\", \"Default\", \"Default\", \"Default\", \"Default\", \"Topic1\", \"Topic1\", \"Topic1\", \"Topic1\", \"Topic1\", \"Topic1\", \"Topic1\", \"Topic1\", \"Topic1\", \"Topic1\", \"Topic1\", \"Topic1\", \"Topic1\", \"Topic1\", \"Topic1\", \"Topic1\", \"Topic1\", \"Topic1\", \"Topic1\", \"Topic1\", \"Topic1\", \"Topic1\", \"Topic1\", \"Topic1\", \"Topic1\", \"Topic1\", \"Topic1\", \"Topic1\", \"Topic1\", \"Topic1\", \"Topic1\", \"Topic1\", \"Topic1\", \"Topic1\", \"Topic1\", \"Topic1\", \"Topic1\", \"Topic1\", \"Topic1\", \"Topic1\", \"Topic1\", \"Topic1\", \"Topic1\", \"Topic1\", \"Topic1\", \"Topic1\", \"Topic1\", \"Topic1\", \"Topic1\", \"Topic1\", \"Topic1\", \"Topic1\", \"Topic1\", \"Topic1\", \"Topic1\", \"Topic1\", \"Topic1\", \"Topic1\", \"Topic2\", \"Topic2\", \"Topic2\", \"Topic2\", \"Topic2\", \"Topic2\", \"Topic2\", \"Topic2\", \"Topic2\", \"Topic2\", \"Topic2\", \"Topic2\", \"Topic2\", \"Topic2\", \"Topic2\", \"Topic2\", \"Topic2\", \"Topic2\", \"Topic2\", \"Topic2\", \"Topic2\", \"Topic2\", \"Topic2\", \"Topic2\", \"Topic2\", \"Topic2\", \"Topic2\", \"Topic2\", \"Topic2\", \"Topic2\", \"Topic2\", \"Topic2\", \"Topic2\", \"Topic2\", \"Topic2\", \"Topic2\", \"Topic2\", \"Topic2\", \"Topic2\", \"Topic2\", \"Topic2\", \"Topic2\", \"Topic2\", \"Topic2\", \"Topic2\", \"Topic2\", \"Topic2\", \"Topic2\", \"Topic2\", \"Topic2\", \"Topic2\", \"Topic2\", \"Topic2\", \"Topic2\", \"Topic2\", \"Topic2\", \"Topic2\", \"Topic2\", \"Topic2\", \"Topic2\", \"Topic2\", \"Topic2\", \"Topic2\", \"Topic2\", \"Topic2\", \"Topic2\", \"Topic3\", \"Topic3\", \"Topic3\", \"Topic3\", \"Topic3\", \"Topic3\", \"Topic3\", \"Topic3\", \"Topic3\", \"Topic3\", \"Topic3\", \"Topic3\", \"Topic3\", \"Topic3\", \"Topic3\", \"Topic3\", \"Topic3\", \"Topic3\", \"Topic3\", \"Topic3\", \"Topic3\", \"Topic3\", \"Topic3\", \"Topic3\", \"Topic3\", \"Topic3\", \"Topic3\", \"Topic3\", \"Topic3\", \"Topic3\", \"Topic3\", \"Topic3\", \"Topic3\", \"Topic3\", \"Topic3\", \"Topic3\", \"Topic3\", \"Topic3\", \"Topic3\", \"Topic3\", \"Topic3\", \"Topic3\", \"Topic3\", \"Topic3\", \"Topic3\", \"Topic3\", \"Topic3\", \"Topic3\", \"Topic3\", \"Topic3\", \"Topic3\", \"Topic3\", \"Topic3\", \"Topic3\", \"Topic3\", \"Topic3\", \"Topic3\", \"Topic3\", \"Topic3\", \"Topic3\", \"Topic3\", \"Topic3\", \"Topic3\", \"Topic3\", \"Topic4\", \"Topic4\", \"Topic4\", \"Topic4\", \"Topic4\", \"Topic4\", \"Topic4\", \"Topic4\", \"Topic4\", \"Topic4\", \"Topic4\", \"Topic4\", \"Topic4\", \"Topic4\", \"Topic4\", \"Topic4\", \"Topic4\", \"Topic4\", \"Topic4\", \"Topic4\", \"Topic4\", \"Topic4\", \"Topic4\", \"Topic4\", \"Topic4\", \"Topic4\", \"Topic4\", \"Topic4\", \"Topic4\", \"Topic4\", \"Topic4\", \"Topic4\", \"Topic4\", \"Topic4\", \"Topic4\", \"Topic4\", \"Topic4\", \"Topic4\", \"Topic4\", \"Topic4\", \"Topic4\", \"Topic4\", \"Topic4\", \"Topic4\", \"Topic4\", \"Topic4\", \"Topic4\", \"Topic4\", \"Topic4\", \"Topic4\", \"Topic4\", \"Topic4\", \"Topic4\", \"Topic4\", \"Topic4\", \"Topic4\", \"Topic4\", \"Topic4\", \"Topic4\", \"Topic4\", \"Topic4\", \"Topic4\", \"Topic4\", \"Topic4\", \"Topic4\", \"Topic4\", \"Topic4\", \"Topic4\", \"Topic4\", \"Topic4\", \"Topic5\", \"Topic5\", \"Topic5\", \"Topic5\", \"Topic5\", \"Topic5\", \"Topic5\", \"Topic5\", \"Topic5\", \"Topic5\", \"Topic5\", \"Topic5\", \"Topic5\", \"Topic5\", \"Topic5\", \"Topic5\", \"Topic5\", \"Topic5\", \"Topic5\", \"Topic5\", \"Topic5\", \"Topic5\", \"Topic5\", \"Topic5\", \"Topic5\", \"Topic5\", \"Topic5\", \"Topic5\", \"Topic5\", \"Topic5\", \"Topic5\", \"Topic5\", \"Topic5\", \"Topic5\", \"Topic5\", \"Topic5\", \"Topic5\", \"Topic5\", \"Topic5\", \"Topic5\", \"Topic5\", \"Topic5\", \"Topic5\", \"Topic5\", \"Topic5\", \"Topic5\", \"Topic5\", \"Topic5\", \"Topic5\", \"Topic5\", \"Topic5\", \"Topic5\", \"Topic5\", \"Topic5\", \"Topic5\", \"Topic5\", \"Topic5\", \"Topic5\", \"Topic5\", \"Topic5\", \"Topic5\", \"Topic5\", \"Topic5\", \"Topic5\", \"Topic5\", \"Topic5\", \"Topic5\", \"Topic5\", \"Topic5\", \"Topic5\", \"Topic5\", \"Topic5\", \"Topic5\", \"Topic6\", \"Topic6\", \"Topic6\", \"Topic6\", \"Topic6\", \"Topic6\", \"Topic6\", \"Topic6\", \"Topic6\", \"Topic6\", \"Topic6\", \"Topic6\", \"Topic6\", \"Topic6\", \"Topic6\", \"Topic6\", \"Topic6\", \"Topic6\", \"Topic6\", \"Topic6\", \"Topic6\", \"Topic6\", \"Topic6\", \"Topic6\", \"Topic6\", \"Topic6\", \"Topic6\", \"Topic6\", \"Topic6\", \"Topic6\", \"Topic6\", \"Topic6\", \"Topic6\", \"Topic6\", \"Topic6\", \"Topic6\", \"Topic6\", \"Topic6\", \"Topic6\", \"Topic6\", \"Topic6\", \"Topic6\", \"Topic6\", \"Topic6\", \"Topic6\", \"Topic6\", \"Topic6\", \"Topic6\", \"Topic6\", \"Topic6\", \"Topic6\", \"Topic6\", \"Topic6\", \"Topic6\", \"Topic6\", \"Topic6\", \"Topic6\", \"Topic6\", \"Topic6\", \"Topic6\", \"Topic6\", \"Topic6\", \"Topic6\", \"Topic6\", \"Topic6\", \"Topic6\", \"Topic6\", \"Topic6\", \"Topic6\", \"Topic7\", \"Topic7\", \"Topic7\", \"Topic7\", \"Topic7\", \"Topic7\", \"Topic7\", \"Topic7\", \"Topic7\", \"Topic7\", \"Topic7\", \"Topic7\", \"Topic7\", \"Topic7\", \"Topic7\", \"Topic7\", \"Topic7\", \"Topic7\", \"Topic7\", \"Topic7\", \"Topic7\", \"Topic7\", \"Topic7\", \"Topic7\", \"Topic7\", \"Topic7\", \"Topic7\", \"Topic7\", \"Topic7\", \"Topic7\", \"Topic7\", \"Topic7\", \"Topic7\", \"Topic7\", \"Topic7\", \"Topic7\", \"Topic7\", \"Topic7\", \"Topic7\", \"Topic7\", \"Topic7\", \"Topic7\", \"Topic7\", \"Topic7\", \"Topic7\", \"Topic7\", \"Topic7\", \"Topic7\", \"Topic7\", \"Topic7\", \"Topic7\", \"Topic7\", \"Topic7\", \"Topic7\", \"Topic7\", \"Topic7\", \"Topic7\", \"Topic7\", \"Topic7\", \"Topic7\", \"Topic7\", \"Topic7\", \"Topic7\", \"Topic7\", \"Topic7\", \"Topic7\", \"Topic7\", \"Topic7\", \"Topic7\", \"Topic7\", \"Topic7\", \"Topic7\", \"Topic7\", \"Topic7\", \"Topic7\", \"Topic8\", \"Topic8\", \"Topic8\", \"Topic8\", \"Topic8\", \"Topic8\", \"Topic8\", \"Topic8\", \"Topic8\", \"Topic8\", \"Topic8\", \"Topic8\", \"Topic8\", \"Topic8\", \"Topic8\", \"Topic8\", \"Topic8\", \"Topic8\", \"Topic8\", \"Topic8\", \"Topic8\", \"Topic8\", \"Topic8\", \"Topic8\", \"Topic8\", \"Topic8\", \"Topic8\", \"Topic8\", \"Topic8\", \"Topic8\", \"Topic8\", \"Topic8\", \"Topic8\", \"Topic8\", \"Topic8\", \"Topic8\", \"Topic8\", \"Topic8\", \"Topic8\", \"Topic8\", \"Topic8\", \"Topic8\", \"Topic8\", \"Topic8\", \"Topic8\", \"Topic8\", \"Topic8\", \"Topic8\", \"Topic8\", \"Topic8\", \"Topic8\", \"Topic8\", \"Topic8\", \"Topic8\", \"Topic8\", \"Topic8\", \"Topic8\", \"Topic8\", \"Topic8\", \"Topic8\", \"Topic8\", \"Topic8\", \"Topic8\", \"Topic8\", \"Topic8\", \"Topic8\", \"Topic8\", \"Topic8\", \"Topic8\", \"Topic8\", \"Topic8\", \"Topic9\", \"Topic9\", \"Topic9\", \"Topic9\", \"Topic9\", \"Topic9\", \"Topic9\", \"Topic9\", \"Topic9\", \"Topic9\", \"Topic9\", \"Topic9\", \"Topic9\", \"Topic9\", \"Topic9\", \"Topic9\", \"Topic9\", \"Topic9\", \"Topic9\", \"Topic9\", \"Topic9\", \"Topic9\", \"Topic9\", \"Topic9\", \"Topic9\", \"Topic9\", \"Topic9\", \"Topic9\", \"Topic9\", \"Topic9\", \"Topic9\", \"Topic9\", \"Topic9\", \"Topic9\", \"Topic9\", \"Topic9\", \"Topic9\", \"Topic9\", \"Topic9\", \"Topic9\", \"Topic9\", \"Topic9\", \"Topic9\", \"Topic9\", \"Topic9\", \"Topic9\", \"Topic9\", \"Topic9\", \"Topic9\", \"Topic9\", \"Topic9\", \"Topic9\", \"Topic9\", \"Topic9\", \"Topic9\", \"Topic9\", \"Topic9\", \"Topic9\", \"Topic9\", \"Topic9\", \"Topic9\", \"Topic9\", \"Topic9\", \"Topic9\", \"Topic9\", \"Topic9\", \"Topic9\", \"Topic9\", \"Topic10\", \"Topic10\", \"Topic10\", \"Topic10\", \"Topic10\", \"Topic10\", \"Topic10\", \"Topic10\", \"Topic10\", \"Topic10\", \"Topic10\", \"Topic10\", \"Topic10\", \"Topic10\", \"Topic10\", \"Topic10\", \"Topic10\", \"Topic10\", \"Topic10\", \"Topic10\", \"Topic10\", \"Topic10\", \"Topic10\", \"Topic10\", \"Topic10\", \"Topic10\", \"Topic10\", \"Topic10\", \"Topic10\", \"Topic10\", \"Topic10\", \"Topic10\", \"Topic10\", \"Topic10\", \"Topic10\", \"Topic10\", \"Topic10\", \"Topic10\", \"Topic10\", \"Topic10\", \"Topic10\", \"Topic10\", \"Topic10\", \"Topic10\", \"Topic10\", \"Topic10\", \"Topic10\", \"Topic10\", \"Topic10\", \"Topic10\", \"Topic10\", \"Topic10\", \"Topic10\", \"Topic10\", \"Topic10\", \"Topic10\", \"Topic10\", \"Topic10\", \"Topic10\", \"Topic10\", \"Topic10\", \"Topic10\"], \"Freq\": [11421.0, 4842.0, 13116.0, 12361.0, 12256.0, 4874.0, 11722.0, 8618.0, 5853.0, 2485.0, 2796.0, 4715.0, 4707.0, 5382.0, 3502.0, 2460.0, 5034.0, 4682.0, 5895.0, 11224.0, 7073.0, 4591.0, 4044.0, 6122.0, 8882.0, 2893.0, 3155.0, 2877.0, 2822.0, 2583.0, 2876.9080238929923, 2152.8707567835145, 1704.698836423368, 1022.2772011044883, 834.4902727531122, 733.780805744117, 537.3222924236113, 589.4548776012194, 972.083121148385, 383.414454511981, 380.510497550932, 366.958878183017, 357.2755392700333, 342.7583685636509, 264.34506671167884, 248.86605673081618, 237.25037443912433, 234.34645031383474, 232.41050244050106, 212.0830274047904, 230.31398213141435, 195.60781246578117, 181.10788266543835, 174.33207861800145, 168.5242451444675, 163.68436811286338, 146.26084178458353, 144.3248663494112, 121.09352128631656, 106.57389282687245, 1073.050711147339, 340.1938613614255, 3762.3478402187466, 3760.956803518808, 535.1353583706035, 771.8840067668439, 5780.863176881387, 526.6072777734582, 5324.844579671662, 6914.458514793915, 3337.892385417144, 431.71092724652163, 4187.992502112778, 1723.4033250946802, 2751.2576432222895, 752.2450221108195, 2346.2481737814987, 891.3991164363933, 1058.764746058123, 734.2123652429399, 562.34975108885, 1044.5739521502642, 848.5458717137411, 1175.2505354032023, 1084.3786802785614, 1330.5329642319657, 838.6126310655205, 794.064748900749, 738.5288376826554, 451.29663520504727, 430.4357911850445, 386.6912389171657, 291.2969885879359, 271.420030235664, 222.72142880639856, 207.81369910100406, 168.05973901414922, 141.22586842419915, 141.22585421631186, 137.1680719967241, 123.25406629905258, 240.10533205359755, 150.40673356358099, 73.64415373045213, 63.70567120610239, 59.730234043039005, 3446.5420747969442, 62.47393028502369, 42.834818132288454, 42.834818132288454, 38.859466131068515, 38.85946558446558, 37.86561799065259, 36.87176298933573, 35.8733795088405, 117.92254121446564, 31.9025143437051, 31.90248195507139, 4721.787179403637, 469.65851187680755, 120.29820721431884, 112.98676809453809, 521.3296279501222, 267.74632910390005, 132.35468417504683, 1386.638454372669, 1437.4581660344627, 8278.978356326224, 676.0795472686302, 224.33620256899627, 958.4891205297275, 3282.6021270335455, 2860.9492633990385, 1217.1482916028751, 710.1827146862679, 1007.6756946826068, 2230.665816317275, 1230.6262803486993, 708.1726963455659, 3773.2781360959275, 1251.0833947764904, 3727.8531815947263, 1136.6366948952389, 1374.0436694529676, 1885.1057443007835, 2731.3045215127304, 1144.54212783943, 1353.8556451401412, 1039.2495335644605, 1563.5384757477489, 909.8213236172606, 1297.9526020142048, 1024.535359294866, 982.4085935078846, 1071.030024758792, 965.9387552932334, 927.9057423886251, 763.7631831882869, 307.36685366347666, 2170.2463025788475, 173.25044107195265, 168.24609347319824, 120.20437381077642, 113.19822134232493, 106.19221095781639, 87.17569603161277, 277.20780573316983, 72.16266035596078, 71.16179192451622, 58.15049043245471, 51.144409675925154, 51.144407927549665, 47.14093181234883, 45.139183640942846, 40.13484762107798, 731.1489503133781, 36.13130892487561, 31.126996786303973, 23.12007516070767, 23.120072354950057, 24.080346192966648, 20.11746848462185, 19.116558396784086, 16.113990580192407, 323.4368949648485, 1481.495126290567, 271.8197317135861, 296.86770903317284, 60.07785934032986, 2871.903500534561, 254.56811737588762, 375.35037811433614, 848.0290944196807, 1495.7442340904802, 2751.9703875487558, 622.0112192818335, 545.444559828822, 1493.74500431573, 267.33394027701985, 2342.9891002209174, 5682.757352664726, 1142.6409798715997, 1433.076146624541, 1466.8144001508806, 703.4700652645912, 1481.092652496947, 2532.506213225918, 1479.5489765378625, 2293.6874341276834, 1701.7519880983134, 1129.0141463188177, 1260.0746585774252, 1040.1178097056656, 716.4383571586696, 612.4324485636267, 715.0930368969613, 818.3858896731778, 930.2601038514457, 1770.532028593874, 929.287920219866, 624.3369466290887, 566.023427418849, 451.3083069655878, 383.4352254553942, 284.01543168333626, 282.1035476826789, 183.63970381226542, 179.73853834199141, 91.86762467995622, 76.57231652323281, 67.01270084402735, 64.14481360295692, 60.32097467779779, 56.49714822561947, 54.58524426194645, 54.585208471264664, 49.805470547550115, 47.89353349606745, 46.93754653592882, 45.02564548923611, 43.113740446278634, 43.11365812662033, 135.68605862089083, 39.28990558736151, 37.37797389822813, 31.642225436646658, 46.502643610590766, 30.686242841631383, 2426.804470050485, 102.5181598125687, 1144.0120247468938, 1612.0700352495257, 432.083522977683, 116.4444089922296, 135.97861304273846, 1876.7019949671653, 5646.265748334424, 194.33285477219582, 449.2049232405549, 376.44879034161227, 796.5052944732829, 2641.8885252482382, 178.97357069527018, 277.87830352200365, 338.4920462133643, 253.23112317341912, 305.3779272440831, 365.54028743566556, 873.0316810212678, 1486.4887769789636, 1207.1847595706263, 921.1176111594929, 1870.1048071827688, 1892.3111571897916, 2321.400056374018, 2027.2704081281374, 1374.961635897783, 1510.539602938514, 758.266338966415, 623.1703222524621, 1039.1114227646117, 773.7251114008575, 736.5133790291678, 1125.1596473191591, 609.7977244662535, 786.4821149223698, 593.9196424170974, 601.0408103366972, 424.6606656344617, 410.86978410471977, 289.70693851147496, 230.60319295245327, 215.82729951482327, 623.2402096918162, 244.97886629547583, 279.8063486786094, 367.7904381258335, 50.336696380658964, 50.33669638065895, 59.981998320231206, 59.98180566509939, 48.36651128978477, 47.381507232712174, 43.44123593888155, 43.441235938881555, 37.53081474743871, 35.56074252475501, 42.27614330388035, 29.65027619179467, 95.51174795993244, 24.725031538977756, 81.04274625517853, 16.844531064112246, 16.844481261077377, 16.84444793925832, 15.85949388924373, 127.04881256719723, 14.874355411930301, 113.70635706656189, 80.47326114025894, 2582.6509466359075, 141.00784129126245, 95.24031072100858, 217.40038933654154, 2478.6254060120173, 143.64436106929563, 136.67193129165588, 184.59647464939866, 276.5981740126402, 228.4812510181414, 247.8107397835579, 5465.24330194518, 622.9843585312003, 1249.0778151294462, 135.79021204022615, 438.04194506264076, 1341.5709947770065, 3888.1809087201354, 606.0352110846469, 622.1423786122878, 1339.0569071449877, 1666.416148241017, 758.4552963294137, 2884.6327605415963, 1615.5550025301702, 1232.9972247133671, 846.2967273749654, 796.6105403717456, 830.9532842300483, 723.9787029048489, 1790.235334808258, 1379.6347620417462, 694.7690729704414, 1007.5298114318425, 871.3503744365765, 501.57088574530303, 840.9826291175136, 875.949983698596, 1052.5163157157028, 764.064396800984, 655.6524165192717, 240.21111818110344, 325.1013771779196, 4816.921316507385, 152.99184507335264, 306.4564393335621, 89.2860704961196, 86.34578443662465, 135.8154173927947, 67.72411850613777, 85.5465838529541, 42.24179933765186, 42.2417994025527, 40.281599251009446, 35.38116495277793, 34.400923156413675, 34.40092313421695, 22.64000311690147, 21.659948651457995, 20.67985600675542, 164.34184102778858, 16.75912673070914, 15.779365073568826, 516.489674498114, 13.819227180975776, 195.3101992649368, 12.839130009126475, 131.61015368831158, 11.859029687179214, 10.878956046804321, 10.87895333846523, 142.77741903190517, 45.873946835786455, 583.5072257590544, 990.219003487852, 1295.448637869317, 74.61771966794426, 401.4080557835778, 1855.1380513251893, 245.27332428235036, 126.12060309724114, 3374.3016355481273, 3510.858201054202, 462.23874189821373, 1409.7561778726174, 245.66801213683434, 270.2434349685915, 726.9118759871161, 684.6524413541476, 847.7706448058947, 712.8165636939705, 1100.3987742930597, 894.1571443042376, 607.0389932866399, 2464.0419764070607, 2408.94778722582, 1655.632766795638, 663.5581773014809, 972.042842887693, 1074.722869914859, 775.9248210961347, 1003.1030361064396, 1107.5867977112305, 1317.4799942843838, 618.8345817563212, 803.7150652807453, 749.527930623844, 631.3285111228736, 597.5137153117881, 606.3825112082194, 155.44307707834616, 155.4430038827928, 146.429062308303, 146.42906219104134, 117.36370571512016, 111.3502141894308, 102.32992513499553, 68.1782280595365, 51.215043122388245, 45.92163445662639, 33.17408822372671, 32.17226600655601, 29.165526210698516, 29.146883254787937, 26.15877969308424, 26.158766737072423, 26.158733821133858, 27.064144638496714, 23.151924681162907, 22.1497394086204, 21.14750926045995, 19.14300342887809, 17.138501651700796, 17.085014530240993, 16.13622192911956, 15.133935530075314, 14.131727434318664, 12.12719858872352, 12.127141147494477, 64.07856494300339, 56.201272533638544, 173.8674123586746, 201.2655825350635, 108.03413155938073, 221.59810168673707, 231.72986854261583, 114.9292557251327, 218.55595179084494, 355.38251695080913, 1471.820941102627, 177.93479947330485, 1540.814538238518, 1111.6463435892163, 1435.6287252860964, 92.23635270684917, 273.41001370443576, 360.84845828327127, 551.5253502932355, 772.0203297895645, 831.1575093903325, 1091.0879540125295, 420.4044797896532, 1954.6421227377843, 348.8183142633411, 835.2911262587604, 2777.943449356417, 1551.7631521789538, 1238.8174985447588, 1078.88003777756, 1008.4963142358707, 2428.77882858528, 714.9397979203794, 773.4852890085389, 1323.186084224148, 952.7650973443447, 943.4128681414254, 1378.4050426429508, 631.7127540776719, 1693.550410876069, 789.9180745495505, 828.1697829097391, 672.8240890439772, 539.0953464065839, 700.7958653784907, 465.4131189383969, 132.02630230064116, 332.5875551483135, 64.25186559853091, 56.926421992667116, 51.836357175299575, 55.88527461069862, 38.3857953660039, 35.28182742085544, 31.14319372285476, 28.03924073831397, 28.03924073831397, 27.00449650130785, 606.8201795352132, 24.935226830404346, 17.69263356087001, 17.692632841084997, 17.692450939835144, 37.10305925213273, 12.5193529509209, 11.484689729554823, 10.450015048625897, 10.449972194036214, 10.449876497786962, 171.98597761642193, 9.415324813250292, 9.415324813250292, 9.415301831802253, 9.415244723888481, 8.380718270331617, 8.380345561795487, 307.4495155172139, 497.0539800586982, 172.20042185821663, 142.83099738105176, 487.48525594526944, 68.6458069976098, 2025.2661916618524, 2250.283199691721, 802.4224476514833, 80.64701568313846, 70.02162890850246, 242.84104443677154, 2329.296827918274, 4777.468240267075, 249.35731735350655, 1646.8073239600458, 239.1329868607068, 546.3409328171401, 143.82239485967523, 1046.255928692947, 1299.4047934109851, 679.4552421238697, 2565.1976994428355, 562.0008902485998, 1674.1439914143348, 629.702579420632, 395.4706688187452, 288.4676878868515, 1173.2165443105118, 2416.7046789108344, 1412.0526531733908, 1060.6819574579933, 617.1137884185061, 1558.3753184455938, 610.9489791563374, 775.1628044821425, 1276.886642040705, 616.1337963322702, 490.1249406056792, 577.1533136463665, 474.61937252552775, 709.7290973788669, 407.36669235030604, 367.25735527246775, 301.34059681255553, 193.45030450719847, 201.62141274012356, 112.17166812180821, 75.17920686373039, 845.1587115756035, 51.52501157538171, 51.525011575381725, 50.494651885599005, 38.15372099766817, 53.88859168519582, 29.92757968479914, 90.04234789617226, 23.757026948051777, 21.70015583128959, 21.699952778605617, 19.643255346448594, 19.64321905528308, 17.586359957566806, 201.66258062933196, 15.529493133724475, 14.50099536536831, 13.472465231770949, 11.415592557919418, 11.415586756019525, 47.68610084470441, 10.387254247288014, 293.99217195819097, 107.08490660843735, 54.277934290958655, 174.61581792923596, 1099.114494244812, 40.39255245147929, 505.55397775821297, 1418.5111982893325, 471.6259496780255, 549.5158982229588, 2295.930997249893, 221.59809759174885, 1197.7008271795592, 1118.5395732643067, 373.13307674423777, 883.0336008485185, 1014.373952945112, 2902.95714013366, 1502.837738919425, 583.5253103173447, 1696.3833261902291, 3630.1733471343464, 2139.8624759823715, 1961.8703296534009, 1055.3084634621598, 2301.5441817184055, 657.8681996568387, 1739.2253838603106, 481.1212021803035, 832.4658006437594, 946.8898773065057, 542.4005743672018, 705.7398452519012, 514.2616563406746, 643.3512860492739, 523.1623953126419, 507.308699149328, 570.4923521854055, 606.5638980264496, 298.57871401456555, 179.19144499768836, 169.24243267759232, 195.61340440978546, 165.92184368126544, 99.59992607594491, 92.67835709729047, 70.85854679097196, 65.33130385505422, 62.014947266815966, 54.27695177564991, 54.27695177564506, 91.09405031920782, 46.53889308602786, 46.27617614220273, 34.379093580249446, 26.640926125100123, 24.430139470355595, 1111.9206680151606, 21.113809541181816, 20.008407270935262, 18.90297870766706, 2370.006856286493, 15.586621407018798, 13.375718143650944, 235.5677450183658, 12.270344595654372, 11.164788471583694, 10.059434032896702, 109.88352117533326, 2087.7167691971454, 92.41477278944537, 847.2710449957639, 2170.4970448207064, 109.21547180829647, 193.8674376417286, 269.16095518890313, 346.1779318090828, 111.17344257213293, 1749.6348477683205, 201.59662048466572, 130.0053377867424, 308.0102005084489, 2349.813801859737, 203.28860867181857, 600.6247752223151, 250.5420030957764, 483.47280566355465, 591.0794022053929, 513.8223144405102, 579.903200949784, 266.25435161426617, 333.5397009552426, 546.301168016225, 362.26462033518425, 341.5214045789841, 292.9144419943782, 285.4922023038621, 263.1650946638688, 233.28272695786058, 213.51479431805996], \"Term\": [\"cheese\", \"lime\", \"sauce\", \"olive\", \"sugar\", \"soy\", \"chicken\", \"flour\", \"cilantro\", \"sodium\", \"fat\", \"all\", \"purpose\", \"ginger\", \"sesame\", \"low\", \"vinegar\", \"broth\", \"cream\", \"tomato\", \"juice\", \"cumin\", \"seed\", \"rice\", \"egg\", \"parmesan\", \"extra\", \"baking\", \"virgin\", \"shredded\", \"baking\", \"vanilla\", \"extract\", \"soda\", \"chocolate\", \"yeast\", \"powdered\", \"pecan\", \"buttermilk\", \"confectioner\", \"cocoa\", \"active\", \"shortening\", \"sweetened\", \"whiskey\", \"strawberry\", \"raspberry\", \"self\", \"rising\", \"pure\", \"coffee\", \"bourbon\", \"unbleached\", \"tartar\", \"semisweet\", \"whipped\", \"bittersweet\", \"gelatin\", \"espresso\", \"unflavored\", \"yolk\", \"peach\", \"purpose\", \"all\", \"ice\", \"granulated\", \"flour\", \"syrup\", \"egg\", \"sugar\", \"milk\", \"cornmeal\", \"butter\", \"unsalted\", \"large\", \"almond\", \"cream\", \"orange\", \"cinnamon\", \"heavy\", \"whipping\", \"brown\", \"whole\", \"lemon\", \"corn\", \"ground\", \"juice\", \"vegetable\", \"chinese\", \"beansprouts\", \"hoisin\", \"wrapper\", \"five\", \"shaoxing\", \"choy\", \"bok\", \"wonton\", \"gochujang\", \"szechwan\", \"bamboo\", \"belly\", \"napa\", \"shoot\", \"paper\", \"mein\", \"dipping\", \"sesame\", \"dumpling\", \"won\", \"ton\", \"gai\", \"fermented\", \"lan\", \"korean\", \"soybean\", \"creamy\", \"chow\", \"sticky\", \"soy\", \"spring\", \"mung\", \"kimchi\", \"oyster\", \"sriracha\", \"wing\", \"peanut\", \"starch\", \"sauce\", \"toasted\", \"chestnut\", \"noodle\", \"rice\", \"ginger\", \"scallion\", \"dark\", \"fish\", \"vinegar\", \"pork\", \"cabbage\", \"sugar\", \"brown\", \"garlic\", \"carrot\", \"corn\", \"green\", \"onion\", \"chili\", \"vegetable\", \"seed\", \"chicken\", \"wine\", \"ground\", \"egg\", \"clove\", \"masala\", \"turmeric\", \"garam\", \"tumeric\", \"ghee\", \"coriander\", \"dal\", \"fenugreek\", \"paneer\", \"chutney\", \"asafoetida\", \"amchur\", \"yoghurt\", \"methi\", \"urad\", \"gram\", \"kasuri\", \"asafetida\", \"jeera\", \"chaat\", \"jaggery\", \"cardamom\", \"madras\", \"tandoori\", \"moong\", \"chana\", \"nigella\", \"shahi\", \"pandanus\", \"toor\", \"basmati\", \"curry\", \"pod\", \"lentil\", \"split\", \"seed\", \"cauliflower\", \"chickpea\", \"yogurt\", \"coconut\", \"cumin\", \"plain\", \"stick\", \"cinnamon\", \"cashew\", \"ginger\", \"ground\", \"paste\", \"chili\", \"cilantro\", \"cayenne\", \"leaf\", \"onion\", \"clove\", \"garlic\", \"tomato\", \"milk\", \"green\", \"vegetable\", \"chilies\", \"mustard\", \"potato\", \"lemon\", \"chicken\", \"cheddar\", \"jack\", \"taco\", \"monterey\", \"sharp\", \"enchilada\", \"lasagna\", \"refried\", \"guacamole\", \"cottage\", \"elbow\", \"colby\", \"picante\", \"grating\", \"or\", \"hellmann\", \"best\", \"prepar\", \"paso\", \"mayonnais\", \"ready\", \"oven\", \"kraft\", \"real\", \"verde\", \"ragu\", \"american\", \"fajita\", \"crescent\", \"velveeta\", \"shredded\", \"ranch\", \"salsa\", \"sour\", \"soup\", \"macaroni\", \"non\", \"tortilla\", \"cheese\", \"blend\", \"mix\", \"chip\", \"mozzarella\", \"cream\", \"marinara\", \"dressing\", \"lean\", \"part\", \"mexican\", \"kernel\", \"seasoning\", \"corn\", \"bean\", \"beef\", \"tomato\", \"sauce\", \"onion\", \"ground\", \"green\", \"chicken\", \"breast\", \"diced\", \"flour\", \"chili\", \"cumin\", \"garlic\", \"chilies\", \"olive\", \"cilantro\", \"egg\", \"reggiano\", \"parmigiano\", \"arborio\", \"artichoke\", \"pecorino\", \"feta\", \"heart\", \"romano\", \"crumbles\", \"artichok\", \"marin\", \"gruy\", \"re\", \"endive\", \"rabe\", \"hanout\", \"ra\", \"belgian\", \"salata\", \"orecchiette\", \"bulgur\", \"hair\", \"spaghettini\", \"asiago\", \"soppressata\", \"rack\", \"picholine\", \"bucatini\", \"fontina\", \"chanterelle\", \"chard\", \"rigatoni\", \"parmesan\", \"fettucine\", \"angel\", \"goat\", \"grated\", \"pita\", \"polenta\", \"swiss\", \"pinenuts\", \"prosciutto\", \"penne\", \"cheese\", \"crumb\", \"bread\", \"provolone\", \"ricotta\", \"basil\", \"olive\", \"pasta\", \"spinach\", \"parsley\", \"lemon\", \"spray\", \"garlic\", \"clove\", \"dried\", \"dry\", \"virgin\", \"extra\", \"cooking\", \"ground\", \"tomato\", \"oregano\", \"leaf\", \"large\", \"mozzarella\", \"juice\", \"butter\", \"onion\", \"egg\", \"wine\", \"ancho\", \"tomatillo\", \"lime\", \"tequila\", \"adobo\", \"guajillo\", \"crema\", \"kaffir\", \"cachaca\", \"galangal\", \"epazote\", \"ha\", \"pasilla\", \"grate\", \"triple\", \"sec\", \"achiote\", \"mexicana\", \"limeade\", \"fresco\", \"broiler\", \"canela\", \"chipotle\", \"nam\", \"queso\", \"minicub\", \"cotija\", \"sazon\", \"fresca\", \"mulato\", \"hominy\", \"anaheim\", \"wedge\", \"avocado\", \"jalapeno\", \"jicama\", \"serrano\", \"chile\", \"poblano\", \"palm\", \"cilantro\", \"juice\", \"thai\", \"chilies\", \"lemongrass\", \"in\", \"purple\", \"fish\", \"boneless\", \"skinless\", \"cumin\", \"breast\", \"orange\", \"onion\", \"garlic\", \"chicken\", \"tortilla\", \"corn\", \"clove\", \"chili\", \"leaf\", \"tomato\", \"ground\", \"kosher\", \"olive\", \"sauce\", \"green\", \"vegetable\", \"sugar\", \"me\", \"cr\", \"che\", \"fra\", \"lump\", \"stew\", \"dripping\", \"parsnip\", \"rubbed\", \"bonnet\", \"fryer\", \"corned\", \"sauerkraut\", \"stewing\", \"burgundy\", \"bouquet\", \"boil\", \"shucked\", \"tasso\", \"pig\", \"juniper\", \"garni\", \"rutabaga\", \"applewood\", \"sauvignon\", \"blanc\", \"pan\", \"manioc\", \"winter\", \"mashed\", \"scotch\", \"veal\", \"yukon\", \"liver\", \"gold\", \"crab\", \"pearl\", \"russet\", \"sage\", \"thyme\", \"chuck\", \"beef\", \"bay\", \"potato\", \"shank\", \"leek\", \"meat\", \"bacon\", \"stock\", \"celery\", \"carrot\", \"rib\", \"butter\", \"sprig\", \"unsalted\", \"ground\", \"leaf\", \"dried\", \"wine\", \"parsley\", \"onion\", \"pork\", \"dry\", \"flour\", \"all\", \"purpose\", \"chicken\", \"mushroom\", \"garlic\", \"broth\", \"clove\", \"cream\", \"kosher\", \"olive\", \"vegetable\", \"catfish\", \"anchovy\", \"littleneck\", \"haricot\", \"vine\", \"verts\", \"bertolli\", \"ripened\", \"loosely\", \"ni\", \"oise\", \"haddock\", \"balsamic\", \"beefsteak\", \"bocconcini\", \"classico\", \"tongue\", \"heirloom\", \"well\", \"octopus\", \"focaccia\", \"aioli\", \"chardonnay\", \"mussel\", \"vre\", \"ch\", \"pimenton\", \"cockle\", \"striped\", \"tenderizer\", \"clam\", \"caper\", \"tuna\", \"spanish\", \"dijon\", \"vinaigrette\", \"virgin\", \"extra\", \"fillet\", \"halibut\", \"snapper\", \"baguette\", \"vinegar\", \"olive\", \"kalamata\", \"wine\", \"pitted\", \"flat\", \"bulb\", \"basil\", \"parsley\", \"mustard\", \"tomato\", \"sea\", \"leaf\", \"purple\", \"plum\", \"cherry\", \"lemon\", \"garlic\", \"clove\", \"juice\", \"oregano\", \"onion\", \"dry\", \"dried\", \"ground\", \"bell\", \"kosher\", \"green\", \"large\", \"long\", \"cajun\", \"creole\", \"andouille\", \"collard\", \"eyed\", \"hock\", \"lima\", \"grain\", \"great\", \"northern\", \"uncook\", \"dog\", \"kielbasa\", \"navy\", \"link\", \"johnsonville\", \"louisiana\", \"guanciale\", \"devein\", \"hoagie\", \"fully\", \"tabasco\", \"gumbo\", \"converted\", \"parmagiano\", \"linguini\", \"giardiniera\", \"spicy\", \"mirlitons\", \"okra\", \"crawfish\", \"stuffed\", \"cannellini\", \"sausage\", \"jamaican\", \"worcestershire\", \"seasoning\", \"ham\", \"smoked\", \"bell\", \"kidney\", \"celery\", \"shrimp\", \"medium\", \"hot\", \"diced\", \"green\", \"bean\", \"cooked\", \"rice\", \"onion\", \"tomato\", \"chicken\", \"broth\", \"garlic\", \"cayenne\", \"sauce\", \"pea\", \"dried\", \"olive\", \"yellow\", \"vegetable\", \"paprika\", \"clove\", \"thyme\", \"bay\", \"ground\", \"le\", \"miso\", \"dashi\", \"pickle\", \"puff\", \"sheet\", \"bonito\", \"agave\", \"konbu\", \"relish\", \"fry\", \"store\", \"bought\", \"skimmed\", \"stir\", \"safflower\", \"togarashi\", \"lemonade\", \"shoyu\", \"free\", \"ai\", \"shichimi\", \"kombu\", \"sodium\", \"tonkatsu\", \"seltzer\", \"panko\", \"shiro\", \"citrus\", \"shirataki\", \"cap\", \"low\", \"wasabi\", \"reduced\", \"fat\", \"nectar\", \"breadcrumb\", \"sake\", \"mirin\", \"boiled\", \"broth\", \"salmon\", \"mayonnaise\", \"shiitake\", \"chicken\", \"pastry\", \"mushroom\", \"tofu\", \"skinless\", \"breast\", \"boneless\", \"egg\", \"sliced\", \"carrot\", \"onion\", \"vegetable\", \"sauce\", \"large\", \"green\", \"rice\", \"spray\", \"pea\"], \"Total\": [11421.0, 4842.0, 13116.0, 12361.0, 12256.0, 4874.0, 11722.0, 8618.0, 5853.0, 2485.0, 2796.0, 4715.0, 4707.0, 5382.0, 3502.0, 2460.0, 5034.0, 4682.0, 5895.0, 11224.0, 7073.0, 4591.0, 4044.0, 6122.0, 8882.0, 2893.0, 3155.0, 2877.0, 2822.0, 2583.0, 2877.8248577761806, 2153.7794256373027, 1705.6075075519423, 1023.1859054539613, 835.3989672437118, 734.7309178662293, 538.2309779000683, 590.5110756184968, 973.9343593565782, 384.32312672969306, 381.4192064399791, 367.8675709259802, 358.1880561080929, 343.6682627463261, 265.2624873924358, 249.77475481236695, 238.159068116733, 235.25514627419122, 233.31919847467782, 212.9917472820254, 231.406053047858, 196.53643674631851, 182.01658150737092, 175.24076363551936, 169.4329195979791, 164.59305083131323, 147.16952004187468, 145.2335735978694, 122.00219828836156, 107.48259111946606, 1098.8039257083133, 353.5012235460678, 4707.7131904152875, 4715.783363116221, 591.2209643575687, 903.43784846097, 8618.717183447401, 601.1298571604696, 8882.215359289943, 12256.861280292318, 5747.052359880955, 495.42880218412057, 8493.866809861904, 2880.7691248694514, 5331.374028327273, 1132.0009219255674, 5895.31949713612, 1815.8144480288045, 2579.3038646347727, 1345.8229641581054, 818.6951832833402, 2976.4522740853026, 2030.6691267063045, 5773.161468693352, 5200.030235271574, 18149.833140636663, 7073.808174723166, 5919.615813994403, 739.4349338440028, 452.21256513796044, 431.341883104704, 387.6119674237006, 292.2030856672793, 272.3261145549974, 223.62753673157314, 208.71980851241332, 168.96586472187929, 142.13195445579913, 142.13195444295917, 138.1658099892909, 124.25194106072199, 242.67899007791874, 152.1555018251944, 74.55025289822692, 64.6117682069891, 60.63637372081596, 3502.945312525604, 63.61463149546148, 43.7409485999086, 43.7409485999086, 39.76555370052041, 39.765553715069565, 38.77170515590916, 37.777856535669514, 36.78451766016829, 121.22745797502274, 32.80861444132334, 32.80861421984552, 4874.23462098402, 485.6109751280236, 126.26588193699577, 118.77213005899635, 584.9201776765149, 297.15401743621095, 143.17883297093934, 1718.5988305805165, 1873.9267457392225, 13116.329435807422, 867.0838414916783, 261.3367358949459, 1411.0746331379855, 6122.546171438553, 5382.237878902672, 1963.5803359428094, 1066.929740798486, 1812.225250417437, 5034.123350723063, 2455.64383816763, 1250.9686783004452, 12256.861280292318, 2976.4522740853026, 18932.47277749025, 3266.4365535868283, 5200.030235271574, 9129.100146700768, 19265.494550790754, 4265.77213520864, 5919.615813994403, 4044.630372011159, 11722.453799164077, 4357.658172804457, 18149.833140636663, 8882.215359289943, 8190.223024190644, 1071.9354066754745, 966.8441503715611, 928.8111240769243, 764.6685905730868, 308.27227495164334, 2176.8367057677838, 174.1558154882464, 169.15147002399442, 121.10975264245585, 114.1036697078997, 107.09758517273127, 88.0810720396567, 280.17777986854895, 73.06803552515301, 72.06716637238728, 59.05586780388149, 52.04978417916941, 52.04978420790229, 48.04630774928364, 46.04456951720853, 41.04022391750002, 748.1090865885863, 37.036748577234675, 32.032402359508076, 24.02544907927785, 24.025449093201257, 25.024984379975525, 21.02284181752733, 20.021971971276148, 17.019365311552058, 347.93885204218316, 1622.4471497097584, 296.9245291590838, 338.9206846711184, 66.06897275160165, 4044.630372011159, 307.4895933958282, 477.8137367455208, 1161.9786030839643, 2201.739526424447, 4591.131349412803, 875.0797591230571, 766.8108268834511, 2579.3038646347727, 349.60693365726274, 5382.237878902672, 18149.833140636663, 2944.3489657429172, 4265.77213520864, 5853.858895593509, 2151.8849827611903, 7586.4287033223245, 19265.494550790754, 8190.223024190644, 18932.47277749025, 11224.052358808358, 5747.052359880955, 9129.100146700768, 5919.615813994403, 2738.9630955272996, 1818.9695201978068, 2970.0547360363576, 5773.161468693352, 11722.453799164077, 1771.4419289926416, 930.1978189343714, 625.2468283906198, 566.9333165105024, 452.21821174008824, 384.3451059114343, 284.92534973672304, 283.01342898596835, 184.54963126135812, 180.72676739617756, 92.77754741487686, 77.48219802289299, 67.92260722837108, 65.05472985340448, 61.230892345131245, 57.40705647702962, 55.49513602030534, 55.49513848987269, 50.71533904454842, 48.80342137113572, 47.84746414381631, 45.935544361242265, 44.02362567406427, 44.02363714026737, 138.71577894943212, 40.19978831181537, 38.287870519361114, 32.55211557477717, 47.852928154782134, 31.596157276100637, 2583.4942584350115, 106.36819670551071, 1292.3112219948846, 1874.7858830969885, 476.4461321353104, 123.86333792462592, 149.33428033713813, 2541.07205544932, 11421.03611689202, 241.72338738855066, 648.2603821326306, 547.3239524615713, 1385.6162667800627, 5895.31949713612, 230.41269313140037, 408.2433137144211, 548.3648092178527, 382.39875054042034, 494.0181087351481, 634.6521847289408, 2297.0242824159686, 5200.030235271574, 3970.6133082412, 3041.0443994083034, 11224.052358808358, 13116.329435807422, 19265.494550790754, 18149.833140636663, 9129.100146700768, 11722.453799164077, 3345.3274461375213, 2279.5003122318803, 8618.717183447401, 4265.77213520864, 4591.131349412803, 18932.47277749025, 2738.9630955272996, 12361.845812127227, 5853.858895593509, 8882.215359289943, 425.56765100497813, 411.7767677275661, 290.6140146459073, 231.51022466186419, 216.73427646218835, 626.5880956125285, 248.19043643443365, 283.62977666502485, 374.1775310493938, 51.24367791039826, 51.24367791039825, 61.09075057900657, 61.09074723773128, 49.27355444537499, 48.28848907813782, 44.34823708960978, 44.34823708960979, 38.43786061716374, 36.467732019957005, 43.37110310489729, 30.557355496021188, 98.618062617529, 25.632039572175138, 84.7015701256175, 17.751534051915293, 17.751534399943907, 17.751535824599234, 16.766469824917536, 134.76668612932983, 15.781408908897037, 120.88054786200999, 85.5926425563902, 2893.5633444337955, 157.90649779479293, 105.38217799858135, 248.23637471815135, 3219.1895794229013, 161.39297134371827, 154.4828468495342, 216.0386896132778, 345.15816939173953, 283.5706751053495, 319.70271671872445, 11421.03611689202, 984.3610432362436, 2259.235399602715, 164.7040904170717, 705.703185726606, 3111.5863769160214, 12361.845812127227, 1214.41014820944, 1388.3431798386207, 4187.915943508168, 5773.161468693352, 1997.3876676508323, 18932.47277749025, 8190.223024190644, 5341.111305819371, 3040.2525260845737, 2822.768491856884, 3155.0651467643474, 2457.513372323526, 18149.833140636663, 11224.052358808358, 2747.8205501580883, 7586.4287033223245, 5331.374028327273, 1385.6162667800627, 7073.808174723166, 8493.866809861904, 19265.494550790754, 8882.215359289943, 4357.658172804457, 241.1274163762117, 326.38544223829524, 4842.099237132542, 153.8993155769776, 308.7191425287138, 90.19354267225513, 87.25327559597254, 137.24872363674132, 68.63158799838307, 87.2702217841934, 43.149279487764126, 43.14928012493079, 41.189102313381184, 36.288658059021216, 35.30856629428771, 35.30856629401336, 23.547504096260923, 22.567414011396075, 21.58732478254697, 172.3419756193049, 17.666983505064763, 16.686881062945204, 547.1441706342077, 14.726703476519498, 208.47490179725816, 13.746613914407874, 140.945433268543, 12.766526379317678, 11.786437668910581, 11.786437233744866, 159.38359640016398, 50.88637735093119, 702.0064491097312, 1274.8278379007702, 1729.7749199183947, 87.41796054415143, 540.788742401525, 2863.1688711341912, 318.6843374012266, 155.29471436482962, 5853.858895593509, 7073.808174723166, 715.2857509175556, 2738.9630955272996, 359.44927925425156, 482.61410063657013, 1899.0357255983306, 1812.225250417437, 2746.800495458859, 2258.821592233786, 4591.131349412803, 3345.3274461375213, 1815.8144480288045, 19265.494550790754, 18932.47277749025, 11722.453799164077, 2541.07205544932, 5200.030235271574, 8190.223024190644, 4265.77213520864, 7586.4287033223245, 11224.052358808358, 18149.833140636663, 3175.321748470878, 12361.845812127227, 13116.329435807422, 9129.100146700768, 5919.615813994403, 12256.861280292318, 156.35438893891003, 156.35438643550864, 147.33433011219205, 147.33433010818194, 118.26900770228046, 112.2554918770754, 103.23521863711042, 69.15852985292253, 52.12033998496856, 47.10868725213512, 34.079787459205185, 33.077542419089134, 30.070783712541775, 30.070627343207615, 27.06402588630408, 27.06402601611294, 27.064026677254517, 28.065570206582816, 24.057269712207663, 23.055015758263767, 22.052763222664648, 20.04825807697549, 18.043753602774213, 18.042840024808566, 17.04150061407241, 16.03924872108207, 15.03699485965779, 13.032489301879089, 13.032489714961647, 69.01654472160615, 61.10814468265693, 194.10288708613444, 226.4853340622761, 121.76679664120323, 261.45221078305457, 274.48364607447047, 137.2821601872099, 277.4422742844475, 472.182147198439, 2497.8153312683344, 235.69066024221746, 3041.0443994083034, 2119.395771098349, 2970.0547360363576, 120.12242382201296, 450.5273618495622, 633.4360699468708, 1219.7251597762263, 1919.007371590941, 2173.91129840133, 3266.4365535868283, 969.2785463566654, 8493.866809861904, 803.0580202291309, 2880.7691248694514, 18149.833140636663, 7586.4287033223245, 5341.111305819371, 4357.658172804457, 4187.915943508168, 19265.494550790754, 2455.64383816763, 3040.2525260845737, 8618.717183447401, 4715.783363116221, 4707.7131904152875, 11722.453799164077, 2462.0985218984524, 18932.47277749025, 4682.239407975297, 8190.223024190644, 5895.31949713612, 3175.321748470878, 12361.845812127227, 5919.615813994403, 133.4110575609132, 337.0907557349472, 65.15429976931793, 57.908407270889995, 52.73839568560528, 56.87349260684739, 39.28783176682621, 36.18385581401338, 32.04522055547241, 28.941245965121503, 28.941245965121503, 27.90658535682696, 628.1947409309993, 25.837267006811345, 18.59465677809344, 18.594657531585675, 18.594650526637874, 39.190263239111395, 13.42136425521304, 12.386705524813273, 11.352045094708837, 11.35204676645899, 11.352048378799802, 187.54742732706197, 10.317384058784167, 10.317384058784166, 10.317384662284187, 10.31739637700373, 9.282729060024161, 9.282718988147325, 347.9958210627396, 568.5818844704293, 196.25430487278678, 162.82462500928744, 591.8025198771081, 80.14372998959409, 2822.768491856884, 3155.0651467643474, 1157.8893246198043, 101.30220856087557, 87.02054474957508, 345.9873612444043, 5034.123350723063, 12361.845812127227, 412.888888969991, 4357.658172804457, 402.54190716883215, 1138.6067588560065, 229.53909861465925, 3111.5863769160214, 4187.915943508168, 1818.9695201978068, 11224.052358808358, 1516.0935159691946, 7586.4287033223245, 1899.0357255983306, 998.3733135703976, 643.8031077970834, 5773.161468693352, 18932.47277749025, 8190.223024190644, 7073.808174723166, 2747.8205501580883, 19265.494550790754, 3040.2525260845737, 5341.111305819371, 18149.833140636663, 4327.399215181775, 3175.321748470878, 9129.100146700768, 5331.374028327273, 710.6319138170694, 408.2693416996239, 368.16001959599924, 302.33714063218497, 194.35295918184394, 202.57899856066112, 113.10506735615355, 76.08188103240167, 857.7423039012627, 52.42766637308904, 52.42766637308905, 51.39913147710212, 39.05778632376623, 55.49461841931313, 30.83033470518819, 93.38984106746608, 24.659673216994793, 22.602786238146226, 22.602779429993678, 20.54589751047313, 20.54589755403274, 18.489009335521594, 212.3806262594623, 16.432121746907807, 15.403678494002262, 14.375228525079335, 12.318343286744664, 12.318341877408164, 51.60959226072812, 11.289900204892591, 341.1778902745384, 121.84198611642815, 62.39822702816731, 211.28963434182077, 1603.5325294355287, 46.127836029707495, 727.4216475272825, 2297.0242824159686, 694.1624018606888, 851.5272816278264, 4327.399215181775, 311.01447953920314, 2173.91129840133, 2394.9371468763497, 652.052493335494, 1900.0899117739655, 2279.5003122318803, 9129.100146700768, 3970.6133082412, 1385.109135423527, 6122.546171438553, 19265.494550790754, 11224.052358808358, 11722.453799164077, 4682.239407975297, 18932.47277749025, 2151.8849827611903, 13116.329435807422, 1505.7376098787859, 5341.111305819371, 12361.845812127227, 2308.739964337005, 5919.615813994403, 1927.243436921526, 8190.223024190644, 2497.8153312683344, 2119.395771098349, 18149.833140636663, 607.8460731141165, 299.473658697569, 180.08637888500184, 170.13743254534285, 196.6480985293582, 166.8205854142216, 100.4948584263847, 93.82946792233051, 71.75347634621463, 66.22628264941639, 62.90996433823375, 55.17190678005328, 55.17190678005274, 92.67369736487306, 47.43384273427439, 47.408990715920915, 35.274028823583215, 27.53595267598637, 25.325087219089486, 1156.629086526515, 22.008771462188864, 20.903338087942053, 19.797901209383188, 2485.9252984520535, 16.481583710025916, 14.270704210204249, 252.18852553981722, 13.165273777665837, 12.059822523914523, 10.954394648735258, 120.36109198615664, 2460.84955088555, 103.74494199646632, 1035.3762507238189, 2796.8623932741125, 124.94086837467884, 235.04448694566773, 371.0427024943424, 535.8453092093656, 151.93416559021188, 4682.239407975297, 340.61877785050274, 189.2646966082584, 642.3102309177184, 11722.453799164077, 371.87207764898614, 2462.0985218984524, 648.4374313920848, 2258.821592233786, 3345.3274461375213, 2746.800495458859, 8882.215359289943, 1335.1846510447492, 3266.4365535868283, 19265.494550790754, 5919.615813994403, 13116.329435807422, 5331.374028327273, 9129.100146700768, 6122.546171438553, 1997.3876676508323, 1505.7376098787859], \"loglift\": [30.0, 29.0, 28.0, 27.0, 26.0, 25.0, 24.0, 23.0, 22.0, 21.0, 20.0, 19.0, 18.0, 17.0, 16.0, 15.0, 14.0, 13.0, 12.0, 11.0, 10.0, 9.0, 8.0, 7.0, 6.0, 5.0, 4.0, 3.0, 2.0, 1.0, 1.924, 1.9239, 1.9238, 1.9234, 1.9232, 1.923, 1.9226, 1.9225, 1.9224, 1.922, 1.9219, 1.9219, 1.9218, 1.9217, 1.9209, 1.9207, 1.9205, 1.9205, 1.9204, 1.9201, 1.9196, 1.9196, 1.9193, 1.9191, 1.919, 1.9188, 1.9181, 1.9181, 1.9169, 1.9158, 1.9006, 1.886, 1.7002, 1.6981, 1.8247, 1.767, 1.525, 1.792, 1.4127, 1.3519, 1.381, 1.7867, 1.2172, 1.4106, 1.2628, 1.5157, 1.003, 1.2128, 1.0339, 1.3184, 1.5487, 0.8772, 1.0517, 0.3326, 0.3567, -0.6887, -0.2081, -0.0845, 1.9486, 1.9478, 1.9477, 1.9475, 1.9467, 1.9465, 1.9458, 1.9455, 1.9445, 1.9434, 1.9434, 1.9426, 1.9418, 1.9392, 1.9383, 1.9376, 1.9357, 1.9348, 1.9336, 1.9317, 1.9289, 1.9289, 1.9268, 1.9268, 1.9262, 1.9256, 1.9248, 1.9222, 1.9218, 1.9218, 1.9181, 1.9164, 1.9014, 1.8999, 1.8347, 1.8456, 1.8712, 1.7352, 1.6847, 1.4897, 1.701, 1.7972, 1.5631, 1.3265, 1.3179, 1.4716, 1.5428, 1.3629, 1.1359, 1.259, 1.3809, 0.7717, 1.0831, 0.3248, 0.8942, 0.6189, 0.3724, -0.0037, 0.6342, 0.4745, 0.5909, -0.0647, 0.3834, -0.688, -0.21, -0.1709, 2.2317, 2.2316, 2.2316, 2.2314, 2.2296, 2.2295, 2.2273, 2.2272, 2.2251, 2.2246, 2.2241, 2.2222, 2.2219, 2.2201, 2.2199, 2.2171, 2.215, 2.215, 2.2135, 2.2127, 2.2103, 2.2096, 2.2078, 2.2039, 2.1941, 2.1941, 2.1941, 2.1885, 2.1863, 2.1779, 2.1595, 2.1417, 2.1442, 2.1001, 2.1375, 1.8901, 2.0437, 1.9912, 1.9176, 1.8459, 1.7207, 1.8912, 1.8919, 1.6863, 1.9642, 1.4009, 1.0713, 1.286, 1.1418, 0.8485, 1.1145, 0.599, 0.2035, 0.5214, 0.1218, 0.3462, 0.6052, 0.2523, 0.4936, 0.8915, 1.144, 0.8086, 0.2789, -0.3012, 2.2462, 2.2457, 2.2453, 2.2451, 2.2447, 2.2444, 2.2435, 2.2435, 2.2418, 2.2412, 2.2369, 2.2349, 2.2332, 2.2326, 2.2318, 2.2307, 2.2302, 2.2302, 2.2286, 2.2279, 2.2275, 2.2267, 2.2258, 2.2258, 2.2246, 2.2238, 2.2227, 2.2184, 2.2181, 2.2175, 2.1842, 2.2099, 2.1248, 2.0957, 2.149, 2.185, 2.153, 1.9437, 1.5423, 2.0285, 1.8799, 1.8725, 1.6931, 1.4441, 1.9941, 1.862, 1.7643, 1.8346, 1.7657, 1.695, 1.2793, 0.9945, 1.0561, 1.0524, 0.4547, 0.3107, 0.1306, 0.0548, 0.3537, 0.1977, 0.7624, 0.9498, 0.1312, 0.5396, 0.4168, -0.5762, 0.7445, -0.5081, -0.0414, -0.4464, 2.2662, 2.2661, 2.2652, 2.2644, 2.2642, 2.263, 2.2553, 2.2548, 2.2511, 2.2505, 2.2505, 2.25, 2.25, 2.2498, 2.2494, 2.2477, 2.2477, 2.2445, 2.2432, 2.2428, 2.2382, 2.2363, 2.2323, 2.2242, 2.2159, 2.2159, 2.2159, 2.2127, 2.2094, 2.2092, 2.2072, 2.2067, 2.1547, 2.1552, 2.1672, 2.1357, 2.0069, 2.1518, 2.1458, 2.1111, 2.0469, 2.0523, 2.0136, 1.5313, 1.8109, 1.6757, 2.0753, 1.7915, 1.4271, 1.1117, 1.5733, 1.4656, 1.1281, 1.0258, 1.3, 0.3869, 0.6451, 0.8024, 0.9895, 1.0032, 0.9342, 1.0462, -0.048, 0.1721, 0.8934, 0.2495, 0.457, 1.2522, 0.1388, -0.0034, -0.6388, -0.1848, 0.3743, 2.3479, 2.3477, 2.3465, 2.3458, 2.3443, 2.3416, 2.3412, 2.3412, 2.3384, 2.3317, 2.3304, 2.3304, 2.3294, 2.3264, 2.3256, 2.3256, 2.3124, 2.3106, 2.3087, 2.3042, 2.2989, 2.2958, 2.294, 2.2881, 2.2865, 2.2834, 2.2832, 2.278, 2.2716, 2.2716, 2.2417, 2.248, 2.1668, 2.0991, 2.0626, 2.1934, 2.0536, 1.9177, 2.0899, 2.1436, 1.8008, 1.6512, 1.9151, 1.6875, 1.9711, 1.7718, 1.3914, 1.3783, 1.1761, 1.1983, 0.9232, 1.0323, 1.256, 0.2952, 0.29, 0.3944, 1.009, 0.6747, 0.3208, 0.6474, 0.3284, 0.0358, -0.2712, 0.7164, -0.3814, -0.5105, -0.3197, 0.0584, -0.6546, 2.4533, 2.4533, 2.453, 2.453, 2.4515, 2.4511, 2.4504, 2.4449, 2.4416, 2.4336, 2.4322, 2.4314, 2.4286, 2.428, 2.4251, 2.4251, 2.4251, 2.4228, 2.4208, 2.4191, 2.4173, 2.413, 2.4077, 2.4046, 2.4046, 2.4011, 2.3971, 2.3872, 2.3872, 2.3849, 2.3755, 2.3491, 2.3411, 2.3395, 2.2938, 2.2899, 2.2814, 2.2206, 2.175, 1.9303, 2.1781, 1.7793, 1.8139, 1.7322, 2.195, 1.9597, 1.8965, 1.6655, 1.5486, 1.4977, 1.3626, 1.6238, 0.99, 1.6253, 1.2211, 0.5822, 0.8722, 0.9979, 1.0632, 1.0354, 0.3882, 1.2252, 1.0904, 0.5853, 0.8599, 0.8517, 0.3186, 1.0988, 0.0451, 0.6796, 0.1677, 0.2887, 0.6859, -0.411, -0.0839, 2.4706, 2.4676, 2.4671, 2.4639, 2.4638, 2.4635, 2.4578, 2.4558, 2.4525, 2.4494, 2.4494, 2.4482, 2.4464, 2.4455, 2.4313, 2.4313, 2.4313, 2.4263, 2.4115, 2.4054, 2.3982, 2.3982, 2.3982, 2.3944, 2.3895, 2.3895, 2.3895, 2.3895, 2.3788, 2.3788, 2.3572, 2.3466, 2.3503, 2.35, 2.2871, 2.3262, 2.149, 2.1431, 2.1143, 2.253, 2.2637, 2.127, 1.7104, 1.5303, 1.9767, 1.5079, 1.9603, 1.7467, 2.0135, 1.3911, 1.3107, 1.4963, 1.005, 1.4886, 0.97, 1.3772, 1.555, 1.6782, 0.8876, 0.4226, 0.7231, 0.5835, 0.9875, -0.0336, 0.8764, 0.5509, -0.1732, 0.5318, 0.6125, -0.2801, 0.0622, 2.4866, 2.4856, 2.4854, 2.4845, 2.4832, 2.4831, 2.4795, 2.4759, 2.473, 2.4705, 2.4705, 2.4701, 2.4644, 2.4585, 2.4581, 2.4513, 2.4505, 2.4471, 2.4471, 2.4429, 2.4429, 2.4378, 2.436, 2.4313, 2.4274, 2.423, 2.4117, 2.4117, 2.4088, 2.4045, 2.339, 2.3587, 2.3484, 2.2972, 2.1101, 2.3551, 2.124, 2.0058, 2.1013, 2.0498, 1.854, 2.1489, 1.8917, 1.7265, 1.9296, 1.7215, 1.6781, 1.3421, 1.5163, 1.6234, 1.2043, 0.8188, 0.8305, 0.7002, 0.9979, 0.3805, 1.3027, 0.4674, 1.3469, 0.629, -0.0814, 1.0394, 0.361, 1.1667, -0.0562, 0.9245, 1.0581, -0.9721, 3.0389, 3.038, 3.036, 3.0357, 3.0357, 3.0356, 3.0321, 3.0287, 3.0285, 3.0274, 3.0267, 3.0246, 3.0246, 3.0238, 3.022, 3.0168, 3.0153, 3.008, 3.005, 3.0016, 2.9995, 2.9972, 2.9947, 2.9933, 2.9852, 2.9762, 2.9728, 2.9706, 2.9639, 2.9558, 2.9499, 2.8766, 2.9254, 2.8405, 2.7875, 2.9065, 2.8484, 2.72, 2.6041, 2.7286, 2.0566, 2.5165, 2.6654, 2.3061, 1.4338, 2.4371, 1.6302, 2.0901, 1.4994, 1.3076, 1.3647, 0.3121, 1.4286, 0.7593, -0.5219, 0.2474, -0.6072, 0.1395, -0.424, -0.1059, 0.8937, 1.0877], \"logprob\": [30.0, 29.0, 28.0, 27.0, 26.0, 25.0, 24.0, 23.0, 22.0, 21.0, 20.0, 19.0, 18.0, 17.0, 16.0, 15.0, 14.0, 13.0, 12.0, 11.0, 10.0, 9.0, 8.0, 7.0, 6.0, 5.0, 4.0, 3.0, 2.0, 1.0, -3.5197, -3.8096, -4.0431, -4.5544, -4.7574, -4.886, -5.1976, -5.105, -4.6048, -5.5351, -5.5427, -5.579, -5.6057, -5.6472, -5.9069, -5.9673, -6.0151, -6.0274, -6.0357, -6.1272, -6.0448, -6.2081, -6.2851, -6.3232, -6.3571, -6.3863, -6.4988, -6.5121, -6.6876, -6.8154, -4.5059, -5.6547, -3.2514, -3.2518, -5.2017, -4.8354, -2.8219, -5.2177, -2.9041, -2.6428, -3.3711, -5.4164, -3.1442, -4.0321, -3.5644, -4.8611, -3.7236, -4.6914, -4.5193, -4.8854, -5.1521, -4.5328, -4.7407, -4.415, -4.4954, -4.2909, -4.7525, -4.807, -4.854, -5.3466, -5.3939, -5.5011, -5.7844, -5.855, -6.0528, -6.1221, -6.3344, -6.5083, -6.5083, -6.5375, -6.6445, -5.9776, -6.4454, -7.1595, -7.3044, -7.3689, -3.3136, -7.324, -7.7014, -7.7014, -7.7988, -7.7988, -7.8247, -7.8513, -7.8787, -6.6887, -7.996, -7.996, -2.9988, -5.3067, -6.6687, -6.7314, -5.2023, -5.8687, -6.5732, -4.2241, -4.1881, -2.4372, -4.9424, -6.0456, -4.5933, -3.3623, -3.4998, -4.3544, -4.8932, -4.5433, -3.7486, -4.3434, -4.896, -3.223, -4.3269, -3.2351, -4.4229, -4.2332, -3.917, -3.5462, -4.4159, -4.248, -4.5124, -4.104, -4.6455, -4.2902, -4.5267, -4.5687, -4.1996, -4.3029, -4.3431, -4.5377, -5.4479, -3.4934, -6.0212, -6.0506, -6.3868, -6.4468, -6.5107, -6.7081, -5.5512, -6.8971, -6.911, -7.1129, -7.2413, -7.2413, -7.3228, -7.3662, -7.4837, -4.5814, -7.5888, -7.7379, -8.0353, -8.0353, -7.9946, -8.1744, -8.2254, -8.3963, -5.397, -3.8752, -5.5708, -5.4827, -7.0803, -3.2133, -5.6364, -5.2481, -4.4331, -3.8656, -3.2559, -4.743, -4.8744, -3.8669, -5.5875, -3.4168, -2.5308, -4.1349, -3.9084, -3.8851, -4.62, -3.8754, -3.339, -3.8765, -3.4381, -3.7366, -4.1469, -4.0371, -4.2289, -4.6017, -4.7585, -4.6036, -4.4686, -4.3405, -3.6828, -4.3274, -4.7251, -4.8232, -5.0497, -5.2126, -5.5128, -5.5195, -5.9488, -5.9703, -6.6415, -6.8236, -6.9569, -7.0007, -7.0621, -7.1276, -7.1621, -7.1621, -7.2537, -7.2928, -7.313, -7.3546, -7.398, -7.398, -6.2515, -7.4908, -7.5407, -7.7073, -7.3223, -7.738, -3.3675, -6.5318, -4.1195, -3.7765, -5.0932, -6.4044, -6.2493, -3.6245, -2.5231, -5.8922, -5.0543, -5.231, -4.4816, -3.2826, -5.9746, -5.5346, -5.3373, -5.6275, -5.4403, -5.2604, -4.3898, -3.8576, -4.0658, -4.3362, -3.6281, -3.6163, -3.4119, -3.5474, -3.9356, -3.8416, -4.5308, -4.727, -4.2157, -4.5106, -4.5599, -4.1361, -4.7487, -4.4942, -4.7751, -4.7632, -5.0889, -5.1219, -5.4713, -5.6995, -5.7657, -4.7053, -5.639, -5.5061, -5.2327, -7.2215, -7.2215, -7.0461, -7.0462, -7.2614, -7.282, -7.3688, -7.3688, -7.515, -7.5689, -7.396, -7.7507, -6.5809, -7.9324, -6.7452, -8.3162, -8.3162, -8.3162, -8.3764, -6.2956, -8.4406, -6.4066, -6.7523, -3.2836, -6.1914, -6.5838, -5.7585, -3.3247, -6.1729, -6.2226, -5.922, -5.5176, -5.7087, -5.6275, -2.534, -4.7057, -4.01, -6.2291, -5.0579, -3.9386, -2.8745, -4.7333, -4.707, -3.9405, -3.7218, -4.5089, -3.173, -3.7528, -4.023, -4.3993, -4.4598, -4.4176, -4.5554, -3.6501, -3.9106, -4.5966, -4.2249, -4.3701, -4.9224, -4.4056, -4.3649, -4.1813, -4.5015, -4.6546, -5.5753, -5.2727, -2.577, -6.0265, -5.3318, -6.565, -6.5985, -6.1456, -6.8414, -6.6078, -7.3134, -7.3134, -7.361, -7.4907, -7.5188, -7.5188, -7.9371, -7.9814, -8.0277, -5.9549, -8.2379, -8.2981, -4.8098, -8.4308, -5.7823, -8.5043, -6.177, -8.5838, -8.67, -8.67, -6.0956, -7.2309, -4.6878, -4.1589, -3.8902, -6.7445, -5.0619, -3.5311, -5.5545, -6.2196, -2.9329, -2.8932, -4.9208, -3.8057, -5.5529, -5.4575, -4.468, -4.5279, -4.3142, -4.4876, -4.0534, -4.261, -4.6483, -3.2473, -3.2699, -3.6449, -4.5592, -4.1774, -4.077, -4.4028, -4.146, -4.0469, -3.8734, -4.629, -4.3676, -4.4374, -4.609, -4.6641, -4.6493, -5.9031, -5.9031, -5.9628, -5.9628, -6.1841, -6.2367, -6.3212, -6.7272, -7.0133, -7.1224, -7.4476, -7.4783, -7.5764, -7.577, -7.6852, -7.6852, -7.6852, -7.6512, -7.8073, -7.8515, -7.8978, -7.9974, -8.108, -8.1112, -8.1683, -8.2324, -8.3009, -8.4539, -8.4539, -6.7893, -6.9204, -5.7911, -5.6447, -6.2669, -5.5485, -5.5038, -6.2051, -5.5623, -5.0762, -3.6551, -5.768, -3.6093, -3.9358, -3.68, -6.425, -5.3384, -5.0609, -4.6367, -4.3004, -4.2265, -3.9544, -4.9082, -3.3714, -5.0948, -4.2216, -3.0199, -3.6022, -3.8275, -3.9657, -4.0332, -3.1542, -4.3772, -4.2985, -3.7616, -4.09, -4.0999, -3.7207, -4.5009, -3.5148, -4.2774, -4.2302, -4.4379, -4.6595, -4.3972, -4.8064, -6.0445, -5.1206, -6.7647, -6.8857, -6.9794, -6.9042, -7.2798, -7.3641, -7.4889, -7.5939, -7.5939, -7.6315, -4.5193, -7.7112, -8.0544, -8.0544, -8.0544, -7.3138, -8.4002, -8.4865, -8.5809, -8.5809, -8.5809, -5.7801, -8.6852, -8.6852, -8.6852, -8.6852, -8.8016, -8.8016, -5.1992, -4.7188, -5.7788, -5.9658, -4.7382, -6.6985, -3.314, -3.2087, -4.2399, -6.5374, -6.6787, -5.4351, -3.1742, -2.4558, -5.4086, -3.5209, -5.4505, -4.6243, -5.9589, -3.9745, -3.7578, -4.4062, -3.0777, -4.596, -3.5044, -4.4823, -4.9474, -5.2629, -3.86, -3.1373, -3.6747, -3.9608, -4.5025, -3.5761, -4.5125, -4.2744, -3.7753, -4.504, -4.7328, -4.5694, -4.765, -4.3558, -4.911, -5.0147, -5.2125, -5.6557, -5.6143, -6.2007, -6.6008, -4.1812, -6.9786, -6.9786, -6.9988, -7.2791, -6.9338, -7.5219, -6.4204, -7.7528, -7.8434, -7.8434, -7.943, -7.943, -8.0536, -5.6141, -8.178, -8.2465, -8.3201, -8.4857, -8.4857, -7.0561, -8.5801, -5.2372, -6.2471, -6.9266, -5.7581, -3.9185, -7.2221, -4.6951, -3.6634, -4.7645, -4.6117, -3.1818, -5.5198, -3.8326, -3.9009, -4.9988, -4.1373, -3.9987, -2.9472, -3.6056, -4.5516, -3.4845, -2.7237, -3.2522, -3.3391, -3.9591, -3.1794, -4.4317, -3.4595, -4.7446, -4.1963, -4.0675, -4.6247, -4.3615, -4.678, -4.454, -4.6608, -4.6916, -4.5742, -3.9597, -4.6685, -5.1791, -5.2362, -5.0914, -5.256, -5.7664, -5.8384, -6.1068, -6.1881, -6.2402, -6.3734, -6.3734, -5.8556, -6.5272, -6.5329, -6.8301, -7.0851, -7.1717, -3.3537, -7.3176, -7.3714, -7.4282, -2.5969, -7.6211, -7.7741, -4.9055, -7.8603, -7.9548, -8.059, -5.6681, -2.7237, -5.8412, -3.6255, -2.6848, -5.6742, -5.1004, -4.7722, -4.5206, -5.6564, -2.9004, -5.0613, -5.5, -4.6374, -2.6054, -5.0529, -3.9696, -4.8439, -4.1865, -3.9856, -4.1257, -4.0047, -4.7831, -4.5578, -4.0644, -4.4752, -4.5341, -4.6877, -4.7133, -4.7948, -4.9153, -5.0038]}, \"token.table\": {\"Topic\": [6, 1, 4, 6, 10, 10, 8, 1, 7, 9, 10, 1, 3, 5, 8, 10, 3, 4, 4, 6, 6, 5, 8, 9, 1, 5, 9, 7, 5, 5, 5, 3, 3, 4, 5, 7, 2, 4, 6, 8, 10, 1, 4, 5, 7, 9, 10, 1, 5, 7, 8, 1, 2, 5, 8, 2, 2, 3, 4, 5, 6, 7, 8, 9, 3, 9, 3, 6, 7, 8, 9, 1, 2, 3, 4, 5, 6, 7, 8, 9, 2, 2, 3, 4, 7, 10, 8, 5, 2, 3, 4, 5, 6, 7, 8, 9, 10, 2, 8, 4, 1, 7, 1, 4, 9, 10, 8, 7, 8, 10, 2, 2, 3, 4, 5, 6, 7, 9, 10, 10, 7, 10, 7, 1, 1, 4, 5, 7, 8, 9, 4, 5, 10, 2, 3, 4, 5, 6, 7, 8, 9, 10, 6, 2, 3, 4, 5, 6, 7, 9, 10, 1, 2, 3, 4, 6, 7, 8, 9, 10, 5, 5, 8, 5, 7, 1, 2, 3, 4, 5, 6, 7, 8, 9, 10, 1, 10, 2, 3, 6, 7, 8, 10, 6, 9, 6, 5, 9, 2, 5, 10, 5, 8, 1, 3, 2, 3, 4, 5, 6, 7, 8, 9, 10, 1, 2, 3, 8, 3, 5, 10, 1, 2, 3, 4, 5, 6, 7, 8, 9, 2, 7, 8, 9, 10, 8, 3, 3, 5, 5, 10, 8, 7, 4, 1, 4, 5, 7, 8, 1, 3, 4, 5, 6, 8, 9, 1, 2, 7, 9, 2, 3, 4, 5, 6, 7, 8, 9, 10, 3, 5, 8, 2, 3, 4, 6, 7, 2, 3, 4, 6, 8, 9, 3, 4, 6, 9, 2, 1, 4, 6, 4, 6, 1, 2, 2, 2, 3, 4, 7, 3, 2, 3, 4, 6, 8, 1, 2, 3, 5, 7, 10, 5, 6, 7, 8, 9, 8, 1, 2, 3, 4, 5, 6, 7, 8, 9, 10, 8, 1, 1, 3, 6, 1, 4, 9, 1, 9, 2, 3, 4, 6, 7, 9, 10, 1, 2, 3, 4, 5, 6, 7, 8, 9, 10, 2, 3, 6, 1, 2, 3, 4, 6, 7, 9, 7, 1, 4, 5, 8, 9, 4, 6, 4, 7, 2, 6, 7, 8, 4, 7, 9, 1, 3, 4, 5, 7, 2, 6, 6, 9, 1, 4, 1, 4, 5, 7, 8, 4, 5, 3, 4, 6, 7, 8, 3, 6, 3, 1, 2, 6, 10, 9, 3, 4, 5, 6, 7, 8, 9, 5, 7, 8, 9, 10, 2, 9, 2, 4, 8, 9, 10, 1, 2, 3, 4, 5, 6, 7, 8, 9, 10, 7, 1, 2, 4, 5, 6, 7, 8, 9, 10, 2, 1, 2, 3, 4, 5, 7, 8, 9, 10, 4, 4, 5, 6, 1, 2, 4, 5, 8, 9, 10, 1, 9, 4, 1, 3, 4, 5, 6, 7, 9, 10, 3, 2, 4, 5, 8, 4, 5, 7, 8, 9, 2, 3, 5, 6, 8, 10, 2, 3, 6, 8, 2, 5, 7, 8, 9, 1, 2, 3, 4, 5, 6, 7, 9, 10, 8, 4, 5, 7, 1, 4, 5, 10, 6, 4, 6, 10, 7, 9, 2, 3, 6, 3, 2, 3, 4, 5, 6, 7, 8, 9, 10, 7, 1, 3, 9, 1, 2, 3, 6, 10, 4, 5, 8, 2, 3, 5, 6, 7, 9, 10, 2, 8, 9, 10, 3, 1, 2, 6, 6, 1, 3, 4, 5, 7, 4, 9, 2, 3, 4, 5, 6, 7, 8, 9, 10, 1, 2, 3, 4, 5, 6, 7, 8, 9, 10, 5, 4, 6, 9, 9, 6, 8, 5, 9, 6, 8, 1, 4, 5, 7, 8, 9, 10, 5, 8, 4, 5, 1, 3, 4, 5, 7, 4, 8, 4, 9, 9, 2, 4, 6, 1, 2, 3, 4, 5, 6, 7, 8, 9, 1, 6, 8, 1, 4, 5, 6, 7, 8, 9, 4, 3, 3, 4, 6, 3, 7, 9, 3, 2, 6, 9, 1, 2, 3, 4, 5, 6, 7, 8, 9, 10, 7, 3, 6, 5, 8, 3, 1, 4, 6, 9, 3, 4, 7, 9, 7, 9, 2, 10, 10, 10, 2, 1, 2, 3, 4, 5, 6, 7, 8, 9, 10, 4, 2, 1, 2, 3, 4, 5, 6, 7, 8, 9, 10, 4, 10, 2, 3, 4, 5, 6, 7, 8, 9, 10, 2, 4, 7, 2, 5, 7, 8, 10, 1, 2, 3, 5, 6, 7, 8, 9, 10, 10, 2, 3, 6, 3, 5, 7, 8, 9, 2, 3, 6, 6, 9, 4, 9, 8, 7, 9, 10, 9, 8, 9, 1, 2, 3, 4, 5, 6, 7, 9, 10, 7, 4, 8, 3, 7, 5, 4, 5, 8, 3, 1, 7, 4, 4, 5, 6, 8, 10, 7, 2, 3, 4, 6, 7, 9, 10, 1, 2, 5, 6, 7, 8, 9, 10, 2, 3, 1, 4, 6, 6, 1, 3, 4, 5, 6, 7, 10, 6, 2, 10, 9, 10, 1, 2, 4, 6, 9, 4, 3, 4, 5, 8, 6, 2, 3, 2, 3, 4, 5, 6, 7, 9, 10, 6, 7, 8, 9, 2, 3, 4, 5, 7, 8, 9, 10, 6, 2, 10, 9, 1, 6, 10, 8, 3, 1, 4, 2, 4, 10, 9, 8, 8, 3, 7, 9, 2, 3, 4, 5, 6, 7, 8, 9, 10, 2, 3, 4, 5, 6, 7, 8, 9, 10, 4, 1, 2, 5, 6, 7, 8, 9, 5, 4, 5, 6, 7, 8, 9, 4, 2, 7, 2, 3, 6, 7, 3, 3, 2, 4, 5, 10, 2, 3, 4, 5, 6, 7, 8, 9, 10, 9, 4, 5, 5, 4, 5, 7, 8, 9, 7, 4, 5, 6, 4, 4, 5, 8, 9, 1, 2, 3, 4, 5, 6, 7, 8, 9, 10, 1, 7, 10, 2, 3, 5, 7, 8, 9, 10, 1, 6, 1, 2, 3, 6, 9, 3, 7, 1, 5, 4, 5, 8, 4, 5, 10, 7, 8, 1, 5, 8, 5, 8, 1, 4, 5, 8, 1, 3, 4, 5, 1, 2, 3, 4, 5, 6, 7, 8, 9, 4, 6, 1, 2, 3, 9, 10, 1, 4, 5, 7, 2, 4, 5, 6, 7, 9, 10, 1, 2, 3, 4, 5, 7, 8, 9, 10, 1, 4, 5, 7, 8, 4, 5, 9, 10, 1, 2, 3, 4, 5, 6, 8, 9, 1, 7, 9, 10, 4, 6, 5, 5, 5, 4, 4, 9, 1, 5, 4, 4, 1, 2, 4, 10, 4, 5, 10, 2, 5, 6, 7, 8, 9, 2, 3, 4, 5, 6, 7, 9, 10, 1, 4, 5, 4, 5, 8, 1, 4, 5, 7, 3, 7, 8, 7, 10, 5, 7, 9, 2, 10, 5, 2, 3, 5, 6, 7, 8, 10, 4, 6, 2, 3, 4, 5, 6, 7, 8, 9, 10, 7, 4, 5, 7, 8, 9, 7, 6, 2, 3, 4, 5, 6, 7, 8, 9, 10, 2, 7, 1, 2, 3, 5, 6, 7, 8, 9, 10, 4, 7, 9, 6, 1, 2, 3, 5, 8, 10, 1, 10, 1, 3, 6, 8, 2, 10, 3, 2, 3, 5, 7, 2, 4, 10, 10, 2, 10, 10, 10, 2, 10, 1, 10, 2, 4, 6, 10, 2, 3, 5, 6, 7, 8, 9, 10, 7, 10, 2, 3, 4, 6, 9, 10, 1, 2, 3, 4, 5, 6, 7, 8, 9, 10, 3, 4, 5, 6, 7, 8, 9, 10, 6, 8, 1, 2, 5, 6, 7, 9, 10, 5, 2, 4, 7, 10, 1, 4, 6, 7, 2, 10, 2, 5, 7, 8, 9, 10, 2, 3, 4, 5, 8, 9, 10, 3, 7, 1, 2, 3, 4, 5, 6, 8, 9, 10, 1, 2, 3, 4, 5, 6, 7, 8, 9, 2, 3, 10, 2, 6, 9, 10, 1, 2, 4, 6, 7, 9, 10, 7, 7, 1, 2, 3, 2, 10, 2, 3, 4, 5, 6, 7, 8, 9, 10, 10, 1, 8, 5, 9, 1, 2, 3, 5, 6, 7, 8, 9, 10, 1, 4, 5, 10, 1, 2, 2, 4, 6, 7, 9, 4, 3, 1, 7, 8, 6, 2, 3, 6, 5, 7, 8, 9, 1, 2, 5, 10, 2, 10, 10, 6, 3, 4, 5, 6, 7, 8, 9, 2, 8, 10, 3, 4, 6, 6, 3, 2, 8, 10, 3, 1, 9, 1, 1, 2, 5, 6, 7, 9, 10, 3, 1, 5, 7, 1, 2, 3, 4, 5, 6, 7, 8, 9, 10, 4, 4, 6, 8, 5, 8, 8, 1, 2, 3, 5, 6, 7, 8, 9, 10, 5, 8, 8, 2, 10, 3, 5, 6, 8, 8, 1, 1, 4, 5, 7, 1, 1, 2, 3, 4, 5, 6, 7, 8, 9, 1, 2, 5, 7, 8, 9, 10, 2, 6, 7, 7, 2, 2, 2, 4, 6, 7, 9, 10, 2, 1, 1, 2, 3, 4, 5, 6, 7, 8, 9, 10, 1, 3, 1, 3, 4, 5, 1, 8, 10, 3, 7], \"Freq\": [0.9767489541981709, 0.9976416216199857, 0.0032391901318752545, 0.991192180353828, 0.9911598355964555, 0.9541650262522859, 0.8808984146846737, 0.7975345155623743, 0.20208731542965774, 0.0002120538462011099, 0.0002120538462011099, 0.6643104130346692, 0.16961116928544745, 0.06095401396195768, 0.04858653286822714, 0.054770273415092406, 0.9877263977989508, 0.9663634853050949, 0.07860649958267862, 0.9039747452008042, 0.9953243957358516, 0.011866240565627318, 0.9878645270884742, 0.9955773193151559, 0.06642489397110614, 0.9014807038935833, 0.01897854113460175, 0.9422020023801863, 0.9978871815708702, 0.9757301200633396, 0.9977961031198108, 0.9798311515815485, 0.9897515413539807, 0.023612313172399053, 0.9562986834821616, 0.011806156586199526, 0.013335133964436727, 0.2070867862712527, 0.7765754485171977, 0.0007844196449668663, 0.0015688392899337327, 0.01229785241353219, 0.11969909682504665, 0.05902969158495451, 0.4525609688179846, 0.34679943806160773, 0.009838281930825752, 0.005780557974160237, 0.219661203018089, 0.07225697467700297, 0.7023377938604688, 0.9997133745738724, 0.03183726111804046, 0.0015918630559020228, 0.9662608749325278, 0.9915622396786784, 0.06074072100396682, 0.00032137947621146463, 0.036315880811895504, 0.4312912570757856, 0.10252005291145723, 0.0012855179048458585, 0.336162932117192, 0.031495188668723535, 0.9283240376985562, 0.0689776374760537, 0.1387187820270295, 0.002359162959643359, 0.524677842224683, 0.09483835097766302, 0.23921912410783658, 0.052888554915215456, 0.14103614644057455, 0.02694797798060978, 0.30398326563173833, 0.001007401046004104, 0.05943666171424213, 0.000251850261501026, 0.03601458739464671, 0.378530943036042, 0.9973185947683906, 0.17559756776451554, 0.010193866293445658, 0.30285647923430487, 0.5067338051032181, 0.004603681551878684, 0.9675945986628299, 0.9886086111418952, 0.07279198990813891, 0.020104454355581225, 0.10329529996488283, 0.030965481421240046, 0.0977492435909294, 0.0016175997757364204, 0.142348780264805, 0.5305727264415458, 0.0006932570467441801, 0.989924173014648, 0.9672205945477087, 0.9910778483338761, 0.992053245525691, 0.93520589778522, 0.045506560696662736, 0.8025702522865973, 0.020684800316664878, 0.12824576196332224, 0.9680200185897482, 0.9606848348938127, 0.26327192336637245, 0.7305795873416835, 0.996551316726747, 0.17001598797294035, 0.05788552909571203, 0.16127854961887061, 0.0003640599314195725, 0.30872282184379746, 0.021115476022335204, 0.09319934244341056, 0.18712680474966026, 0.9950757836357649, 0.9764653333216186, 0.9787589944149541, 0.9606848583621869, 0.9972705481222756, 0.15978857274610764, 0.036295465277509216, 0.5528419040440123, 0.12880463897262417, 0.12083734171658556, 0.0013278828760064348, 0.11487187106941696, 0.055308678663052606, 0.8253756662024774, 0.14169016565098141, 0.05918703122129603, 0.22658469528152725, 0.011658051604194673, 0.2672384136961548, 0.01673976640602312, 0.0002989244001075557, 0.09984074963592361, 0.17666432046356542, 0.9622468937680531, 0.045277479754430895, 0.020503009700119652, 0.040151727329400984, 0.053393254427394926, 0.07304197205667626, 0.16872268399056797, 0.22531953368360658, 0.37375278099176446, 0.3510891167644004, 0.42029902877728703, 0.09171993193940796, 0.0013438817866579921, 0.056443035039635665, 0.0006719408933289961, 0.001007911339993494, 0.07424946871285407, 0.0030237340199804823, 0.9542855572507908, 0.3703072832166797, 0.6273441033317868, 0.9817603491213839, 0.960684862969979, 0.49306165186596446, 0.027784754021100193, 0.042736719108726146, 0.03979341889462655, 0.10313323950204988, 0.006828456496711065, 0.23016607674258846, 0.0003531960256919516, 0.05133115573389697, 0.005062476368251307, 0.9980138709164588, 0.0010267632416835995, 0.5659614123687593, 0.027178937882115558, 0.15348106098135844, 0.22222778621259193, 0.0007993805259445753, 0.030376459985893858, 0.9907974153476101, 0.9968909208456858, 0.9588370612606277, 0.17038223437766858, 0.8282469726692223, 0.03323333092109251, 0.04984999638163878, 0.9139166003300442, 0.12487207549028509, 0.8741045284319957, 0.021387255263748736, 0.9771302248625203, 0.34808574461716585, 0.1007213808083092, 0.0003061440146149216, 0.011327328540752099, 0.020817792993814668, 0.3340031199448794, 0.022654657081504197, 0.060004226864524626, 0.1022521008813838, 0.01716213101735019, 0.2145266377168774, 0.7637148302720835, 0.98942323382551, 0.8292963582404596, 0.1365899884160757, 0.03252142581335136, 0.026488404564662407, 0.0055765062241394546, 0.3266903229641697, 0.05808860650145265, 0.004182379668104591, 0.09758885892244046, 0.12593609889514934, 0.049723847165243466, 0.30577842462364674, 0.035420028432910276, 0.3822603068538758, 0.029900024001807374, 0.5510804423717729, 0.001380001107775725, 0.8723141397782366, 0.9773139475911891, 0.9573182133152534, 0.9504854786155054, 0.9430797759961809, 0.04963577768400952, 0.8808982895699439, 0.9909435220482831, 0.9997505258369418, 0.026705107739646912, 0.4943509452394966, 0.47850299605629626, 8.75577302939243e-05, 0.0002626731908817729, 0.23299048759372817, 0.001553269917291521, 0.020192508924789774, 0.13668775272165387, 0.15688026164644364, 0.4473417361799581, 0.0046598097518745635, 0.04974425028873797, 0.8571316972828696, 0.07652961582882764, 0.011479442374324146, 0.13341916520170274, 0.07933492559947798, 0.12889792750624862, 0.030539681037218405, 0.1412673513900382, 0.11755218008180715, 0.0012795955741851286, 0.16737110110341483, 0.20046997328900348, 0.7848246527071312, 0.083714629622094, 0.1297576759142457, 0.09534889916984048, 0.1365619764666946, 0.11979733485441496, 0.6478835456412237, 0.0003492633669224926, 0.2684156499006241, 0.3359298046354535, 0.1814442908498542, 0.18191313914662383, 0.007501572748314385, 0.0248489597287914, 0.2614127956558528, 0.22271201864534945, 0.5147933545736766, 0.0007302033398208179, 0.9994118024127671, 0.12789500566378895, 0.6869788875654949, 0.1827071509482699, 0.05483015557896978, 0.9430786759582802, 0.9983253902643338, 0.9753535937102887, 0.9971938306849644, 0.08909983950326442, 0.004242849500155448, 0.14425688300528525, 0.7552272110276699, 0.9903274827994135, 0.07123506176650357, 0.25060392232964207, 0.1014715268328612, 0.5763719386095517, 0.00017082748625060808, 0.4105758978304611, 0.0007754030176212675, 0.5792260541630868, 0.00038770150881063377, 0.008917134702644576, 0.9121195588232826, 0.011494390903271354, 0.005747195451635677, 0.01724158635490703, 0.8821945018260765, 0.08046073632289948, 0.9680199793636659, 0.005494355876157217, 0.11989905489747528, 0.1807032599269485, 0.010866614955066497, 0.19730842435266807, 0.13125405704153353, 0.1010961481212928, 0.1724006777140887, 0.07850824063042425, 0.0025640327422067014, 0.8723130982987091, 0.9989009299141177, 0.1507898622954538, 0.6794627529939725, 0.1694115019162779, 0.9939238709215303, 0.993776660507869, 0.9930386489223554, 0.996557254462015, 0.9737933705796675, 0.18626691096157627, 0.034654309016107214, 0.2685708948748309, 0.036820203329613915, 0.0014439295423378006, 0.4216274263626378, 0.05053753398182302, 0.15462784629355575, 0.14486187705396275, 0.04801601542799889, 0.12410919241982764, 0.29460673872772203, 0.08789372315633695, 0.02482183848396553, 0.002441492309898249, 0.03947079234335502, 0.07934850007169308, 0.0022969109197542997, 0.996859339173366, 0.00045938218395085996, 0.20846032637411915, 0.2642292328764204, 0.00038461314829173275, 0.28576756918075746, 0.1869219900697821, 0.008653795836563987, 0.0451920449242786, 0.9674237461345592, 0.871971912201124, 0.036332163008380165, 0.08073814001862259, 0.0020184535004655647, 0.008073814001862259, 0.06385449880346475, 0.9365326491174829, 0.9959786399842786, 0.9913377138538593, 0.12751215054358506, 0.0036432043012452875, 0.8452233978889067, 0.021859225807471724, 0.024622054314949363, 0.090280865821481, 0.8781866038998606, 0.3979428088909618, 0.03884437478091656, 0.4481521317518845, 0.0006785043629854421, 0.11415835907230064, 0.9733768402890398, 0.01649791254727186, 0.9856363490377616, 0.9968491429425927, 0.020897362785521956, 0.982176050919532, 0.16152609968925852, 0.031492510002308266, 0.6328978623044532, 0.1706690864641222, 0.0030476622582878963, 0.016035169143301557, 0.9834903741224955, 0.5994165251560437, 0.16052688191860617, 0.23959236107254653, 0.00021781123733867868, 0.00021781123733867868, 0.9128186395870818, 0.086289405497766, 0.9933633253359582, 0.3271068249900034, 0.6654608760541616, 0.006560881876590326, 0.9939674566631407, 0.9734303400377199, 0.08115813760028168, 0.2733055120268945, 0.03948233721094784, 0.04781749728881461, 0.029392406590372285, 0.08379029341434487, 0.44483433257667904, 0.001689752859125468, 0.13011097015266102, 0.8229096423941029, 0.003379505718250936, 0.04055406861901123, 0.9895050828114166, 0.972917402051468, 0.03919231365830157, 0.6809664498129898, 0.09553126454211008, 0.15431973502956245, 0.02939423524372618, 0.0348242134174109, 0.03313917083269747, 0.0305179934786988, 0.054108589664686825, 0.23085083410573998, 0.04867900800283244, 0.2319741958288823, 0.14510088923921208, 0.1557728256090638, 0.0348242134174109, 0.9880349104364042, 0.16149974246788648, 0.09374221304144124, 0.00032892004575944296, 0.2782663587124887, 0.00032892004575944296, 0.2542551953720494, 0.20097014795901966, 0.005262720732151087, 0.005262720732151087, 0.9746185514636413, 0.5995125973196047, 0.11539913845119153, 0.0007880916772276494, 0.06766329971625962, 0.08601457734313202, 0.03861649218415482, 0.025669271772557723, 0.0011258452531823563, 0.06529902468457667, 0.9916192286114239, 0.996500265280484, 0.9741533879641896, 0.9733650364175831, 0.9917854079482012, 0.0003169506661456871, 0.0012678026645827484, 0.263386003567066, 0.713138998827796, 0.0003169506661456871, 0.021552645297906722, 0.9996438174965504, 0.997141862854615, 0.983039026341963, 0.04219013430327001, 0.004648065643580595, 0.14194477388473048, 0.024670502262081617, 0.0003575435110446611, 0.00929613128716119, 0.0003575435110446611, 0.7758694189669146, 0.9931926691276696, 0.9807483200019053, 0.001595944779356905, 0.9942735975393517, 0.00319188955871381, 0.006332861623589094, 0.8929334889260623, 0.07599433948306912, 0.006332861623589094, 0.006332861623589094, 0.03454561601829613, 0.04145473922195536, 0.0017272808009148066, 0.09759136525168657, 0.6926396011668374, 0.1312733408695253, 0.5562222465269216, 0.010484347900805071, 0.3779883322132354, 0.055180778425289845, 0.9958827071776744, 0.30475842278386056, 0.21429698893159072, 0.47953342605183824, 0.0008782663480802898, 0.6707494719866951, 0.008701991074036002, 0.02482968119791606, 0.12055158301231209, 0.00023205309530762672, 0.005337221192075415, 0.15350312254599507, 0.010558415836497016, 0.005569274287383042, 0.8808985444094983, 0.051941620003050304, 0.9423693914839126, 0.9909435220752543, 0.019020790896819333, 0.010374976852810545, 0.008645814044008788, 0.9614145216937773, 0.9332760507455964, 0.04061691862847541, 0.9515963792957096, 0.985535449784372, 0.9683158980818841, 0.9735513500670858, 0.980748320360735, 0.01145866229689269, 0.9854449575327714, 0.9991267071895479, 0.19691035839926854, 0.12116747912229668, 0.05942171491394235, 0.15238368669042107, 0.12724169886905523, 0.08947589783486075, 0.12766425328622105, 0.12159003353946249, 0.004225544171658123, 0.9477132590297525, 0.991506278009209, 0.9958728855786888, 0.8929773267759354, 0.00966140872439509, 0.531563276163353, 0.43532078156264803, 0.0022295558594757903, 0.021180780665020008, 0.07653995117183242, 0.8741668107519808, 0.04431260331000824, 0.9920358904502987, 0.1032693505215904, 0.0038247907600589036, 0.034423116840530135, 0.8491035487330766, 0.007649581520117807, 0.0038247907600589036, 0.002331702646474839, 0.010492661909136775, 0.9851443681356195, 0.0011658513232374196, 0.9821208654931984, 0.8545136794026531, 0.12729154550687188, 0.017710128070521306, 0.9644886824713855, 0.1391654604201074, 0.022676514755955002, 0.0639912608181744, 0.7700695901371569, 0.004038283449690617, 0.9837870381480143, 0.9918427349017281, 0.20648256341905, 0.1380201750175082, 0.15061725448339192, 0.009201345001167215, 0.06911962733019658, 0.01391155732319329, 0.06320447697230337, 0.31799410164748126, 0.03121884911110305, 0.07333400751877717, 0.07151580898525377, 0.3131158262428329, 0.11168146749854344, 0.09862349621232992, 0.07256265056516117, 0.15305925836751538, 0.07035877355482978, 0.03140524739722238, 0.00429756017014622, 0.9821454055046199, 0.9970217699293057, 0.9867668722516841, 0.9733316235792756, 0.9737026201750772, 0.9733650220443247, 0.9675135691008081, 0.9734525040541239, 0.020280260501127582, 0.19742906185486955, 0.7995877005122217, 0.0014405850811272975, 0.06482632865072839, 0.010084095567891083, 0.12389031697694758, 0.06482632865072839, 0.6799561582920844, 0.05474223308283731, 0.9695988571792483, 0.9843130330516509, 0.008058328228647743, 0.9871452080093486, 0.5453911989525025, 0.057957102885960766, 0.07281789849774557, 0.018575994514731013, 0.30464631004158865, 0.02551654205277224, 0.944112055952573, 0.9754898341183434, 0.9734303379739381, 0.9902297272616988, 0.9968890498296956, 0.10038674218285827, 0.8972065082592958, 0.06526006965861468, 0.14315112054147736, 0.031051162176276337, 0.085259123263674, 0.03841923455708767, 0.09157461387579802, 0.028419707754558005, 0.05262908843436667, 0.4647148508754577, 0.904907018277575, 0.09302782430890959, 0.0016914149874347197, 0.012432293196750724, 0.016576390929000966, 0.012432293196750724, 0.5594531938537826, 0.09531424784175554, 0.21963717980926278, 0.08288195464500482, 0.9987122965567221, 0.9746535516085121, 0.049717451102862104, 0.20060413410108313, 0.7486523160256561, 0.043357767719950036, 0.06503665157992505, 0.8671553543990008, 0.9782229312032985, 0.13727156210581307, 0.8579472631613317, 0.9732489067803152, 0.11860655240807888, 0.00947156020422084, 0.07506564878270547, 0.00014136657021225133, 0.11888928554850338, 0.4963380280152145, 0.01767082127653142, 0.14998993099519867, 0.01159205875740461, 0.0022618651233960213, 0.9522616185538747, 0.00728604225600464, 0.990901746816631, 0.3947793325381709, 0.6030678147362243, 0.9798311521224418, 0.07090497926706019, 0.5766938313720895, 0.1717476164468791, 0.18120161368248713, 0.03536812825016225, 0.21863933827373028, 0.032152843863783864, 0.7137931337760018, 0.01801976531208983, 0.9730673268528508, 0.9514016456880143, 0.04209741795079709, 0.9596976870959926, 0.9894990962865818, 0.9794097228641051, 0.07117388973537361, 0.10424140487791445, 0.08723525423317915, 0.023619653673243455, 0.14234777947074723, 0.1949408749831693, 0.16974657773170962, 0.15431507066519057, 0.03275258642689759, 0.019525580369881255, 0.9767482650874137, 0.9800961770237865, 0.5160020635174101, 0.06077232591044743, 0.004126515956882233, 0.022320699948590258, 0.16337251811111023, 0.024946664648424408, 0.033574834376450896, 0.08909523088723002, 0.030761300769485734, 0.0549576897893861, 0.9967523081481585, 0.9986080799867936, 0.04705771502784426, 0.19521701948525869, 0.003954429834272627, 0.13286884243156027, 0.13220977079251484, 0.2045758367597039, 0.22065718475241258, 0.06063459079218028, 0.0028999152117999264, 0.11306341865451258, 0.6163779920197622, 0.268069718422796, 0.07546711449537466, 0.14649498696160962, 0.6059565369775671, 0.04217279927682702, 0.12651839783048105, 0.20352799871816846, 0.006235751450088566, 0.14169013017145685, 0.28857671988465416, 0.08660765902900786, 0.03395020233937108, 0.20318156808205243, 0.021998345393367993, 0.014030440762699272, 0.980536258095266, 0.2615111656226479, 0.052858639859896916, 0.6843802845018232, 0.8763112239319434, 0.00590108568304339, 0.06196139967195559, 0.0531097711473905, 0.9857800435830324, 0.0018586979653332628, 0.003097829942222105, 0.9948164554455919, 0.97279307239488, 0.8929772246107732, 0.021415605564155237, 0.9637022503869858, 0.9822835979604603, 0.8869412925284688, 0.09033661312789959, 0.0246372581257908, 0.9991107719695909, 0.9673829501762029, 0.9733313304034652, 0.011784548140931328, 0.015848185430907647, 0.001219091186992896, 0.0203181864498816, 0.0495763749377111, 0.011378184411933695, 0.019099095262888704, 0.02275636882386739, 0.8484874661470556, 0.9892701585399706, 0.9365160179244405, 0.05651389763337141, 0.9720075703980146, 0.9207757414594447, 0.9757301200633399, 0.7768669232902, 0.18228162445915305, 0.039060348098389944, 0.9991273665655139, 0.05795711761773796, 0.9273138818838074, 0.9835376014926098, 0.04755244988254874, 0.06340326651006499, 0.08453768868008665, 0.12152292747762457, 0.686868720525704, 0.9913376979814796, 0.16734127566952528, 0.05525419479654136, 0.15155436287051346, 0.011050838959308272, 0.5699075520443266, 0.04262466455733191, 0.0015786912799011818, 0.00460085657314777, 0.2024376892185019, 0.04447494687376178, 0.11042055775554648, 0.006134475430863693, 0.0030672377154318466, 0.5720398339280394, 0.05521027887777324, 0.9905316287734264, 0.9853829993173233, 0.018217955659647813, 0.6173862751325092, 0.36233489589743983, 0.9748569326060336, 0.5808194864034862, 0.19644853209992091, 0.06333681637233943, 0.025056322960485926, 0.05011264592097185, 0.06907889038411745, 0.0153121973647414, 0.9456874311698429, 0.3527137342657111, 0.6457087410366987, 0.885747421900718, 0.9984183627380485, 0.16968490290602795, 0.016968490290602795, 0.6926229218618777, 0.016968490290602795, 0.1033535317700352, 0.9983537455229355, 0.9573182138700456, 0.5751953257968694, 0.36229366819326025, 0.06278794647970845, 0.9332760852029758, 0.9503754946239371, 0.039598978942664044, 0.20023569147016182, 0.0024369455351338156, 0.10235171247562025, 0.15190293835667448, 0.018683249102692586, 0.25669159636742855, 0.023963297762149185, 0.2441007111025705, 0.06931580019665873, 0.00533198463051221, 0.9171013564481001, 0.01066396926102442, 0.0038483327632882897, 0.3364542358760619, 0.0005497618233268985, 0.001099523646653797, 0.12589545754185977, 0.3732882780389641, 0.11490022107532179, 0.043431184042824984, 0.9506540294181813, 0.9889607663314465, 0.00824133971942872, 0.9730676065268776, 0.1040492207963127, 0.01600757243020195, 0.8724126974460064, 0.9674773516573597, 0.9590415576524517, 0.08705301937807654, 0.9107085104168008, 0.6789151881141637, 0.23599035244469366, 0.0843328887114671, 0.9918427349017279, 0.8880488825672492, 0.9674773516573597, 0.12603395831247693, 0.008793066859010018, 0.8617205521829817, 8.089406834527732e-05, 0.0342181909100523, 0.06358273771938797, 0.31451613772643816, 0.06503883094960296, 0.056706741910039396, 0.3864309644853897, 0.07660668272297762, 0.0027503983237394287, 0.14175602877985324, 0.13147858692763392, 0.12047445726768194, 0.05465730439589361, 0.12789705416095146, 0.12608033464161975, 0.08086997174625095, 0.1884197672906874, 0.028340824501574467, 0.9798975272450179, 0.4906889032451767, 0.03744876029256119, 0.050665969807582784, 0.3342852573174212, 0.013217209515021595, 0.06608604757510797, 0.007710038883762597, 0.9683867135779061, 0.12482620088865208, 0.25292772483269155, 0.172136422799803, 0.10080716514914469, 0.22454159168600096, 0.12446227610472015, 0.9796335414274175, 0.890719827908099, 0.10770700414243807, 0.16098422990281683, 0.02575747678445069, 0.8113605187101968, 0.9310370942241986, 0.9489574766790061, 0.9908368020060937, 0.019826437342053322, 0.011895862405231994, 0.03172229974728531, 0.9358078425449168, 0.99261903378144, 0.29368370863625703, 0.050849829410518, 0.012453019447473795, 0.101699658821036, 0.1395775929737688, 0.1333510832500319, 0.2667021665000638, 0.0010377516206228163, 0.9043334495392487, 0.10713434029233597, 0.8926709708874316, 0.9981136193480444, 0.011461548093964598, 0.3197294353712208, 0.24069250997325656, 0.31017814529291693, 0.11771965021509473, 0.9832482001079789, 0.6616130404256051, 0.33472912717184766, 0.9711306572225324, 0.9858950160242433, 0.37713782339128826, 0.49900768771860415, 0.07328660760223725, 0.05023014678355586, 0.0006792673094357076, 0.18442107451179462, 0.38820126734250693, 0.03022739526988899, 0.009170108677382053, 0.08422914637002775, 0.08694621560777058, 0.10256936372479186, 0.051963949171831635, 0.061813325158649395, 0.44907915930604775, 0.002689096762311663, 0.5458866427492676, 0.17466522604902715, 0.24506261753646777, 0.04648884343510228, 0.06840501248307908, 0.003984758008723053, 0.3194447670326314, 0.14212303564445555, 0.9618071377218066, 0.03394613427253435, 0.06924245372598305, 0.8070528009910798, 0.054113850390894315, 0.052368242313768694, 0.01745608077125623, 0.1602538885606031, 0.8376907811122435, 0.9974410715041813, 0.9966120888944096, 0.15326738697410058, 0.7757206524403458, 0.06881392884551456, 0.9864167871932674, 0.9576636167132203, 0.993314624957446, 0.9542392089718867, 0.8723140887535225, 0.08401945128839254, 0.8025306209270597, 0.11299167587059686, 0.8922321635266477, 0.10533296374967369, 0.10433696281561206, 0.019873707202973726, 0.27823190084163213, 0.59372700268884, 0.13827311023769723, 0.7107923518003939, 0.01714129465756577, 0.13255934535184197, 0.019030957400145158, 0.015024440052746177, 0.07912871761112987, 0.03305376811604159, 0.23638452349653985, 0.17027698726445667, 0.005008146684248725, 0.3956435880556493, 0.04707657883193802, 0.22906679567402868, 0.7687858210977675, 0.020207155053819648, 0.003367859175636608, 0.9160576957731573, 0.040414310107639295, 0.020207155053819648, 0.0453124741209487, 0.032366052943534784, 0.886829850652853, 0.032366052943534784, 0.5012941945679535, 0.021175709275006973, 0.0057011524971172615, 0.12338922904475216, 0.2911660025313459, 0.05416094872261399, 0.0032578014269241495, 0.07440940307212394, 0.0010100823946442164, 0.24073630405687158, 0.016834706577403605, 0.011784294604182524, 0.48349277290303155, 0.12525021693588284, 0.0013467765261922886, 0.045117013627441666, 0.9977129188942803, 0.9910778042303103, 0.8040323630618561, 0.08816144331818597, 0.10226727424909574, 0.16393035492700447, 0.8257232692619484, 0.006071494626926091, 0.9967042725853693, 0.995343729066121, 0.010005077705430557, 0.09478494668302634, 0.05845071712119958, 0.09373178060877049, 0.3828258679920008, 0.33174731339059216, 0.0284354840049079, 0.7991141022905301, 0.2003095689686257, 0.0002124173583972701, 0.0002124173583972701, 0.05756088573036, 0.9353643931183501, 0.9695988571792482, 0.9733168483268785, 0.957663693570834, 0.9701543624431791, 0.9683345510234055, 0.028203918961846763, 0.9951332186261121, 0.9821454592217264, 0.9822882119464249, 0.9767480106878522, 0.0077266597475142956, 0.0019316649368785739, 0.17095234691375377, 0.818060100768076, 0.9964191487676064, 0.9986661321563384, 0.9814834443311881, 0.2104658158037206, 0.0010316951755084344, 0.0010316951755084344, 0.4333119737135424, 0.017538817983643384, 0.33530093204024114, 0.5362148211009125, 0.10861494244048334, 0.00130664592409604, 0.021722988488096666, 0.011106490354816341, 0.0011433151835840351, 0.2770089359083605, 0.04295598475465732, 0.06801726415699576, 0.3103287677162932, 0.6206575354325864, 0.0467329887304825, 0.93465977460965, 0.9672822094997712, 0.9943459497405183, 0.010577168713647047, 0.9872024132737244, 0.978504745262758, 0.1117349548836861, 0.789353390952492, 0.10092189473365196, 0.9421542975063827, 0.9702800946688842, 0.23931442700757316, 0.7518285096255617, 0.006353480363032916, 0.2722058655810379, 0.7249839390227643, 0.9871740853064008, 0.005871666889949908, 0.07633166956934881, 0.01467916722487477, 0.05578083545452413, 0.005871666889949908, 0.2495458428228711, 0.5930383558849407, 0.8852356773889628, 0.1137496893148405, 0.6311979308325719, 0.0001524816839793627, 0.1442476730444771, 0.0006099267359174508, 0.05718063149226101, 0.007547843356978454, 0.0004574450519380881, 0.13258282422005588, 0.026074367960471023, 0.9643912269537831, 0.1309608605657184, 0.10414506530702368, 0.07857651633943104, 0.00062362314555104, 0.6853618369605929, 0.9388844540361446, 0.9399581094698176, 0.6197862026437843, 0.00712983306245931, 0.02851933224983724, 0.016806035075796942, 0.07231687820494442, 0.05194592659791782, 0.02138949918737793, 0.08810436570039004, 0.09421565118249801, 0.06545772287430023, 0.9164081202402031, 0.08574668952191565, 0.07057612137573058, 0.11147069637849034, 0.09498094839350657, 0.10091725766810072, 0.11740700565308451, 0.3706895347024354, 0.010553438710389619, 0.038256215325162365, 0.38005693134501584, 0.0017413834196793395, 0.6177557681312457, 0.9629391269212981, 0.003955862100705171, 0.256883795164542, 0.7100772470765782, 0.001483448287764439, 0.001483448287764439, 0.025960345035877682, 0.9946647446652311, 0.9109571474899162, 0.9974448908806725, 0.20895405384770327, 0.7415095185214957, 0.04622877297515559, 0.9840290648199507, 0.01570107298088114, 0.9513461678299574, 0.0915732437791869, 0.11654776480987422, 0.01664968068712489, 0.765885311607745, 0.9951304172309572, 0.9973061417951288, 0.9950810302446544, 0.9567849840948065, 0.518441064723844, 0.4795190628676995, 0.912875637646901, 0.9114888305898614, 0.9858335597507952, 0.006572223731671968, 0.9966831498487086, 0.9476768941553471, 0.05922211729345276, 0.9394253507922212, 0.00038707266204871085, 0.0011612179861461324, 0.22631074085051275, 0.0012526424770323585, 0.0492706040966061, 0.1561627621367007, 0.013779067247355944, 0.07390590614490915, 0.4672356439330697, 0.012108877277979465, 0.9620328324441851, 0.981939887881203, 0.14476574915180632, 0.05932296754233042, 0.17708348520098632, 0.31565131237075816, 0.08898445131349564, 0.21382830838019098, 0.07639392792613928, 0.11983361243315965, 0.017975041864973947, 0.2239390632344671, 0.11608881204462342, 0.06141472637199433, 0.03520112365224065, 0.029958403108289913, 0.11983361243315965, 0.19922338067012793, 0.018789767920780555, 0.024661570396024478, 0.018789767920780555, 0.08690267663361007, 0.07046162970292708, 0.11273860752468332, 0.6458982722768315, 0.021138488910878123, 0.18386462698026407, 0.8044077430386554, 0.9988409677580194, 0.03499702909583547, 0.00040226470225098246, 0.0020113235112549123, 0.0008045294045019649, 0.00804529404501965, 0.9533673443348284, 0.9576637123463588, 0.02308760478482803, 0.9067132060950645, 0.03987859008288478, 0.02938422427159931, 0.09867793526074325, 0.859831522380098, 0.0005333942446526663, 0.040537962593602636, 0.9687674819081059, 0.03118438315333166, 0.9786726125535745, 0.9753418150594131, 0.11668996626840841, 0.8782455355990738, 0.9300596632794015, 0.05812872895496259, 0.08787452682569531, 0.1649448085498707, 0.14837829939420683, 0.4480160302096925, 0.0057622640541439545, 0.015846226148895876, 0.128210375204703, 0.9081418629828095, 0.0756784885819008, 0.1942537276483411, 0.02403138898742364, 0.00200261574895197, 0.16121056779063359, 0.3794956844263983, 0.1061386346944544, 0.001001307874475985, 0.015520272054377768, 0.11665236737645225, 0.08841204273103713, 0.006226200192326559, 0.01992384061544499, 0.0012452400384653118, 0.11331684350034336, 0.23036940711608267, 0.4345887734243938, 0.10210968315415556, 0.003735720115395935, 0.967852919461081, 0.020592615307682572, 0.010296307653841286, 0.9018892031555005, 0.0807661972975075, 0.006730516441458959, 0.010095774662188438, 0.22999831822667116, 0.7668389403520336, 0.0005336387893890282, 0.0005336387893890282, 0.0010672775787780565, 0.0005336387893890282, 0.0005336387893890282, 0.9888157643240277, 0.9643962418546134, 0.16040462091531602, 0.12649795307955816, 0.7107359219418474, 0.9753536002945103, 0.9908537299686051, 0.1756116234825155, 0.12298024671179127, 0.0010422054806084006, 0.006253232883650403, 0.10786826724296945, 0.4022913155148426, 0.014590876728517607, 0.14173994536274248, 0.028139547976426815, 0.9787589944149444, 0.9968981860758949, 0.8618155230288685, 0.1121826746269588, 0.8654092042651107, 0.5640922126708695, 0.3078275843805598, 0.031574151909694315, 8.15869558390034e-05, 0.049441695238436056, 0.0006526956467120271, 0.03230843451224535, 0.00791393471638333, 0.006037434732086251, 0.9980555005545585, 0.13423521523812118, 0.8563280972087041, 0.00925760105090491, 0.8766824567479754, 0.12310152144089219, 0.9920358905399176, 0.009417054819099316, 0.0329596918668476, 0.009417054819099316, 0.9511225367290308, 0.9980058621107617, 0.9677700614546123, 0.9929196631549723, 0.9560519657943078, 0.8618164581104771, 0.9941564679894382, 0.30756938708451553, 0.04613540806267733, 0.6458957128774826, 0.09688466435872096, 0.5893149832067656, 0.10409096170771674, 0.20938297297359945, 0.08765011682059975, 0.7796247232990189, 0.001153291010797365, 0.13032188422010227, 0.61224102863357, 0.3870843783048516, 0.9638819588781581, 0.9957551959768974, 0.15163863688361295, 0.16660649293322927, 0.12295024612184834, 0.09871657442246953, 0.04098341537394944, 0.22852708790039203, 0.19066197587011263, 0.983060527409089, 0.9680203440346457, 0.970780495460945, 0.9401055625229365, 0.7386646104642252, 0.2613070332169662, 0.9629391269138161, 0.9991256466117097, 0.08662230370446906, 0.87641389630404, 0.030572577778047907, 0.9991269012992046, 0.9944148961652169, 0.9727790832861559, 0.9955100531682413, 0.5981041608386725, 0.02291054823874195, 0.08712950921097318, 0.0010413885563064524, 0.28985314817196256, 0.00034712951876881746, 0.00034712951876881746, 0.9851920586571562, 0.9996381125996354, 0.09788623077805444, 0.8964317976516565, 0.1341303261814603, 0.2287310600122132, 0.17568707711425532, 0.0706126906093834, 0.019089076647991206, 0.10102006934069682, 0.07855239505589301, 0.01182509172884411, 0.11926449657948487, 0.061152617226308104, 0.9811319689641003, 0.9804219896972057, 0.014417970436723613, 0.9846414811749714, 0.13725340711529457, 0.8609531900868477, 0.9859988974634883, 0.009137638630446534, 0.4431754735766569, 0.002781020452744597, 0.001589154544425484, 0.03873564202037117, 0.028406137481605528, 0.46264261674586904, 0.012911880673457058, 0.000794577272212742, 0.2823469237024516, 0.7173808287295665, 0.8723141397782364, 0.10602926550746612, 0.8867902206078985, 0.009971418366422763, 0.11253457870677118, 0.8319011894272704, 0.04415913847987223, 0.9686049609264291, 0.9963968659167692, 0.6864581732924387, 0.031757851433458016, 0.07206589363746242, 0.20886894596620467, 0.9952406108950942, 0.4180887909479656, 0.008864073306317291, 0.1152329529821248, 0.17284942947318718, 0.10538398264177225, 0.006401830721229155, 0.08026910827387325, 0.05613913094000952, 0.037426087293339676, 0.00894976119131914, 0.20882776113077994, 0.15053957285911168, 0.2476100596264962, 0.3779552995410929, 0.005507545348504086, 0.0006884431685630107, 0.9219239831825681, 0.00698427259986794, 0.06285845339881146, 0.9207757122742003, 0.983060527409089, 0.9942836695242018, 0.08110839181176163, 0.01512190355812505, 0.010997748042272763, 0.19521002775034157, 0.6956075636737523, 0.002749437010568191, 0.9984211854247739, 0.999005189725305, 0.09529007311274955, 0.05760718056361678, 0.13037414548608006, 0.08446165571357347, 0.053708950299913384, 0.10092085016032112, 0.09962144007241999, 0.10395280703209042, 0.23476008921413755, 0.03898230263703391, 0.007138324819828111, 0.9886579875461935, 0.07917529613353139, 0.7297896861003762, 0.010327212539156267, 0.179865618390305, 0.9765163510025872, 0.0009100804762372667, 0.0218419314296944, 0.1059671263014354, 0.8874746827745215], \"Term\": [\"achiote\", \"active\", \"adobo\", \"adobo\", \"agave\", \"ai\", \"aioli\", \"all\", \"all\", \"all\", \"all\", \"almond\", \"almond\", \"almond\", \"almond\", \"almond\", \"amchur\", \"american\", \"anaheim\", \"anaheim\", \"ancho\", \"anchovy\", \"anchovy\", \"andouille\", \"angel\", \"angel\", \"angel\", \"applewood\", \"arborio\", \"artichok\", \"artichoke\", \"asafetida\", \"asafoetida\", \"asiago\", \"asiago\", \"asiago\", \"avocado\", \"avocado\", \"avocado\", \"avocado\", \"avocado\", \"bacon\", \"bacon\", \"bacon\", \"bacon\", \"bacon\", \"bacon\", \"baguette\", \"baguette\", \"baguette\", \"baguette\", \"baking\", \"balsamic\", \"balsamic\", \"balsamic\", \"bamboo\", \"basil\", \"basil\", \"basil\", \"basil\", \"basil\", \"basil\", \"basil\", \"basil\", \"basmati\", \"basmati\", \"bay\", \"bay\", \"bay\", \"bay\", \"bay\", \"bean\", \"bean\", \"bean\", \"bean\", \"bean\", \"bean\", \"bean\", \"bean\", \"bean\", \"beansprouts\", \"beef\", \"beef\", \"beef\", \"beef\", \"beef\", \"beefsteak\", \"belgian\", \"bell\", \"bell\", \"bell\", \"bell\", \"bell\", \"bell\", \"bell\", \"bell\", \"bell\", \"belly\", \"bertolli\", \"best\", \"bittersweet\", \"blanc\", \"blend\", \"blend\", \"blend\", \"blend\", \"bocconcini\", \"boil\", \"boiled\", \"boiled\", \"bok\", \"boneless\", \"boneless\", \"boneless\", \"boneless\", \"boneless\", \"boneless\", \"boneless\", \"boneless\", \"bonito\", \"bonnet\", \"bought\", \"bouquet\", \"bourbon\", \"bread\", \"bread\", \"bread\", \"bread\", \"bread\", \"bread\", \"breadcrumb\", \"breadcrumb\", \"breadcrumb\", \"breast\", \"breast\", \"breast\", \"breast\", \"breast\", \"breast\", \"breast\", \"breast\", \"breast\", \"broiler\", \"broth\", \"broth\", \"broth\", \"broth\", \"broth\", \"broth\", \"broth\", \"broth\", \"brown\", \"brown\", \"brown\", \"brown\", \"brown\", \"brown\", \"brown\", \"brown\", \"brown\", \"bucatini\", \"bulb\", \"bulb\", \"bulgur\", \"burgundy\", \"butter\", \"butter\", \"butter\", \"butter\", \"butter\", \"butter\", \"butter\", \"butter\", \"butter\", \"butter\", \"buttermilk\", \"buttermilk\", \"cabbage\", \"cabbage\", \"cabbage\", \"cabbage\", \"cabbage\", \"cabbage\", \"cachaca\", \"cajun\", \"canela\", \"cannellini\", \"cannellini\", \"cap\", \"cap\", \"cap\", \"caper\", \"caper\", \"cardamom\", \"cardamom\", \"carrot\", \"carrot\", \"carrot\", \"carrot\", \"carrot\", \"carrot\", \"carrot\", \"carrot\", \"carrot\", \"cashew\", \"cashew\", \"cashew\", \"catfish\", \"cauliflower\", \"cauliflower\", \"cauliflower\", \"cayenne\", \"cayenne\", \"cayenne\", \"cayenne\", \"cayenne\", \"cayenne\", \"cayenne\", \"cayenne\", \"cayenne\", \"celery\", \"celery\", \"celery\", \"celery\", \"celery\", \"ch\", \"chaat\", \"chana\", \"chanterelle\", \"chard\", \"chard\", \"chardonnay\", \"che\", \"cheddar\", \"cheese\", \"cheese\", \"cheese\", \"cheese\", \"cheese\", \"cherry\", \"cherry\", \"cherry\", \"cherry\", \"cherry\", \"cherry\", \"cherry\", \"chestnut\", \"chestnut\", \"chestnut\", \"chestnut\", \"chicken\", \"chicken\", \"chicken\", \"chicken\", \"chicken\", \"chicken\", \"chicken\", \"chicken\", \"chicken\", \"chickpea\", \"chickpea\", \"chickpea\", \"chile\", \"chile\", \"chile\", \"chile\", \"chile\", \"chili\", \"chili\", \"chili\", \"chili\", \"chili\", \"chili\", \"chilies\", \"chilies\", \"chilies\", \"chilies\", \"chinese\", \"chip\", \"chip\", \"chip\", \"chipotle\", \"chipotle\", \"chocolate\", \"chow\", \"choy\", \"chuck\", \"chuck\", \"chuck\", \"chuck\", \"chutney\", \"cilantro\", \"cilantro\", \"cilantro\", \"cilantro\", \"cilantro\", \"cinnamon\", \"cinnamon\", \"cinnamon\", \"cinnamon\", \"cinnamon\", \"citrus\", \"clam\", \"clam\", \"clam\", \"clam\", \"clam\", \"classico\", \"clove\", \"clove\", \"clove\", \"clove\", \"clove\", \"clove\", \"clove\", \"clove\", \"clove\", \"clove\", \"cockle\", \"cocoa\", \"coconut\", \"coconut\", \"coconut\", \"coffee\", \"colby\", \"collard\", \"confectioner\", \"converted\", \"cooked\", \"cooked\", \"cooked\", \"cooked\", \"cooked\", \"cooked\", \"cooked\", \"cooking\", \"cooking\", \"cooking\", \"cooking\", \"cooking\", \"cooking\", \"cooking\", \"cooking\", \"cooking\", \"cooking\", \"coriander\", \"coriander\", \"coriander\", \"corn\", \"corn\", \"corn\", \"corn\", \"corn\", \"corn\", \"corn\", \"corned\", \"cornmeal\", \"cornmeal\", \"cornmeal\", \"cornmeal\", \"cornmeal\", \"cotija\", \"cotija\", \"cottage\", \"cr\", \"crab\", \"crab\", \"crab\", \"crab\", \"crawfish\", \"crawfish\", \"crawfish\", \"cream\", \"cream\", \"cream\", \"cream\", \"cream\", \"creamy\", \"creamy\", \"crema\", \"creole\", \"crescent\", \"crescent\", \"crumb\", \"crumb\", \"crumb\", \"crumb\", \"crumb\", \"crumbles\", \"crumbles\", \"cumin\", \"cumin\", \"cumin\", \"cumin\", \"cumin\", \"curry\", \"curry\", \"dal\", \"dark\", \"dark\", \"dark\", \"dashi\", \"devein\", \"diced\", \"diced\", \"diced\", \"diced\", \"diced\", \"diced\", \"diced\", \"dijon\", \"dijon\", \"dijon\", \"dijon\", \"dijon\", \"dipping\", \"dog\", \"dressing\", \"dressing\", \"dressing\", \"dressing\", \"dressing\", \"dried\", \"dried\", \"dried\", \"dried\", \"dried\", \"dried\", \"dried\", \"dried\", \"dried\", \"dried\", \"dripping\", \"dry\", \"dry\", \"dry\", \"dry\", \"dry\", \"dry\", \"dry\", \"dry\", \"dry\", \"dumpling\", \"egg\", \"egg\", \"egg\", \"egg\", \"egg\", \"egg\", \"egg\", \"egg\", \"egg\", \"elbow\", \"enchilada\", \"endive\", \"epazote\", \"espresso\", \"extra\", \"extra\", \"extra\", \"extra\", \"extra\", \"extra\", \"extract\", \"eyed\", \"fajita\", \"fat\", \"fat\", \"fat\", \"fat\", \"fat\", \"fat\", \"fat\", \"fat\", \"fenugreek\", \"fermented\", \"feta\", \"feta\", \"feta\", \"fettucine\", \"fettucine\", \"fettucine\", \"fettucine\", \"fettucine\", \"fillet\", \"fillet\", \"fillet\", \"fillet\", \"fillet\", \"fillet\", \"fish\", \"fish\", \"fish\", \"fish\", \"five\", \"flat\", \"flat\", \"flat\", \"flat\", \"flour\", \"flour\", \"flour\", \"flour\", \"flour\", \"flour\", \"flour\", \"flour\", \"flour\", \"focaccia\", \"fontina\", \"fontina\", \"fra\", \"free\", \"free\", \"free\", \"free\", \"fresca\", \"fresco\", \"fresco\", \"fry\", \"fryer\", \"fully\", \"gai\", \"galangal\", \"galangal\", \"garam\", \"garlic\", \"garlic\", \"garlic\", \"garlic\", \"garlic\", \"garlic\", \"garlic\", \"garlic\", \"garlic\", \"garni\", \"gelatin\", \"ghee\", \"giardiniera\", \"ginger\", \"ginger\", \"ginger\", \"ginger\", \"ginger\", \"goat\", \"goat\", \"goat\", \"gochujang\", \"gold\", \"gold\", \"gold\", \"gold\", \"gold\", \"gold\", \"grain\", \"grain\", \"grain\", \"grain\", \"gram\", \"granulated\", \"granulated\", \"granulated\", \"grate\", \"grated\", \"grated\", \"grated\", \"grated\", \"grated\", \"grating\", \"great\", \"green\", \"green\", \"green\", \"green\", \"green\", \"green\", \"green\", \"green\", \"green\", \"ground\", \"ground\", \"ground\", \"ground\", \"ground\", \"ground\", \"ground\", \"ground\", \"ground\", \"ground\", \"gruy\", \"guacamole\", \"guajillo\", \"guanciale\", \"gumbo\", \"ha\", \"haddock\", \"hair\", \"hair\", \"halibut\", \"halibut\", \"ham\", \"ham\", \"ham\", \"ham\", \"ham\", \"ham\", \"ham\", \"hanout\", \"haricot\", \"heart\", \"heart\", \"heavy\", \"heavy\", \"heavy\", \"heavy\", \"heavy\", \"heirloom\", \"heirloom\", \"hellmann\", \"hoagie\", \"hock\", \"hoisin\", \"hominy\", \"hominy\", \"hot\", \"hot\", \"hot\", \"hot\", \"hot\", \"hot\", \"hot\", \"hot\", \"hot\", \"ice\", \"ice\", \"ice\", \"in\", \"in\", \"in\", \"in\", \"in\", \"in\", \"in\", \"jack\", \"jaggery\", \"jalapeno\", \"jalapeno\", \"jalapeno\", \"jamaican\", \"jamaican\", \"jamaican\", \"jeera\", \"jicama\", \"jicama\", \"johnsonville\", \"juice\", \"juice\", \"juice\", \"juice\", \"juice\", \"juice\", \"juice\", \"juice\", \"juice\", \"juice\", \"juniper\", \"kaffir\", \"kaffir\", \"kalamata\", \"kalamata\", \"kasuri\", \"kernel\", \"kernel\", \"kernel\", \"kernel\", \"kidney\", \"kidney\", \"kidney\", \"kidney\", \"kielbasa\", \"kielbasa\", \"kimchi\", \"kimchi\", \"kombu\", \"konbu\", \"korean\", \"kosher\", \"kosher\", \"kosher\", \"kosher\", \"kosher\", \"kosher\", \"kosher\", \"kosher\", \"kosher\", \"kosher\", \"kraft\", \"lan\", \"large\", \"large\", \"large\", \"large\", \"large\", \"large\", \"large\", \"large\", \"large\", \"large\", \"lasagna\", \"le\", \"leaf\", \"leaf\", \"leaf\", \"leaf\", \"leaf\", \"leaf\", \"leaf\", \"leaf\", \"leaf\", \"lean\", \"lean\", \"lean\", \"leek\", \"leek\", \"leek\", \"leek\", \"leek\", \"lemon\", \"lemon\", \"lemon\", \"lemon\", \"lemon\", \"lemon\", \"lemon\", \"lemon\", \"lemon\", \"lemonade\", \"lemongrass\", \"lemongrass\", \"lemongrass\", \"lentil\", \"lentil\", \"lentil\", \"lentil\", \"lima\", \"lime\", \"lime\", \"lime\", \"limeade\", \"linguini\", \"link\", \"link\", \"littleneck\", \"liver\", \"liver\", \"liver\", \"long\", \"loosely\", \"louisiana\", \"low\", \"low\", \"low\", \"low\", \"low\", \"low\", \"low\", \"low\", \"low\", \"lump\", \"macaroni\", \"macaroni\", \"madras\", \"manioc\", \"marin\", \"marinara\", \"marinara\", \"marinara\", \"masala\", \"mashed\", \"mashed\", \"mayonnais\", \"mayonnaise\", \"mayonnaise\", \"mayonnaise\", \"mayonnaise\", \"mayonnaise\", \"me\", \"meat\", \"meat\", \"meat\", \"meat\", \"meat\", \"meat\", \"meat\", \"medium\", \"medium\", \"medium\", \"medium\", \"medium\", \"medium\", \"medium\", \"medium\", \"mein\", \"methi\", \"mexican\", \"mexican\", \"mexican\", \"mexicana\", \"milk\", \"milk\", \"milk\", \"milk\", \"milk\", \"milk\", \"milk\", \"minicub\", \"mirin\", \"mirin\", \"mirlitons\", \"miso\", \"mix\", \"mix\", \"mix\", \"mix\", \"mix\", \"monterey\", \"moong\", \"mozzarella\", \"mozzarella\", \"mozzarella\", \"mulato\", \"mung\", \"mung\", \"mushroom\", \"mushroom\", \"mushroom\", \"mushroom\", \"mushroom\", \"mushroom\", \"mushroom\", \"mushroom\", \"mussel\", \"mussel\", \"mussel\", \"mussel\", \"mustard\", \"mustard\", \"mustard\", \"mustard\", \"mustard\", \"mustard\", \"mustard\", \"mustard\", \"nam\", \"napa\", \"napa\", \"navy\", \"nectar\", \"nectar\", \"nectar\", \"ni\", \"nigella\", \"non\", \"non\", \"noodle\", \"noodle\", \"noodle\", \"northern\", \"octopus\", \"oise\", \"okra\", \"okra\", \"okra\", \"olive\", \"olive\", \"olive\", \"olive\", \"olive\", \"olive\", \"olive\", \"olive\", \"olive\", \"onion\", \"onion\", \"onion\", \"onion\", \"onion\", \"onion\", \"onion\", \"onion\", \"onion\", \"or\", \"orange\", \"orange\", \"orange\", \"orange\", \"orange\", \"orange\", \"orange\", \"orecchiette\", \"oregano\", \"oregano\", \"oregano\", \"oregano\", \"oregano\", \"oregano\", \"oven\", \"oyster\", \"oyster\", \"palm\", \"palm\", \"palm\", \"pan\", \"pandanus\", \"paneer\", \"panko\", \"panko\", \"panko\", \"panko\", \"paper\", \"paprika\", \"paprika\", \"paprika\", \"paprika\", \"paprika\", \"paprika\", \"paprika\", \"paprika\", \"parmagiano\", \"parmesan\", \"parmesan\", \"parmigiano\", \"parsley\", \"parsley\", \"parsley\", \"parsley\", \"parsley\", \"parsnip\", \"part\", \"part\", \"pasilla\", \"paso\", \"pasta\", \"pasta\", \"pasta\", \"pasta\", \"paste\", \"paste\", \"paste\", \"paste\", \"paste\", \"paste\", \"paste\", \"paste\", \"paste\", \"paste\", \"pastry\", \"pastry\", \"pastry\", \"pea\", \"pea\", \"pea\", \"pea\", \"pea\", \"pea\", \"pea\", \"peach\", \"peach\", \"peanut\", \"peanut\", \"peanut\", \"peanut\", \"peanut\", \"pearl\", \"pearl\", \"pecan\", \"pecorino\", \"penne\", \"penne\", \"penne\", \"picante\", \"picholine\", \"pickle\", \"pig\", \"pimenton\", \"pinenuts\", \"pinenuts\", \"pinenuts\", \"pita\", \"pita\", \"pitted\", \"pitted\", \"pitted\", \"pitted\", \"plain\", \"plain\", \"plain\", \"plain\", \"plum\", \"plum\", \"plum\", \"plum\", \"plum\", \"plum\", \"plum\", \"plum\", \"plum\", \"poblano\", \"poblano\", \"pod\", \"pod\", \"pod\", \"pod\", \"pod\", \"polenta\", \"polenta\", \"polenta\", \"polenta\", \"pork\", \"pork\", \"pork\", \"pork\", \"pork\", \"pork\", \"pork\", \"potato\", \"potato\", \"potato\", \"potato\", \"potato\", \"potato\", \"potato\", \"potato\", \"potato\", \"powdered\", \"prepar\", \"prosciutto\", \"prosciutto\", \"prosciutto\", \"provolone\", \"provolone\", \"provolone\", \"puff\", \"pure\", \"purple\", \"purple\", \"purple\", \"purple\", \"purple\", \"purple\", \"purple\", \"purpose\", \"purpose\", \"purpose\", \"purpose\", \"queso\", \"queso\", \"ra\", \"rabe\", \"rack\", \"ragu\", \"ranch\", \"ranch\", \"raspberry\", \"re\", \"ready\", \"real\", \"reduced\", \"reduced\", \"reduced\", \"reduced\", \"refried\", \"reggiano\", \"relish\", \"rib\", \"rib\", \"rib\", \"rib\", \"rib\", \"rib\", \"rice\", \"rice\", \"rice\", \"rice\", \"rice\", \"rice\", \"rice\", \"rice\", \"ricotta\", \"ricotta\", \"ricotta\", \"rigatoni\", \"rigatoni\", \"ripened\", \"rising\", \"romano\", \"romano\", \"rubbed\", \"russet\", \"russet\", \"russet\", \"rutabaga\", \"safflower\", \"sage\", \"sage\", \"sage\", \"sake\", \"sake\", \"salata\", \"salmon\", \"salmon\", \"salmon\", \"salmon\", \"salmon\", \"salmon\", \"salmon\", \"salsa\", \"salsa\", \"sauce\", \"sauce\", \"sauce\", \"sauce\", \"sauce\", \"sauce\", \"sauce\", \"sauce\", \"sauce\", \"sauerkraut\", \"sausage\", \"sausage\", \"sausage\", \"sausage\", \"sausage\", \"sauvignon\", \"sazon\", \"scallion\", \"scallion\", \"scallion\", \"scallion\", \"scallion\", \"scallion\", \"scallion\", \"scallion\", \"scallion\", \"scotch\", \"scotch\", \"sea\", \"sea\", \"sea\", \"sea\", \"sea\", \"sea\", \"sea\", \"sea\", \"sea\", \"seasoning\", \"seasoning\", \"seasoning\", \"sec\", \"seed\", \"seed\", \"seed\", \"seed\", \"seed\", \"seed\", \"self\", \"seltzer\", \"semisweet\", \"serrano\", \"serrano\", \"serrano\", \"sesame\", \"sesame\", \"shahi\", \"shank\", \"shank\", \"shank\", \"shank\", \"shaoxing\", \"sharp\", \"sheet\", \"shichimi\", \"shiitake\", \"shiitake\", \"shirataki\", \"shiro\", \"shoot\", \"shoot\", \"shortening\", \"shoyu\", \"shredded\", \"shredded\", \"shredded\", \"shredded\", \"shrimp\", \"shrimp\", \"shrimp\", \"shrimp\", \"shrimp\", \"shrimp\", \"shrimp\", \"shrimp\", \"shucked\", \"skimmed\", \"skinless\", \"skinless\", \"skinless\", \"skinless\", \"skinless\", \"skinless\", \"sliced\", \"sliced\", \"sliced\", \"sliced\", \"sliced\", \"sliced\", \"sliced\", \"sliced\", \"sliced\", \"sliced\", \"smoked\", \"smoked\", \"smoked\", \"smoked\", \"smoked\", \"smoked\", \"smoked\", \"smoked\", \"snapper\", \"snapper\", \"soda\", \"sodium\", \"sodium\", \"sodium\", \"sodium\", \"sodium\", \"sodium\", \"soppressata\", \"soup\", \"soup\", \"soup\", \"soup\", \"sour\", \"sour\", \"sour\", \"sour\", \"soy\", \"soy\", \"soybean\", \"spaghettini\", \"spanish\", \"spanish\", \"spicy\", \"spicy\", \"spinach\", \"spinach\", \"spinach\", \"spinach\", \"spinach\", \"spinach\", \"spinach\", \"split\", \"split\", \"spray\", \"spray\", \"spray\", \"spray\", \"spray\", \"spray\", \"spray\", \"spray\", \"spray\", \"sprig\", \"sprig\", \"sprig\", \"sprig\", \"sprig\", \"sprig\", \"sprig\", \"sprig\", \"sprig\", \"spring\", \"spring\", \"spring\", \"sriracha\", \"sriracha\", \"sriracha\", \"sriracha\", \"starch\", \"starch\", \"starch\", \"starch\", \"starch\", \"starch\", \"starch\", \"stew\", \"stewing\", \"stick\", \"stick\", \"stick\", \"sticky\", \"stir\", \"stock\", \"stock\", \"stock\", \"stock\", \"stock\", \"stock\", \"stock\", \"stock\", \"stock\", \"store\", \"strawberry\", \"striped\", \"stuffed\", \"stuffed\", \"sugar\", \"sugar\", \"sugar\", \"sugar\", \"sugar\", \"sugar\", \"sugar\", \"sugar\", \"sugar\", \"sweetened\", \"swiss\", \"swiss\", \"swiss\", \"syrup\", \"syrup\", \"szechwan\", \"tabasco\", \"tabasco\", \"tabasco\", \"tabasco\", \"taco\", \"tandoori\", \"tartar\", \"tasso\", \"tenderizer\", \"tequila\", \"thai\", \"thai\", \"thai\", \"thyme\", \"thyme\", \"thyme\", \"thyme\", \"toasted\", \"toasted\", \"toasted\", \"toasted\", \"tofu\", \"tofu\", \"togarashi\", \"tomatillo\", \"tomato\", \"tomato\", \"tomato\", \"tomato\", \"tomato\", \"tomato\", \"tomato\", \"ton\", \"tongue\", \"tonkatsu\", \"toor\", \"tortilla\", \"tortilla\", \"triple\", \"tumeric\", \"tuna\", \"tuna\", \"tuna\", \"turmeric\", \"unbleached\", \"uncook\", \"unflavored\", \"unsalted\", \"unsalted\", \"unsalted\", \"unsalted\", \"unsalted\", \"unsalted\", \"unsalted\", \"urad\", \"vanilla\", \"veal\", \"veal\", \"vegetable\", \"vegetable\", \"vegetable\", \"vegetable\", \"vegetable\", \"vegetable\", \"vegetable\", \"vegetable\", \"vegetable\", \"vegetable\", \"velveeta\", \"verde\", \"verde\", \"verts\", \"vinaigrette\", \"vinaigrette\", \"vine\", \"vinegar\", \"vinegar\", \"vinegar\", \"vinegar\", \"vinegar\", \"vinegar\", \"vinegar\", \"vinegar\", \"vinegar\", \"virgin\", \"virgin\", \"vre\", \"wasabi\", \"wasabi\", \"wedge\", \"wedge\", \"wedge\", \"wedge\", \"well\", \"whipped\", \"whipping\", \"whipping\", \"whipping\", \"whipping\", \"whiskey\", \"whole\", \"whole\", \"whole\", \"whole\", \"whole\", \"whole\", \"whole\", \"whole\", \"whole\", \"wine\", \"wine\", \"wine\", \"wine\", \"wine\", \"wine\", \"wine\", \"wing\", \"wing\", \"wing\", \"winter\", \"won\", \"wonton\", \"worcestershire\", \"worcestershire\", \"worcestershire\", \"worcestershire\", \"worcestershire\", \"worcestershire\", \"wrapper\", \"yeast\", \"yellow\", \"yellow\", \"yellow\", \"yellow\", \"yellow\", \"yellow\", \"yellow\", \"yellow\", \"yellow\", \"yellow\", \"yoghurt\", \"yoghurt\", \"yogurt\", \"yogurt\", \"yogurt\", \"yogurt\", \"yolk\", \"yolk\", \"yolk\", \"yukon\", \"yukon\"]}, \"R\": 30, \"lambda.step\": 0.01, \"plot.opts\": {\"xlab\": \"PC1\", \"ylab\": \"PC2\"}, \"topic.order\": [10, 4, 8, 6, 2, 7, 5, 1, 9, 3]};\n",
       "\n",
       "function LDAvis_load_lib(url, callback){\n",
       "  var s = document.createElement('script');\n",
       "  s.src = url;\n",
       "  s.async = true;\n",
       "  s.onreadystatechange = s.onload = callback;\n",
       "  s.onerror = function(){console.warn(\"failed to load library \" + url);};\n",
       "  document.getElementsByTagName(\"head\")[0].appendChild(s);\n",
       "}\n",
       "\n",
       "if(typeof(LDAvis) !== \"undefined\"){\n",
       "   // already loaded: just create the visualization\n",
       "   !function(LDAvis){\n",
       "       new LDAvis(\"#\" + \"ldavis_el48154112081782608639507326\", ldavis_el48154112081782608639507326_data);\n",
       "   }(LDAvis);\n",
       "}else if(typeof define === \"function\" && define.amd){\n",
       "   // require.js is available: use it to load d3/LDAvis\n",
       "   require.config({paths: {d3: \"https://cdnjs.cloudflare.com/ajax/libs/d3/3.5.5/d3.min\"}});\n",
       "   require([\"d3\"], function(d3){\n",
       "      window.d3 = d3;\n",
       "      LDAvis_load_lib(\"https://cdn.rawgit.com/bmabey/pyLDAvis/files/ldavis.v1.0.0.js\", function(){\n",
       "        new LDAvis(\"#\" + \"ldavis_el48154112081782608639507326\", ldavis_el48154112081782608639507326_data);\n",
       "      });\n",
       "    });\n",
       "}else{\n",
       "    // require.js not available: dynamically load d3 & LDAvis\n",
       "    LDAvis_load_lib(\"https://cdnjs.cloudflare.com/ajax/libs/d3/3.5.5/d3.min.js\", function(){\n",
       "         LDAvis_load_lib(\"https://cdn.rawgit.com/bmabey/pyLDAvis/files/ldavis.v1.0.0.js\", function(){\n",
       "                 new LDAvis(\"#\" + \"ldavis_el48154112081782608639507326\", ldavis_el48154112081782608639507326_data);\n",
       "            })\n",
       "         });\n",
       "}\n",
       "</script>"
      ],
      "text/plain": [
       "PreparedData(topic_coordinates=              x         y  topics  cluster       Freq\n",
       "topic                                                \n",
       "9     -0.392850  0.045511       1        1  14.597295\n",
       "3      0.058540  0.169792       2        1  14.229735\n",
       "7      0.026035 -0.006368       3        1  10.725374\n",
       "5      0.019673  0.012084       4        1  10.574498\n",
       "1     -0.034589 -0.202516       5        1  10.348313\n",
       "6      0.097837  0.000406       6        1   9.520798\n",
       "4     -0.055710 -0.066913       7        1   8.550587\n",
       "0      0.070350 -0.223780       8        1   8.365668\n",
       "8      0.165468  0.004499       9        1   8.309044\n",
       "2      0.045246  0.267286      10        1   4.778688, topic_info=     Category          Freq        Term         Total  loglift  logprob\n",
       "472   Default  11421.000000      cheese  11421.000000  30.0000  30.0000\n",
       "1401  Default   4842.000000        lime   4842.000000  29.0000  29.0000\n",
       "2175  Default  13116.000000       sauce  13116.000000  28.0000  28.0000\n",
       "1718  Default  12361.000000       olive  12361.000000  27.0000  27.0000\n",
       "2426  Default  12256.000000       sugar  12256.000000  26.0000  26.0000\n",
       "2332  Default   4874.000000         soy   4874.000000  25.0000  25.0000\n",
       "484   Default  11722.000000     chicken  11722.000000  24.0000  24.0000\n",
       "913   Default   8618.000000       flour   8618.000000  23.0000  23.0000\n",
       "533   Default   5853.000000    cilantro   5853.000000  22.0000  22.0000\n",
       "2311  Default   2485.000000      sodium   2485.000000  21.0000  21.0000\n",
       "853   Default   2796.000000         fat   2796.000000  20.0000  20.0000\n",
       "36    Default   4715.000000         all   4715.000000  19.0000  19.0000\n",
       "2001  Default   4707.000000     purpose   4707.000000  18.0000  18.0000\n",
       "1008  Default   5382.000000      ginger   5382.000000  17.0000  17.0000\n",
       "2219  Default   3502.000000      sesame   3502.000000  16.0000  16.0000\n",
       "1433  Default   2460.000000         low   2460.000000  15.0000  15.0000\n",
       "2663  Default   5034.000000     vinegar   5034.000000  14.0000  14.0000\n",
       "310   Default   4682.000000       broth   4682.000000  13.0000  13.0000\n",
       "639   Default   5895.000000       cream   5895.000000  12.0000  12.0000\n",
       "2538  Default  11224.000000      tomato  11224.000000  11.0000  11.0000\n",
       "1261  Default   7073.000000       juice   7073.000000  10.0000  10.0000\n",
       "685   Default   4591.000000       cumin   4591.000000   9.0000   9.0000\n",
       "2207  Default   4044.000000        seed   4044.000000   8.0000   8.0000\n",
       "2070  Default   6122.000000        rice   6122.000000   7.0000   7.0000\n",
       "804   Default   8882.000000         egg   8882.000000   6.0000   6.0000\n",
       "1792  Default   2893.000000    parmesan   2893.000000   5.0000   5.0000\n",
       "837   Default   3155.000000       extra   3155.000000   4.0000   4.0000\n",
       "130   Default   2877.000000      baking   2877.000000   3.0000   3.0000\n",
       "2666  Default   2822.000000      virgin   2822.000000   2.0000   2.0000\n",
       "2262  Default   2583.000000    shredded   2583.000000   1.0000   1.0000\n",
       "...       ...           ...         ...           ...      ...      ...\n",
       "2678  Topic10     92.414773      wasabi    103.744942   2.9254  -5.8412\n",
       "2053  Topic10    847.271045     reduced   1035.376251   2.8405  -3.6255\n",
       "853   Topic10   2170.497045         fat   2796.862393   2.7875  -2.6848\n",
       "1660  Topic10    109.215472      nectar    124.940868   2.9065  -5.6742\n",
       "285   Topic10    193.867438  breadcrumb    235.044487   2.8484  -5.1004\n",
       "2146  Topic10    269.160955        sake    371.042702   2.7200  -4.7722\n",
       "1582  Topic10    346.177932       mirin    535.845309   2.6041  -4.5206\n",
       "244   Topic10    111.173443      boiled    151.934166   2.7286  -5.6564\n",
       "310   Topic10   1749.634848       broth   4682.239408   2.0566  -2.9004\n",
       "2151  Topic10    201.596620      salmon    340.618778   2.5165  -5.0613\n",
       "1522  Topic10    130.005338  mayonnaise    189.264697   2.6654  -5.5000\n",
       "2242  Topic10    308.010201    shiitake    642.310231   2.3061  -4.6374\n",
       "484   Topic10   2349.813802     chicken  11722.453799   1.4338  -2.6054\n",
       "1808  Topic10    203.288609      pastry    371.872078   2.4371  -5.0529\n",
       "1641  Topic10    600.624775    mushroom   2462.098522   1.6302  -3.9696\n",
       "2532  Topic10    250.542003        tofu    648.437431   2.0901  -4.8439\n",
       "2282  Topic10    483.472806    skinless   2258.821592   1.4994  -4.1865\n",
       "292   Topic10    591.079402      breast   3345.327446   1.3076  -3.9856\n",
       "251   Topic10    513.822314    boneless   2746.800495   1.3647  -4.1257\n",
       "804   Topic10    579.903201         egg   8882.215359   0.3121  -4.0047\n",
       "2289  Topic10    266.254352      sliced   1335.184651   1.4286  -4.7831\n",
       "413   Topic10    333.539701      carrot   3266.436554   0.7593  -4.5578\n",
       "1722  Topic10    546.301168       onion  19265.494551  -0.5219  -4.0644\n",
       "2638  Topic10    362.264620   vegetable   5919.615814   0.2474  -4.4752\n",
       "2175  Topic10    341.521405       sauce  13116.329436  -0.6072  -4.5341\n",
       "1366  Topic10    292.914442       large   5331.374028   0.1395  -4.6877\n",
       "1079  Topic10    285.492202       green   9129.100147  -0.4240  -4.7133\n",
       "2070  Topic10    263.165095        rice   6122.546171  -0.1059  -4.7948\n",
       "2360  Topic10    233.282727       spray   1997.387668   0.8937  -4.9153\n",
       "1814  Topic10    213.514794         pea   1505.737610   1.0877  -5.0038\n",
       "\n",
       "[706 rows x 6 columns], token_table=      Topic      Freq            Term\n",
       "term                                 \n",
       "7         6  0.976749         achiote\n",
       "14        1  0.997642          active\n",
       "16        4  0.003239           adobo\n",
       "16        6  0.991192           adobo\n",
       "19       10  0.991160           agave\n",
       "23       10  0.954165              ai\n",
       "24        8  0.880898           aioli\n",
       "36        1  0.797535             all\n",
       "36        7  0.202087             all\n",
       "36        9  0.000212             all\n",
       "36       10  0.000212             all\n",
       "38        1  0.664310          almond\n",
       "38        3  0.169611          almond\n",
       "38        5  0.060954          almond\n",
       "38        8  0.048587          almond\n",
       "38       10  0.054770          almond\n",
       "50        3  0.987726          amchur\n",
       "52        4  0.966363        american\n",
       "58        4  0.078606         anaheim\n",
       "58        6  0.903975         anaheim\n",
       "60        6  0.995324           ancho\n",
       "61        5  0.011866         anchovy\n",
       "61        8  0.987865         anchovy\n",
       "63        9  0.995577       andouille\n",
       "65        1  0.066425           angel\n",
       "65        5  0.901481           angel\n",
       "65        9  0.018979           angel\n",
       "79        7  0.942202       applewood\n",
       "85        5  0.997887         arborio\n",
       "94        5  0.975730        artichok\n",
       "...     ...       ...             ...\n",
       "2719      2  0.994284          wonton\n",
       "2721      2  0.081108  worcestershire\n",
       "2721      4  0.015122  worcestershire\n",
       "2721      6  0.010998  worcestershire\n",
       "2721      7  0.195210  worcestershire\n",
       "2721      9  0.695608  worcestershire\n",
       "2721     10  0.002749  worcestershire\n",
       "2724      2  0.998421         wrapper\n",
       "2731      1  0.999005           yeast\n",
       "2732      1  0.095290          yellow\n",
       "2732      2  0.057607          yellow\n",
       "2732      3  0.130374          yellow\n",
       "2732      4  0.084462          yellow\n",
       "2732      5  0.053709          yellow\n",
       "2732      6  0.100921          yellow\n",
       "2732      7  0.099621          yellow\n",
       "2732      8  0.103953          yellow\n",
       "2732      9  0.234760          yellow\n",
       "2732     10  0.038982          yellow\n",
       "2735      1  0.007138         yoghurt\n",
       "2735      3  0.988658         yoghurt\n",
       "2736      1  0.079175          yogurt\n",
       "2736      3  0.729790          yogurt\n",
       "2736      4  0.010327          yogurt\n",
       "2736      5  0.179866          yogurt\n",
       "2737      1  0.976516            yolk\n",
       "2737      8  0.000910            yolk\n",
       "2737     10  0.021842            yolk\n",
       "2744      3  0.105967           yukon\n",
       "2744      7  0.887475           yukon\n",
       "\n",
       "[1483 rows x 3 columns], R=30, lambda_step=0.01, plot_opts={'xlab': 'PC1', 'ylab': 'PC2'}, topic_order=[10, 4, 8, 6, 2, 7, 5, 1, 9, 3])"
      ]
     },
     "execution_count": 47,
     "metadata": {},
     "output_type": "execute_result"
    }
   ],
   "source": [
    "lda = LDA(n_components=10, random_state=42)\n",
    "lda.fit_transform(df_cv)\n",
    "pyLDAvis.sklearn.prepare(lda, df_cv, cvec)"
   ]
  },
  {
   "cell_type": "markdown",
   "metadata": {},
   "source": [
    "Using LDA and GridSearch I was able to find the best parameters. With this model, using 10 components was optimal. The topics seemed to be as followed:"
   ]
  },
  {
   "cell_type": "markdown",
   "metadata": {},
   "source": [
    "* French (wine, thyme, bay leaves, celery, broth)\n",
    "* South-east Asian (Chinese) (ginger, rice, soy, sesame)\n",
    "* Japanese (miso, mushroom, panko, salmon, dashi)\n",
    "* Baking (cakes and cookies)\n",
    "* Indian (spices: garam masala, tumeric, curry, garlic, ghee)\n",
    "* Mexican (sourcream, shredded cheese, tortilla)\n",
    "* Dips, Dressings, and Sauces (spices, creams, sauces)\n",
    "* Italian (pasta and cheeses)\n",
    "* Cajun, Creole? (Tomato, beans, sausage, chicken, shrimp, okra)\n",
    "* Thai (lemongrass, noodle, fish, peanut)\n",
    "                                                           "
   ]
  },
  {
   "cell_type": "markdown",
   "metadata": {},
   "source": [
    "# Conclusion\n",
    "<a id='Conclusion'></a>"
   ]
  },
  {
   "cell_type": "markdown",
   "metadata": {},
   "source": [
    "By following very basic guidelines, we will be able to separate recipes into 10 different categories. By focusing on spices, vegetables, and starch, this model will be robust enough to handle substitutions and similarities of ingredients."
   ]
  },
  {
   "cell_type": "markdown",
   "metadata": {},
   "source": [
    "# Guidelines for Out-Sourcing"
   ]
  },
  {
   "cell_type": "markdown",
   "metadata": {},
   "source": [
    "Take into consideration the most frequent ingredients for each cuisine style. The three steps you should take are: spices, produce, starch.\n",
    "1. The most important for classification are spices:\n",
    "    * are they savoury or sweet? (Sweet is dessert. Savoury is main)\n",
    "    * spices unique/common in certain areas of the world (garam masala in indian)?\n",
    "2. Second most important are vegetables.\n",
    "    * Bean sprouts, lime, lemongrass (Thai)\n",
    "    * Jalepeno, pablano, chipotle (Mexican)\n",
    "3. Third would be starch.\n",
    "    * bread = Northern European\n",
    "    * pasta, dough = Italian\n",
    "    * tortilla = Mexican\n",
    "    * rice = South-East Asian\n",
    "    * noodle = Thai\n",
    "                     "
   ]
  },
  {
   "cell_type": "markdown",
   "metadata": {},
   "source": [
    "# Taking it further (If I had more than 4 hours!)"
   ]
  },
  {
   "cell_type": "markdown",
   "metadata": {},
   "source": [
    "Now that we have successfully identified 10 \"topics\" of cuisine. I would like to use hierarchical LDA. I would look at these topics individually and try and find the common categories within them. For examples, Desserts could be seperated into Cookies, Cakes, Squares, Pies etc. Doing this would also most likely allow for more clusters/categories within the Asian category where I am sure Japanese, Chinese, Korean, etc food are being clustered together because there are less of them compared to the larger categories (Italian, Mexican, etc.), and they share similar ingredients in comparison to other geographical areas. "
   ]
  },
  {
   "cell_type": "code",
   "execution_count": null,
   "metadata": {},
   "outputs": [],
   "source": []
  }
 ],
 "metadata": {
  "kernelspec": {
   "display_name": "Python 3",
   "language": "python",
   "name": "python3"
  },
  "language_info": {
   "codemirror_mode": {
    "name": "ipython",
    "version": 3
   },
   "file_extension": ".py",
   "mimetype": "text/x-python",
   "name": "python",
   "nbconvert_exporter": "python",
   "pygments_lexer": "ipython3",
   "version": "3.7.3"
  }
 },
 "nbformat": 4,
 "nbformat_minor": 2
}
